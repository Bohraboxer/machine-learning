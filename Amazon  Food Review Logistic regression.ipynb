{
 "cells": [
  {
   "cell_type": "markdown",
   "metadata": {},
   "source": [
    "# Amazon Food Reviews using Logistic Regression \n",
    "\n",
    "\n",
    "Importing necessary packages"
   ]
  },
  {
   "cell_type": "code",
   "execution_count": 2,
   "metadata": {},
   "outputs": [
    {
     "name": "stdout",
     "output_type": "stream",
     "text": [
      "[nltk_data] Downloading package stopwords to\n",
      "[nltk_data]     /Users/rohitbohra/nltk_data...\n",
      "[nltk_data]   Package stopwords is already up-to-date!\n"
     ]
    }
   ],
   "source": [
    "%matplotlib inline\n",
    "import warnings\n",
    "warnings.filterwarnings(\"ignore\")\n",
    "\n",
    "import sqlite3\n",
    "import pandas as pd\n",
    "import numpy as np\n",
    "import nltk\n",
    "nltk.download('stopwords')\n",
    "import string\n",
    "import matplotlib.pyplot as plt\n",
    "import seaborn as sns\n",
    "from sklearn.model_selection import TimeSeriesSplit\n",
    "from sklearn import preprocessing\n",
    "from sklearn.feature_extraction.text import TfidfTransformer\n",
    "from sklearn.feature_extraction.text import TfidfVectorizer\n",
    "\n",
    "from sklearn.feature_extraction.text import CountVectorizer\n",
    "from sklearn.metrics import confusion_matrix\n",
    "from sklearn import metrics\n",
    "from sklearn.metrics import roc_curve, auc\n",
    "from nltk.stem.porter import PorterStemmer\n",
    "from sklearn.model_selection import train_test_split\n",
    "from sklearn.model_selection import GridSearchCV\n",
    "\n",
    "import re\n",
    "# Tutorial about Python regular expressions: https://pymotw.com/2/re/\n",
    "import string\n",
    "from nltk.corpus import stopwords\n",
    "from nltk.stem import PorterStemmer\n",
    "from nltk.stem.wordnet import WordNetLemmatizer\n",
    "from imblearn.over_sampling import SMOTE\n",
    "\n",
    "from gensim.models import Word2Vec\n",
    "from gensim.models import KeyedVectors\n",
    "import pickle\n",
    "\n",
    "from tqdm import tqdm\n",
    "import os\n",
    "\n",
    "#Metrics\n",
    "from sklearn.metrics import accuracy_score\n",
    "from sklearn.metrics import confusion_matrix\n",
    "from sklearn.metrics import precision_score\n",
    "from sklearn.metrics import f1_score\n",
    "from sklearn.metrics import recall_score\n",
    "import pickle\n",
    "\n"
   ]
  },
  {
   "cell_type": "code",
   "execution_count": 3,
   "metadata": {},
   "outputs": [
    {
     "name": "stdout",
     "output_type": "stream",
     "text": [
      "Number of data points in our data (525814, 10)\n"
     ]
    },
    {
     "data": {
      "text/html": [
       "<div>\n",
       "<style scoped>\n",
       "    .dataframe tbody tr th:only-of-type {\n",
       "        vertical-align: middle;\n",
       "    }\n",
       "\n",
       "    .dataframe tbody tr th {\n",
       "        vertical-align: top;\n",
       "    }\n",
       "\n",
       "    .dataframe thead th {\n",
       "        text-align: right;\n",
       "    }\n",
       "</style>\n",
       "<table border=\"1\" class=\"dataframe\">\n",
       "  <thead>\n",
       "    <tr style=\"text-align: right;\">\n",
       "      <th></th>\n",
       "      <th>Id</th>\n",
       "      <th>ProductId</th>\n",
       "      <th>UserId</th>\n",
       "      <th>ProfileName</th>\n",
       "      <th>HelpfulnessNumerator</th>\n",
       "      <th>HelpfulnessDenominator</th>\n",
       "      <th>Score</th>\n",
       "      <th>Time</th>\n",
       "      <th>Summary</th>\n",
       "      <th>Text</th>\n",
       "    </tr>\n",
       "  </thead>\n",
       "  <tbody>\n",
       "    <tr>\n",
       "      <th>0</th>\n",
       "      <td>1</td>\n",
       "      <td>B001E4KFG0</td>\n",
       "      <td>A3SGXH7AUHU8GW</td>\n",
       "      <td>delmartian</td>\n",
       "      <td>1</td>\n",
       "      <td>1</td>\n",
       "      <td>1</td>\n",
       "      <td>1303862400</td>\n",
       "      <td>Good Quality Dog Food</td>\n",
       "      <td>I have bought several of the Vitality canned d...</td>\n",
       "    </tr>\n",
       "    <tr>\n",
       "      <th>1</th>\n",
       "      <td>2</td>\n",
       "      <td>B00813GRG4</td>\n",
       "      <td>A1D87F6ZCVE5NK</td>\n",
       "      <td>dll pa</td>\n",
       "      <td>0</td>\n",
       "      <td>0</td>\n",
       "      <td>0</td>\n",
       "      <td>1346976000</td>\n",
       "      <td>Not as Advertised</td>\n",
       "      <td>Product arrived labeled as Jumbo Salted Peanut...</td>\n",
       "    </tr>\n",
       "    <tr>\n",
       "      <th>2</th>\n",
       "      <td>3</td>\n",
       "      <td>B000LQOCH0</td>\n",
       "      <td>ABXLMWJIXXAIN</td>\n",
       "      <td>Natalia Corres \"Natalia Corres\"</td>\n",
       "      <td>1</td>\n",
       "      <td>1</td>\n",
       "      <td>1</td>\n",
       "      <td>1219017600</td>\n",
       "      <td>\"Delight\" says it all</td>\n",
       "      <td>This is a confection that has been around a fe...</td>\n",
       "    </tr>\n",
       "  </tbody>\n",
       "</table>\n",
       "</div>"
      ],
      "text/plain": [
       "   Id   ProductId          UserId                      ProfileName  \\\n",
       "0   1  B001E4KFG0  A3SGXH7AUHU8GW                       delmartian   \n",
       "1   2  B00813GRG4  A1D87F6ZCVE5NK                           dll pa   \n",
       "2   3  B000LQOCH0   ABXLMWJIXXAIN  Natalia Corres \"Natalia Corres\"   \n",
       "\n",
       "   HelpfulnessNumerator  HelpfulnessDenominator  Score        Time  \\\n",
       "0                     1                       1      1  1303862400   \n",
       "1                     0                       0      0  1346976000   \n",
       "2                     1                       1      1  1219017600   \n",
       "\n",
       "                 Summary                                               Text  \n",
       "0  Good Quality Dog Food  I have bought several of the Vitality canned d...  \n",
       "1      Not as Advertised  Product arrived labeled as Jumbo Salted Peanut...  \n",
       "2  \"Delight\" says it all  This is a confection that has been around a fe...  "
      ]
     },
     "execution_count": 3,
     "metadata": {},
     "output_type": "execute_result"
    }
   ],
   "source": [
    "# using the SQLite Table to read data.\n",
    "con = sqlite3.connect('database.sqlite') \n",
    "#filtering only positive and negative reviews i.e. \n",
    "# not taking into consideration those reviews with Score=3\n",
    "filtered_data = pd.read_sql_query(\"\"\" SELECT * FROM Reviews WHERE Score != 3 \"\"\", con) \n",
    "\n",
    "\n",
    "# Give reviews with Score>3 a positive rating, and reviews with a score<3 a negative rating.\n",
    "def partition(x):\n",
    "    if x < 3:\n",
    "        return 0\n",
    "    return 1\n",
    "\n",
    "#changing reviews with score less than 3 to be positive and vice-versa\n",
    "actualScore = filtered_data['Score']\n",
    "positiveNegative = actualScore.map(partition) \n",
    "filtered_data['Score'] = positiveNegative\n",
    "print(\"Number of data points in our data\", filtered_data.shape)\n",
    "filtered_data.head(3)"
   ]
  },
  {
   "cell_type": "code",
   "execution_count": 4,
   "metadata": {},
   "outputs": [
    {
     "data": {
      "text/html": [
       "<div>\n",
       "<style scoped>\n",
       "    .dataframe tbody tr th:only-of-type {\n",
       "        vertical-align: middle;\n",
       "    }\n",
       "\n",
       "    .dataframe tbody tr th {\n",
       "        vertical-align: top;\n",
       "    }\n",
       "\n",
       "    .dataframe thead th {\n",
       "        text-align: right;\n",
       "    }\n",
       "</style>\n",
       "<table border=\"1\" class=\"dataframe\">\n",
       "  <thead>\n",
       "    <tr style=\"text-align: right;\">\n",
       "      <th></th>\n",
       "      <th>Id</th>\n",
       "      <th>ProductId</th>\n",
       "      <th>UserId</th>\n",
       "      <th>ProfileName</th>\n",
       "      <th>HelpfulnessNumerator</th>\n",
       "      <th>HelpfulnessDenominator</th>\n",
       "      <th>Score</th>\n",
       "      <th>Time</th>\n",
       "      <th>Summary</th>\n",
       "      <th>Text</th>\n",
       "    </tr>\n",
       "  </thead>\n",
       "  <tbody>\n",
       "    <tr>\n",
       "      <th>0</th>\n",
       "      <td>78445</td>\n",
       "      <td>B000HDL1RQ</td>\n",
       "      <td>AR5J8UI46CURR</td>\n",
       "      <td>Geetha Krishnan</td>\n",
       "      <td>2</td>\n",
       "      <td>2</td>\n",
       "      <td>5</td>\n",
       "      <td>1199577600</td>\n",
       "      <td>LOACKER QUADRATINI VANILLA WAFERS</td>\n",
       "      <td>DELICIOUS WAFERS. I FIND THAT EUROPEAN WAFERS ...</td>\n",
       "    </tr>\n",
       "    <tr>\n",
       "      <th>1</th>\n",
       "      <td>138317</td>\n",
       "      <td>B000HDOPYC</td>\n",
       "      <td>AR5J8UI46CURR</td>\n",
       "      <td>Geetha Krishnan</td>\n",
       "      <td>2</td>\n",
       "      <td>2</td>\n",
       "      <td>5</td>\n",
       "      <td>1199577600</td>\n",
       "      <td>LOACKER QUADRATINI VANILLA WAFERS</td>\n",
       "      <td>DELICIOUS WAFERS. I FIND THAT EUROPEAN WAFERS ...</td>\n",
       "    </tr>\n",
       "    <tr>\n",
       "      <th>2</th>\n",
       "      <td>138277</td>\n",
       "      <td>B000HDOPYM</td>\n",
       "      <td>AR5J8UI46CURR</td>\n",
       "      <td>Geetha Krishnan</td>\n",
       "      <td>2</td>\n",
       "      <td>2</td>\n",
       "      <td>5</td>\n",
       "      <td>1199577600</td>\n",
       "      <td>LOACKER QUADRATINI VANILLA WAFERS</td>\n",
       "      <td>DELICIOUS WAFERS. I FIND THAT EUROPEAN WAFERS ...</td>\n",
       "    </tr>\n",
       "    <tr>\n",
       "      <th>3</th>\n",
       "      <td>73791</td>\n",
       "      <td>B000HDOPZG</td>\n",
       "      <td>AR5J8UI46CURR</td>\n",
       "      <td>Geetha Krishnan</td>\n",
       "      <td>2</td>\n",
       "      <td>2</td>\n",
       "      <td>5</td>\n",
       "      <td>1199577600</td>\n",
       "      <td>LOACKER QUADRATINI VANILLA WAFERS</td>\n",
       "      <td>DELICIOUS WAFERS. I FIND THAT EUROPEAN WAFERS ...</td>\n",
       "    </tr>\n",
       "    <tr>\n",
       "      <th>4</th>\n",
       "      <td>155049</td>\n",
       "      <td>B000PAQ75C</td>\n",
       "      <td>AR5J8UI46CURR</td>\n",
       "      <td>Geetha Krishnan</td>\n",
       "      <td>2</td>\n",
       "      <td>2</td>\n",
       "      <td>5</td>\n",
       "      <td>1199577600</td>\n",
       "      <td>LOACKER QUADRATINI VANILLA WAFERS</td>\n",
       "      <td>DELICIOUS WAFERS. I FIND THAT EUROPEAN WAFERS ...</td>\n",
       "    </tr>\n",
       "  </tbody>\n",
       "</table>\n",
       "</div>"
      ],
      "text/plain": [
       "       Id   ProductId         UserId      ProfileName  HelpfulnessNumerator  \\\n",
       "0   78445  B000HDL1RQ  AR5J8UI46CURR  Geetha Krishnan                     2   \n",
       "1  138317  B000HDOPYC  AR5J8UI46CURR  Geetha Krishnan                     2   \n",
       "2  138277  B000HDOPYM  AR5J8UI46CURR  Geetha Krishnan                     2   \n",
       "3   73791  B000HDOPZG  AR5J8UI46CURR  Geetha Krishnan                     2   \n",
       "4  155049  B000PAQ75C  AR5J8UI46CURR  Geetha Krishnan                     2   \n",
       "\n",
       "   HelpfulnessDenominator  Score        Time  \\\n",
       "0                       2      5  1199577600   \n",
       "1                       2      5  1199577600   \n",
       "2                       2      5  1199577600   \n",
       "3                       2      5  1199577600   \n",
       "4                       2      5  1199577600   \n",
       "\n",
       "                             Summary  \\\n",
       "0  LOACKER QUADRATINI VANILLA WAFERS   \n",
       "1  LOACKER QUADRATINI VANILLA WAFERS   \n",
       "2  LOACKER QUADRATINI VANILLA WAFERS   \n",
       "3  LOACKER QUADRATINI VANILLA WAFERS   \n",
       "4  LOACKER QUADRATINI VANILLA WAFERS   \n",
       "\n",
       "                                                Text  \n",
       "0  DELICIOUS WAFERS. I FIND THAT EUROPEAN WAFERS ...  \n",
       "1  DELICIOUS WAFERS. I FIND THAT EUROPEAN WAFERS ...  \n",
       "2  DELICIOUS WAFERS. I FIND THAT EUROPEAN WAFERS ...  \n",
       "3  DELICIOUS WAFERS. I FIND THAT EUROPEAN WAFERS ...  \n",
       "4  DELICIOUS WAFERS. I FIND THAT EUROPEAN WAFERS ...  "
      ]
     },
     "execution_count": 4,
     "metadata": {},
     "output_type": "execute_result"
    }
   ],
   "source": [
    "display= pd.read_sql_query(\"\"\"\n",
    "SELECT *\n",
    "FROM Reviews\n",
    "WHERE Score != 3 AND UserId=\"AR5J8UI46CURR\"\n",
    "ORDER BY ProductID\n",
    "\"\"\", con)\n",
    "display.head()"
   ]
  },
  {
   "cell_type": "code",
   "execution_count": 5,
   "metadata": {},
   "outputs": [],
   "source": [
    "#Sorting data according to ProductId in ascending order\n",
    "sorted_data=filtered_data.sort_values('ProductId', axis=0, ascending=True, inplace=False, kind='quicksort', na_position='last')"
   ]
  },
  {
   "cell_type": "code",
   "execution_count": 6,
   "metadata": {},
   "outputs": [
    {
     "data": {
      "text/plain": [
       "(364173, 10)"
      ]
     },
     "execution_count": 6,
     "metadata": {},
     "output_type": "execute_result"
    }
   ],
   "source": [
    "#Deduplication of entries\n",
    "final=sorted_data.drop_duplicates(subset={\"UserId\",\"ProfileName\",\"Time\",\"Text\"}, keep='first', inplace=False)\n",
    "final.shape"
   ]
  },
  {
   "cell_type": "code",
   "execution_count": 7,
   "metadata": {},
   "outputs": [
    {
     "data": {
      "text/plain": [
       "69.25890143662969"
      ]
     },
     "execution_count": 7,
     "metadata": {},
     "output_type": "execute_result"
    }
   ],
   "source": [
    "#Checking to see how much % of data still remains\n",
    "(final['Id'].size*1.0)/(filtered_data['Id'].size*1.0)*100"
   ]
  },
  {
   "cell_type": "code",
   "execution_count": 8,
   "metadata": {},
   "outputs": [
    {
     "data": {
      "text/html": [
       "<div>\n",
       "<style scoped>\n",
       "    .dataframe tbody tr th:only-of-type {\n",
       "        vertical-align: middle;\n",
       "    }\n",
       "\n",
       "    .dataframe tbody tr th {\n",
       "        vertical-align: top;\n",
       "    }\n",
       "\n",
       "    .dataframe thead th {\n",
       "        text-align: right;\n",
       "    }\n",
       "</style>\n",
       "<table border=\"1\" class=\"dataframe\">\n",
       "  <thead>\n",
       "    <tr style=\"text-align: right;\">\n",
       "      <th></th>\n",
       "      <th>Id</th>\n",
       "      <th>ProductId</th>\n",
       "      <th>UserId</th>\n",
       "      <th>ProfileName</th>\n",
       "      <th>HelpfulnessNumerator</th>\n",
       "      <th>HelpfulnessDenominator</th>\n",
       "      <th>Score</th>\n",
       "      <th>Time</th>\n",
       "      <th>Summary</th>\n",
       "      <th>Text</th>\n",
       "    </tr>\n",
       "  </thead>\n",
       "  <tbody>\n",
       "    <tr>\n",
       "      <th>0</th>\n",
       "      <td>64422</td>\n",
       "      <td>B000MIDROQ</td>\n",
       "      <td>A161DK06JJMCYF</td>\n",
       "      <td>J. E. Stephens \"Jeanne\"</td>\n",
       "      <td>3</td>\n",
       "      <td>1</td>\n",
       "      <td>5</td>\n",
       "      <td>1224892800</td>\n",
       "      <td>Bought This for My Son at College</td>\n",
       "      <td>My son loves spaghetti so I didn't hesitate or...</td>\n",
       "    </tr>\n",
       "    <tr>\n",
       "      <th>1</th>\n",
       "      <td>44737</td>\n",
       "      <td>B001EQ55RW</td>\n",
       "      <td>A2V0I904FH7ABY</td>\n",
       "      <td>Ram</td>\n",
       "      <td>3</td>\n",
       "      <td>2</td>\n",
       "      <td>4</td>\n",
       "      <td>1212883200</td>\n",
       "      <td>Pure cocoa taste with crunchy almonds inside</td>\n",
       "      <td>It was almost a 'love at first bite' - the per...</td>\n",
       "    </tr>\n",
       "  </tbody>\n",
       "</table>\n",
       "</div>"
      ],
      "text/plain": [
       "      Id   ProductId          UserId              ProfileName  \\\n",
       "0  64422  B000MIDROQ  A161DK06JJMCYF  J. E. Stephens \"Jeanne\"   \n",
       "1  44737  B001EQ55RW  A2V0I904FH7ABY                      Ram   \n",
       "\n",
       "   HelpfulnessNumerator  HelpfulnessDenominator  Score        Time  \\\n",
       "0                     3                       1      5  1224892800   \n",
       "1                     3                       2      4  1212883200   \n",
       "\n",
       "                                        Summary  \\\n",
       "0             Bought This for My Son at College   \n",
       "1  Pure cocoa taste with crunchy almonds inside   \n",
       "\n",
       "                                                Text  \n",
       "0  My son loves spaghetti so I didn't hesitate or...  \n",
       "1  It was almost a 'love at first bite' - the per...  "
      ]
     },
     "execution_count": 8,
     "metadata": {},
     "output_type": "execute_result"
    }
   ],
   "source": [
    "display= pd.read_sql_query(\"\"\"\n",
    "SELECT *\n",
    "FROM Reviews\n",
    "WHERE Score != 3 AND Id=44737 OR Id=64422\n",
    "ORDER BY ProductID\n",
    "\"\"\", con)\n",
    "\n",
    "display.head()"
   ]
  },
  {
   "cell_type": "code",
   "execution_count": 9,
   "metadata": {},
   "outputs": [],
   "source": [
    "final=final[final.HelpfulnessNumerator<=final.HelpfulnessDenominator]"
   ]
  },
  {
   "cell_type": "code",
   "execution_count": 10,
   "metadata": {},
   "outputs": [
    {
     "name": "stdout",
     "output_type": "stream",
     "text": [
      "(364171, 10)\n"
     ]
    },
    {
     "data": {
      "text/plain": [
       "1    307061\n",
       "0     57110\n",
       "Name: Score, dtype: int64"
      ]
     },
     "execution_count": 10,
     "metadata": {},
     "output_type": "execute_result"
    }
   ],
   "source": [
    "#Before starting the next phase of preprocessing lets see the number of entries left\n",
    "print(final.shape)\n",
    "\n",
    "#How many positive and negative reviews are present in our dataset?\n",
    "final['Score'].value_counts()"
   ]
  },
  {
   "cell_type": "code",
   "execution_count": 11,
   "metadata": {},
   "outputs": [
    {
     "name": "stdout",
     "output_type": "stream",
     "text": [
      "6\n",
      "I set aside at least an hour each day to read to my son (3 y/o). At this point, I consider myself a connoisseur of children's books and this is one of the best. Santa Clause put this under the tree. Since then, we've read it perpetually and he loves it.<br /><br />First, this book taught him the months of the year.<br /><br />Second, it's a pleasure to read. Well suited to 1.5 y/o old to 4+.<br /><br />Very few children's books are worth owning. Most should be borrowed from the library. This book, however, deserves a permanent spot on your shelf. Sendak's best.\n"
     ]
    }
   ],
   "source": [
    "# find sentences containing HTML tags\n",
    "import re\n",
    "i=0;\n",
    "for sent in final['Text'].values:\n",
    "    if (len(re.findall('<.*?>', sent))):\n",
    "        print(i)\n",
    "        print(sent)\n",
    "        break;\n",
    "    i += 1;"
   ]
  },
  {
   "cell_type": "code",
   "execution_count": 12,
   "metadata": {},
   "outputs": [
    {
     "name": "stdout",
     "output_type": "stream",
     "text": [
      "{'then', 'will', 'again', 'its', 'what', 'those', 's', \"wasn't\", 'only', 'own', 'y', 'how', 'have', 'here', 'himself', 'during', 'between', 'not', 'because', 'in', 'same', 'now', 'mustn', \"won't\", 'and', 'isn', 'more', 'be', 'out', 'why', 'haven', 'hers', 'herself', 'll', 'each', 'few', 'we', 'once', 'the', 'do', 'didn', 'just', 'when', 'some', 'no', 'did', 'an', 'm', 'them', 'if', 'but', 'into', 'had', 'were', 'so', 'aren', 'does', 'myself', 'through', 'should', 'ain', 'who', 'other', 'yourselves', 'doesn', 'been', 'his', \"haven't\", 'your', 'me', 'by', 'him', 'wasn', 'up', 'can', 'was', 't', \"wouldn't\", 'as', 'which', 'this', 'is', 'weren', 'against', 'a', 'theirs', 'they', 'about', 'shan', 'i', 'where', 'he', 'over', 'hadn', \"needn't\", 'has', 'for', 'off', 'any', 'hasn', \"isn't\", 'below', 'of', 'both', 'don', 'while', 'doing', 'ourselves', \"you'll\", 'that', \"that'll\", 'to', 'd', 'such', \"shan't\", 'won', 'itself', 'you', \"you're\", 'under', \"doesn't\", 'down', 'before', 'nor', 'these', 'ma', \"hasn't\", 'couldn', \"hadn't\", 'on', \"shouldn't\", 'above', \"it's\", 'until', \"she's\", 'at', 'with', 'whom', 'too', 're', 'am', 'having', 'being', 'needn', 'themselves', \"couldn't\", \"mustn't\", \"aren't\", 'after', 'o', 'it', 'shouldn', \"you've\", 'ours', 'very', 'she', 'mightn', 'further', 'yours', 'all', 'are', \"don't\", \"didn't\", \"you'd\", 'most', 'my', 'or', 'our', 'wouldn', 've', 'their', 'from', 'her', \"mightn't\", 'there', \"weren't\", 'than', \"should've\", 'yourself'}\n",
      "************************************\n",
      "tasti\n"
     ]
    }
   ],
   "source": [
    "stop = set(stopwords.words('english')) #set of stopwords\n",
    "sno = nltk.stem.SnowballStemmer('english') #initialising the snowball stemmer\n",
    "\n",
    "def cleanhtml(sentence): #function to clean the word of any html-tags\n",
    "    cleanr = re.compile('<.*?>')\n",
    "    cleantext = re.sub(cleanr, ' ', sentence)\n",
    "    return cleantext\n",
    "def cleanpunc(sentence): #function to clean the word of any punctuation or special characters\n",
    "    cleaned = re.sub(r'[?|!|\\'|\"|#]',r'',sentence)\n",
    "    cleaned = re.sub(r'[.|,|)|(|\\|/]',r' ',cleaned)\n",
    "    return  cleaned\n",
    "print(stop)\n",
    "print('************************************')\n",
    "print(sno.stem('tasty'))"
   ]
  },
  {
   "cell_type": "code",
   "execution_count": 13,
   "metadata": {},
   "outputs": [],
   "source": [
    "#Code for implementing step-by-step the checks mentioned in the pre-processing phase\n",
    "# this code takes a while to run as it needs to run on 500k sentences.\n",
    "if not os.path.isfile('final.sqlite'):\n",
    "    i=0\n",
    "    str1=' '\n",
    "    final_string=[]\n",
    "    all_positive_words=[] # store words from +ve reviews here\n",
    "    all_negative_words=[] # store words from -ve reviews here.\n",
    "    s=''\n",
    "    for sent in tqdm(final['Text'].values):\n",
    "        filtered_sentence=[]\n",
    "        #print(sent);\n",
    "        sent=cleanhtml(sent) # remove HTMl tags\n",
    "        for w in sent.split():\n",
    "            for cleaned_words in cleanpunc(w).split():\n",
    "                if((cleaned_words.isalpha()) & (len(cleaned_words)>2)):    \n",
    "                    if(cleaned_words.lower() not in stop):\n",
    "                        s=(sno.stem(cleaned_words.lower())).encode('utf8')\n",
    "                        filtered_sentence.append(s)\n",
    "                        if (final['Score'].values)[i] == 'positive': \n",
    "                            all_positive_words.append(s) #list of all words used to describe positive reviews\n",
    "                        if(final['Score'].values)[i] == 'negative':\n",
    "                            all_negative_words.append(s) #list of all words used to describe negative reviews reviews\n",
    "                    else:\n",
    "                        continue\n",
    "                else:\n",
    "                    continue \n",
    "        #print(filtered_sentence)\n",
    "        str1 = b\" \".join(filtered_sentence) #final string of cleaned words\n",
    "        #print(\"***********************************************************************\")\n",
    "\n",
    "        final_string.append(str1)\n",
    "        i+=1\n",
    "\n",
    "    #############---- storing the data into .sqlite file ------########################\n",
    "    final['CleanedText']=final_string #adding a column of CleanedText which displays the data after pre-processing of the review \n",
    "    final['CleanedText']=final['CleanedText'].str.decode(\"utf-8\")\n",
    "        # store final table into an SQlLite table for future.\n",
    "    conn = sqlite3.connect('final.sqlite')\n",
    "    c=conn.cursor()\n",
    "    conn.text_factory = str\n",
    "    final.to_sql('Reviews', conn,  schema=None, if_exists='replace', \\\n",
    "                 index=True, index_label=None, chunksize=None, dtype=None)\n",
    "    conn.close()\n",
    "    \n",
    "    \n",
    "    with open('positive_words.pkl', 'wb') as f:\n",
    "        pickle.dump(all_positive_words, f)\n",
    "    with open('negitive_words.pkl', 'wb') as f:\n",
    "        pickle.dump(all_negative_words, f)"
   ]
  },
  {
   "cell_type": "code",
   "execution_count": 14,
   "metadata": {},
   "outputs": [],
   "source": [
    "if os.path.isfile('final.sqlite'):\n",
    "    conn = sqlite3.connect('final.sqlite')\n",
    "    final = pd.read_sql_query(\"\"\" SELECT * FROM Reviews WHERE Score != 3 \"\"\", conn)\n",
    "    conn.close()\n",
    "else:\n",
    "    print(\"Please the above cell\")\n",
    "    "
   ]
  },
  {
   "cell_type": "code",
   "execution_count": 15,
   "metadata": {},
   "outputs": [],
   "source": [
    "final.to_pickle(\"./amazon.pkl\")"
   ]
  },
  {
   "cell_type": "code",
   "execution_count": 16,
   "metadata": {},
   "outputs": [
    {
     "data": {
      "text/plain": [
       "1    307061\n",
       "0     57110\n",
       "Name: Score, dtype: int64"
      ]
     },
     "execution_count": 16,
     "metadata": {},
     "output_type": "execute_result"
    }
   ],
   "source": [
    "final['Score'].value_counts()"
   ]
  },
  {
   "cell_type": "code",
   "execution_count": 17,
   "metadata": {},
   "outputs": [],
   "source": [
    "# read data from pickle file from previous stage\n",
    "data = pd.read_pickle(\"./amazon.pkl\")"
   ]
  },
  {
   "cell_type": "code",
   "execution_count": 18,
   "metadata": {},
   "outputs": [],
   "source": [
    "# Random sampling \n",
    "data = data.take(np.random.permutation(len(data))[:100000])"
   ]
  },
  {
   "cell_type": "code",
   "execution_count": 19,
   "metadata": {},
   "outputs": [
    {
     "name": "stdout",
     "output_type": "stream",
     "text": [
      "(100000, 12)\n",
      "1    84274\n",
      "0    15726\n",
      "Name: Score, dtype: int64\n"
     ]
    }
   ],
   "source": [
    "data['Time'] = pd.to_datetime(data['Time'])\n",
    "# Sort by time\n",
    "final = data.sort_values(by='Time')\n",
    "\n",
    "print(final.shape)\n",
    "print(final['Score'].value_counts())"
   ]
  },
  {
   "cell_type": "markdown",
   "metadata": {},
   "source": [
    "**NOTE**: Taking a sample of 100000 data points.\n",
    "70000 data points as training data and 30000 data points as test data"
   ]
  },
  {
   "cell_type": "code",
   "execution_count": 20,
   "metadata": {},
   "outputs": [],
   "source": [
    "# Spliting into Train and test\n",
    "x_train, x_test, y_train, y_test = train_test_split(final['CleanedText'].values,final['Score'].values,test_size=0.3,shuffle=False)"
   ]
  },
  {
   "cell_type": "markdown",
   "metadata": {},
   "source": [
    "## Bag of Words "
   ]
  },
  {
   "cell_type": "code",
   "execution_count": 21,
   "metadata": {},
   "outputs": [
    {
     "name": "stdout",
     "output_type": "stream",
     "text": [
      "Train Data Size:  (70000, 2000)\n",
      "Test Data Size:  (30000, 2000)\n"
     ]
    }
   ],
   "source": [
    "count_vect = CountVectorizer(max_features=2000,min_df=20) \n",
    "\n",
    "x_train = count_vect.fit_transform(x_train)\n",
    "x_test = count_vect.transform(x_test)\n",
    "\n",
    "\n",
    "#Normalize train and test data\n",
    "x_train = preprocessing.normalize(x_train)\n",
    "print(\"Train Data Size: \",x_train.shape)\n",
    "x_test = preprocessing.normalize(x_test)\n",
    "print(\"Test Data Size: \",x_test.shape)"
   ]
  },
  {
   "cell_type": "markdown",
   "metadata": {},
   "source": [
    "**Grid Search technique** to find the best c value and choosing between L1 and L2 regularizer"
   ]
  },
  {
   "cell_type": "code",
   "execution_count": 22,
   "metadata": {},
   "outputs": [
    {
     "name": "stdout",
     "output_type": "stream",
     "text": [
      "Fitting 10 folds for each of 30 candidates, totalling 300 fits\n"
     ]
    },
    {
     "name": "stderr",
     "output_type": "stream",
     "text": [
      "[Parallel(n_jobs=-1)]: Using backend LokyBackend with 4 concurrent workers.\n",
      "[Parallel(n_jobs=-1)]: Done  42 tasks      | elapsed:   33.1s\n",
      "[Parallel(n_jobs=-1)]: Done 192 tasks      | elapsed:  1.4min\n",
      "[Parallel(n_jobs=-1)]: Done 300 out of 300 | elapsed:  1.6min finished\n"
     ]
    },
    {
     "name": "stdout",
     "output_type": "stream",
     "text": [
      "The best HyperParameter:  {'C': 10, 'penalty': 'l2'}\n",
      "The best Accuracy: 91.28%\n"
     ]
    }
   ],
   "source": [
    "from sklearn.model_selection import GridSearchCV\n",
    "from sklearn.linear_model import LogisticRegression\n",
    "\n",
    "clf = LogisticRegression()\n",
    "#params we need to try on classifier\n",
    "param_grid = {'C':[1000,500,100,50,10,5,1,0.5,0.1,0.05,0.01,0.005,0.001,0.0005,0.0001],\n",
    "             'penalty':['l1','l2']} \n",
    "tscv = TimeSeriesSplit(n_splits=10) #For time based splitting\n",
    "gsv = GridSearchCV(clf,param_grid,cv=tscv,verbose=1, n_jobs=-1,scoring='f1_micro')\n",
    "gsv.fit(x_train,y_train)\n",
    "print(\"The best HyperParameter: \",gsv.best_params_)\n",
    "print(\"The best Accuracy: %.2f%%\"%(gsv.best_score_*100))\n"
   ]
  },
  {
   "cell_type": "code",
   "execution_count": 23,
   "metadata": {},
   "outputs": [],
   "source": [
    "# This function plots the confusion, precision and recall matrices\n",
    "def plot_confusion_matrix(x_test, y_pred):\n",
    "    C = confusion_matrix(x_test, y_pred)\n",
    "    \n",
    "    A =(((C.T)/(C.sum(axis=1))).T)\n",
    "   \n",
    "    B =(C/C.sum(axis=0))\n",
    " \n",
    "    plt.figure(figsize=(20,4))\n",
    "    \n",
    "    labels = [0,1]\n",
    "    \n",
    "    plt.subplot(1, 3, 1)\n",
    "    sns.heatmap(C, annot=True, fmt=\"d\", xticklabels=labels, yticklabels=labels)\n",
    "    plt.xlabel('Predicted Class')\n",
    "    plt.ylabel('Original Class')\n",
    "    plt.title(\"Confusion matrix\")\n",
    "    \n",
    "    plt.subplot(1, 3, 2)\n",
    "    sns.heatmap(B, annot=True, fmt=\".3f\", xticklabels=labels, yticklabels=labels)\n",
    "    plt.xlabel('Predicted Class')\n",
    "    plt.ylabel('Original Class')\n",
    "    plt.title(\"Precision matrix\")\n",
    "    \n",
    "    plt.subplot(1, 3, 3)\n",
    "    # representing B in heatmap format\n",
    "    sns.heatmap(A, annot=True, fmt=\".3f\", xticklabels=labels, yticklabels=labels)\n",
    "    plt.xlabel('Predicted Class')\n",
    "    plt.ylabel('Original Class')\n",
    "    plt.title(\"Recall matrix\")\n",
    "    \n",
    "    plt.show()"
   ]
  },
  {
   "cell_type": "code",
   "execution_count": 24,
   "metadata": {},
   "outputs": [
    {
     "name": "stdout",
     "output_type": "stream",
     "text": [
      "Accuracy on test set: 90.970%\n",
      "Precision on test set: 0.928\n",
      "Recall on test set: 0.966\n",
      "F1-micro-Score on test set: 0.910\n"
     ]
    },
    {
     "data": {
      "image/png": "[encoded data removed]",
      "text/plain": [
       "<Figure size 1440x288 with 6 Axes>"
      ]
     },
     "metadata": {},
     "output_type": "display_data"
    }
   ],
   "source": [
    "#Testing Accuracy on Test data\n",
    "from sklearn.linear_model import LogisticRegression\n",
    "\n",
    "clf = LogisticRegression(C= 10, penalty= 'l2')\n",
    "clf.fit(x_train,y_train)\n",
    "pred = clf.predict(x_test)\n",
    "\n",
    "print(\"Accuracy on test set: %0.3f%%\"%(accuracy_score(y_test, pred)*100))\n",
    "print(\"Precision on test set: %0.3f\"%(precision_score(y_test, pred)))\n",
    "print(\"Recall on test set: %0.3f\"%(recall_score(y_test, pred)))\n",
    "print(\"F1-micro-Score on test set: %0.3f\"%(f1_score(y_test, pred,average='micro')))\n",
    "plot_confusion_matrix(y_test, pred)"
   ]
  },
  {
   "cell_type": "markdown",
   "metadata": {},
   "source": [
    "# OBSERVATION:\n",
    "1) Using Grid Search Technique to find the best hyperparameter and regularizer technique(L1 or L2).\n",
    "   The best C value is 10 and using L2 regularizer.\n",
    "   \n",
    "2) F1-micro-Score on test set: 91%\n"
   ]
  },
  {
   "cell_type": "markdown",
   "metadata": {},
   "source": [
    "#### Sparsity increases with increase in lambda value in L1 regularization "
   ]
  },
  {
   "cell_type": "code",
   "execution_count": 24,
   "metadata": {},
   "outputs": [
    {
     "name": "stdout",
     "output_type": "stream",
     "text": [
      "Accuracy on test set: 90.667%\n",
      "F1-Score on test set: 0.944\n",
      "Non Zero weights: 1999\n"
     ]
    }
   ],
   "source": [
    "from sklearn.linear_model import LogisticRegression\n",
    "\n",
    "clf = LogisticRegression(C= 1000, penalty= 'l1')\n",
    "clf.fit(x_train,y_train)\n",
    "pred = clf.predict(x_test)\n",
    "print(\"Accuracy on test set: %0.3f%%\"%(accuracy_score(y_test, pred)*100))\n",
    "print(\"F1-Score on test set: %0.3f\"%(f1_score(y_test, pred)))\n",
    "print(\"Non Zero weights:\",np.count_nonzero(clf.coef_))"
   ]
  },
  {
   "cell_type": "code",
   "execution_count": 25,
   "metadata": {},
   "outputs": [
    {
     "name": "stdout",
     "output_type": "stream",
     "text": [
      "Accuracy on test set: 90.667%\n",
      "F1-Score on test set: 0.944\n",
      "Non Zero weights: 1997\n"
     ]
    }
   ],
   "source": [
    "from sklearn.linear_model import LogisticRegression\n",
    "\n",
    "clf = LogisticRegression(C= 500, penalty= 'l1')\n",
    "clf.fit(x_train,y_train)\n",
    "pred = clf.predict(x_test)\n",
    "print(\"Accuracy on test set: %0.3f%%\"%(accuracy_score(y_test, pred)*100))\n",
    "print(\"F1-Score on test set: %0.3f\"%(f1_score(y_test, pred)))\n",
    "print(\"Non Zero weights:\",np.count_nonzero(clf.coef_))"
   ]
  },
  {
   "cell_type": "code",
   "execution_count": 26,
   "metadata": {},
   "outputs": [
    {
     "name": "stdout",
     "output_type": "stream",
     "text": [
      "Accuracy on test set: 90.680%\n",
      "F1-Score on test set: 0.945\n",
      "Non Zero weights: 1987\n"
     ]
    }
   ],
   "source": [
    "from sklearn.linear_model import LogisticRegression\n",
    "\n",
    "clf = LogisticRegression(C= 100, penalty= 'l1')\n",
    "clf.fit(x_train,y_train)\n",
    "pred = clf.predict(x_test)\n",
    "print(\"Accuracy on test set: %0.3f%%\"%(accuracy_score(y_test, pred)*100))\n",
    "print(\"F1-Score on test set: %0.3f\"%(f1_score(y_test, pred)))\n",
    "print(\"Non Zero weights:\",np.count_nonzero(clf.coef_))"
   ]
  },
  {
   "cell_type": "code",
   "execution_count": 27,
   "metadata": {},
   "outputs": [
    {
     "name": "stdout",
     "output_type": "stream",
     "text": [
      "Accuracy on test set: 90.697%\n",
      "F1-Score on test set: 0.945\n",
      "Non Zero weights: 1975\n"
     ]
    }
   ],
   "source": [
    "from sklearn.linear_model import LogisticRegression\n",
    "\n",
    "clf = LogisticRegression(C= 50, penalty= 'l1')\n",
    "clf.fit(x_train,y_train)\n",
    "pred = clf.predict(x_test)\n",
    "print(\"Accuracy on test set: %0.3f%%\"%(accuracy_score(y_test, pred)*100))\n",
    "print(\"F1-Score on test set: %0.3f\"%(f1_score(y_test, pred)))\n",
    "print(\"Non Zero weights:\",np.count_nonzero(clf.coef_))"
   ]
  },
  {
   "cell_type": "code",
   "execution_count": 28,
   "metadata": {},
   "outputs": [
    {
     "name": "stdout",
     "output_type": "stream",
     "text": [
      "Accuracy on test set: 90.820%\n",
      "F1-Score on test set: 0.945\n",
      "Non Zero weights: 1868\n"
     ]
    }
   ],
   "source": [
    "from sklearn.linear_model import LogisticRegression\n",
    "\n",
    "clf = LogisticRegression(C= 10, penalty= 'l1')\n",
    "clf.fit(x_train,y_train)\n",
    "pred = clf.predict(x_test)\n",
    "print(\"Accuracy on test set: %0.3f%%\"%(accuracy_score(y_test, pred)*100))\n",
    "print(\"F1-Score on test set: %0.3f\"%(f1_score(y_test, pred)))\n",
    "print(\"Non Zero weights:\",np.count_nonzero(clf.coef_))"
   ]
  },
  {
   "cell_type": "code",
   "execution_count": 29,
   "metadata": {},
   "outputs": [
    {
     "name": "stdout",
     "output_type": "stream",
     "text": [
      "Accuracy on test set: 90.927%\n",
      "F1-Score on test set: 0.946\n",
      "Non Zero weights: 1734\n"
     ]
    }
   ],
   "source": [
    "from sklearn.linear_model import LogisticRegression\n",
    "\n",
    "clf = LogisticRegression(C= 5, penalty= 'l1')\n",
    "clf.fit(x_train,y_train)\n",
    "pred = clf.predict(x_test)\n",
    "print(\"Accuracy on test set: %0.3f%%\"%(accuracy_score(y_test, pred)*100))\n",
    "print(\"F1-Score on test set: %0.3f\"%(f1_score(y_test, pred)))\n",
    "print(\"Non Zero weights:\",np.count_nonzero(clf.coef_))"
   ]
  },
  {
   "cell_type": "code",
   "execution_count": 30,
   "metadata": {},
   "outputs": [
    {
     "name": "stdout",
     "output_type": "stream",
     "text": [
      "Accuracy on test set: 90.927%\n",
      "F1-Score on test set: 0.947\n",
      "Non Zero weights: 1057\n"
     ]
    }
   ],
   "source": [
    "from sklearn.linear_model import LogisticRegression\n",
    "\n",
    "clf = LogisticRegression(C= 1, penalty= 'l1')\n",
    "clf.fit(x_train,y_train)\n",
    "pred = clf.predict(x_test)\n",
    "print(\"Accuracy on test set: %0.3f%%\"%(accuracy_score(y_test, pred)*100))\n",
    "print(\"F1-Score on test set: %0.3f\"%(f1_score(y_test, pred)))\n",
    "print(\"Non Zero weights:\",np.count_nonzero(clf.coef_))"
   ]
  },
  {
   "cell_type": "code",
   "execution_count": 31,
   "metadata": {},
   "outputs": [
    {
     "name": "stdout",
     "output_type": "stream",
     "text": [
      "Accuracy on test set: 88.473%\n",
      "F1-Score on test set: 0.934\n",
      "Non Zero weights: 209\n"
     ]
    }
   ],
   "source": [
    "from sklearn.linear_model import LogisticRegression\n",
    "\n",
    "clf = LogisticRegression(C= 0.1, penalty= 'l1')\n",
    "clf.fit(x_train,y_train)\n",
    "pred = clf.predict(x_test)\n",
    "print(\"Accuracy on test set: %0.3f%%\"%(accuracy_score(y_test, pred)*100))\n",
    "print(\"F1-Score on test set: %0.3f\"%(f1_score(y_test, pred)))\n",
    "print(\"Non Zero weights:\",np.count_nonzero(clf.coef_))"
   ]
  },
  {
   "cell_type": "code",
   "execution_count": 32,
   "metadata": {},
   "outputs": [
    {
     "name": "stdout",
     "output_type": "stream",
     "text": [
      "Accuracy on test set: 82.610%\n",
      "F1-Score on test set: 0.905\n",
      "Non Zero weights: 14\n"
     ]
    }
   ],
   "source": [
    "from sklearn.linear_model import LogisticRegression\n",
    "\n",
    "clf = LogisticRegression(C= 0.01, penalty= 'l1')\n",
    "clf.fit(x_train,y_train)\n",
    "pred = clf.predict(x_test)\n",
    "print(\"Accuracy on test set: %0.3f%%\"%(accuracy_score(y_test, pred)*100))\n",
    "print(\"F1-Score on test set: %0.3f\"%(f1_score(y_test, pred)))\n",
    "print(\"Non Zero weights:\",np.count_nonzero(clf.coef_))"
   ]
  },
  {
   "cell_type": "code",
   "execution_count": 363,
   "metadata": {},
   "outputs": [
    {
     "name": "stdout",
     "output_type": "stream",
     "text": [
      "Accuracy on test set: 82.540%\n",
      "F1-Score on test set: 0.904\n",
      "Non Zero weights: 0\n"
     ]
    }
   ],
   "source": [
    "from sklearn.linear_model import LogisticRegression\n",
    "\n",
    "clf = LogisticRegression(C= 0.001, penalty= 'l1')\n",
    "clf.fit(x_train,y_train)\n",
    "pred = clf.predict(x_test)\n",
    "print(\"Accuracy on test set: %0.3f%%\"%(accuracy_score(y_test, pred)*100))\n",
    "print(\"F1-Score on test set: %0.3f\"%(f1_score(y_test, pred)))\n",
    "print(\"Non Zero weights:\",np.count_nonzero(clf.coef_))"
   ]
  },
  {
   "cell_type": "markdown",
   "metadata": {},
   "source": [
    "# OBSERVATION:\n",
    "1) As lambda value increases in L1 regularizer (C=1/lambda, C is inversly propotional to Lambda so with increase in C value alpha value decreases) sparsity of the matrix also increase.\n",
    "\n",
    "2) When C = 1000, Non Zero weights: 1999\n",
    "   \n",
    "   When C = 500, Non Zero weights: 1997\n",
    "   \n",
    "   When C = 100, Non Zero weights: 1987\n",
    "   \n",
    "   .                         .\n",
    "   \n",
    "   .                         .\n",
    "   \n",
    "   .                         .\n",
    "   \n",
    "   .                         .\n",
    "   \n",
    "   When C = 0.1, Non Zero weights: 14"
   ]
  },
  {
   "cell_type": "markdown",
   "metadata": {},
   "source": [
    " "
   ]
  },
  {
   "cell_type": "markdown",
   "metadata": {},
   "source": [
    "**Random Search technique** to find the best c value and choosing between L1 and L2 regularizer"
   ]
  },
  {
   "cell_type": "code",
   "execution_count": 33,
   "metadata": {},
   "outputs": [
    {
     "name": "stdout",
     "output_type": "stream",
     "text": [
      "CPU times: user 4 µs, sys: 1 µs, total: 5 µs\n",
      "Wall time: 8.82 µs\n",
      "Fitting 10 folds for each of 10 candidates, totalling 100 fits\n"
     ]
    },
    {
     "name": "stderr",
     "output_type": "stream",
     "text": [
      "[Parallel(n_jobs=-1)]: Using backend LokyBackend with 4 concurrent workers.\n",
      "[Parallel(n_jobs=-1)]: Done  42 tasks      | elapsed:   12.0s\n",
      "[Parallel(n_jobs=-1)]: Done 100 out of 100 | elapsed:   26.0s finished\n"
     ]
    },
    {
     "name": "stdout",
     "output_type": "stream",
     "text": [
      "The best HyperParameter:  {'penalty': 'l1', 'C': 5}\n",
      "The best Accuracy: 91.20%\n"
     ]
    }
   ],
   "source": [
    "%time\n",
    "from sklearn.model_selection import RandomizedSearchCV\n",
    "from sklearn.linear_model import LogisticRegression\n",
    "\n",
    "clf = LogisticRegression()\n",
    "#params we need to try on classifier\n",
    "param_grid = { 'C':[1000,500,100,50,10,5,1,0.5,0.1,0.05,0.01,0.005,0.001,0.0005,0.0001],\n",
    "              'penalty':['l1','l2']}\n",
    "tscv = TimeSeriesSplit(n_splits=10) #For time based splitting\n",
    "gsv = RandomizedSearchCV(clf,param_grid,cv=tscv,verbose=1,n_jobs=-1,scoring='f1_micro')\n",
    "gsv.fit(x_train,y_train)\n",
    "print(\"The best HyperParameter: \",gsv.best_params_)\n",
    "print(\"The best Accuracy: %.2f%%\"%(gsv.best_score_*100))"
   ]
  },
  {
   "cell_type": "code",
   "execution_count": 35,
   "metadata": {},
   "outputs": [
    {
     "name": "stdout",
     "output_type": "stream",
     "text": [
      "Accuracy on test set: 90.923%\n",
      "Precision on test set: 0.928\n",
      "Recall on test set: 0.966\n",
      "F1-micro-Score on test set: 0.909\n"
     ]
    },
    {
     "data": {
      "image/png": "[encoded data removed]",
      "text/plain": [
       "<Figure size 1440x288 with 6 Axes>"
      ]
     },
     "metadata": {},
     "output_type": "display_data"
    }
   ],
   "source": [
    "#Testing Accuracy on Test data\n",
    "from sklearn.linear_model import LogisticRegression\n",
    "\n",
    "clf = LogisticRegression(C= 5, penalty= 'l1')\n",
    "clf.fit(x_train,y_train)\n",
    "pred = clf.predict(x_test)\n",
    "\n",
    "print(\"Accuracy on test set: %0.3f%%\"%(accuracy_score(y_test, pred)*100))\n",
    "print(\"Precision on test set: %0.3f\"%(precision_score(y_test, pred)))\n",
    "print(\"Recall on test set: %0.3f\"%(recall_score(y_test, pred)))\n",
    "print(\"F1-micro-Score on test set: %0.3f\"%(f1_score(y_test, pred,average='micro')))\n",
    "plot_confusion_matrix(y_test, pred)"
   ]
  },
  {
   "cell_type": "markdown",
   "metadata": {},
   "source": [
    "# OBSERVATION:\n",
    "1) Using Random Search Technique to find the best hyperparameter and regularizer technique(L1 or L2).\n",
    "   The best C value is 5 and using L1 regularizer.\n",
    "   \n",
    "2) F1-micro-Score on test set: 90.9%\n",
    "\n"
   ]
  },
  {
   "cell_type": "markdown",
   "metadata": {},
   "source": [
    "#### To check if thr points are collineraity "
   ]
  },
  {
   "cell_type": "code",
   "execution_count": 25,
   "metadata": {},
   "outputs": [
    {
     "name": "stdout",
     "output_type": "stream",
     "text": [
      "Accuracy on test set: 90.910%\n",
      "Non Zero weights: 2000\n"
     ]
    }
   ],
   "source": [
    "from sklearn.linear_model import LogisticRegression\n",
    "\n",
    "clf = LogisticRegression(C= 500, penalty= 'l2')\n",
    "clf.fit(x_train,y_train)\n",
    "pred = clf.predict(x_test)\n",
    "print(\"Accuracy on test set: %0.3f%%\"%(accuracy_score(y_test, pred)*100))\n",
    "print(\"Non Zero weights:\",np.count_nonzero(clf.coef_))"
   ]
  },
  {
   "cell_type": "code",
   "execution_count": 26,
   "metadata": {},
   "outputs": [
    {
     "name": "stdout",
     "output_type": "stream",
     "text": [
      "[ 1.17472743  0.50390546 -1.19643661 -3.92259722  1.55617593 -0.84930903\n",
      "  2.67959096  5.292382   -2.78604272 -2.63328675  0.29246723  0.04578861\n",
      "  2.37473484  9.6910875   0.9703404   2.18245968  0.70171111  3.32130899\n",
      "  3.94957755 -2.56238132 -5.34632198  0.25201655  9.00278645  0.85837007\n",
      "  2.90038325 -2.7598946   2.3233266   3.72515501  2.46630748 -0.59899068\n",
      " -1.66688706  1.30755588  7.1172449  -3.15507067 -0.81272837  2.10498609\n",
      "  1.12492679  1.20380242 -0.18995658 -2.49336188  4.67336831  3.28084982\n",
      "  3.18014854 -0.25695403  0.63643132  1.44159048  0.83632304  2.97508518\n",
      "  9.04415852  0.76129789]\n"
     ]
    }
   ],
   "source": [
    "from scipy.sparse import find\n",
    "#Weights before adding random noise\n",
    "weights1 = find(clf.coef_[0])[2]\n",
    "print(weights1[:50])"
   ]
  },
  {
   "cell_type": "code",
   "execution_count": 27,
   "metadata": {},
   "outputs": [],
   "source": [
    "x_train_n = x_train\n",
    "#Random noise\n",
    "noise = np.random.uniform(low=-0.0001, high=0.0001, size=(find(x_train_n)[0].size,))\n",
    "#Getting the postions(row and column) and value of non-zero datapoints \n",
    "a,b,c = find(x_train_n)\n",
    "\n",
    "#Introducing random noise to non-zero datapoints\n",
    "x_train_n[a,b] = noise + x_train_n[a,b]"
   ]
  },
  {
   "cell_type": "code",
   "execution_count": 28,
   "metadata": {},
   "outputs": [
    {
     "name": "stdout",
     "output_type": "stream",
     "text": [
      "Accuracy on test set: 90.910%\n",
      "Non Zero weights: 2000\n"
     ]
    }
   ],
   "source": [
    "#Training on train data having random noise\n",
    "from sklearn.linear_model import LogisticRegression\n",
    "\n",
    "clf = LogisticRegression(C= 10, penalty= 'l2')\n",
    "clf.fit(x_train_n,y_train)\n",
    "y = clf.predict(x_test)\n",
    "print(\"Accuracy on test set: %0.3f%%\"%(accuracy_score(y_test, pred)*100))\n",
    "print(\"Non Zero weights:\",np.count_nonzero(clf.coef_))\n"
   ]
  },
  {
   "cell_type": "code",
   "execution_count": 29,
   "metadata": {},
   "outputs": [
    {
     "name": "stdout",
     "output_type": "stream",
     "text": [
      "[ 1.20025694  0.53492983 -0.41562763 -3.1062348   0.9139054  -0.6893633\n",
      "  1.69700798  3.64288356 -1.65371561 -1.75801095  0.27447176  0.09116646\n",
      "  2.40452438  7.95302729  0.91127041  1.2108442   0.80475181  2.19782885\n",
      "  2.83707059 -2.33300997 -3.61943997  0.07252493  5.76940968  0.64206276\n",
      "  2.04713855 -2.70668313  1.08626399  2.38203399  1.70195632 -0.59559146\n",
      " -1.34821038  0.76947261  3.66562503 -2.35395973 -0.78073172  1.53115061\n",
      "  0.9761756   0.83312282 -0.19551368 -2.23266163  3.4789186   2.59924946\n",
      "  2.64050074 -0.19393007  0.68486383  1.0694115   0.70573797  2.82115462\n",
      "  7.95480435  0.69697395]\n"
     ]
    }
   ],
   "source": [
    "from scipy.sparse import find\n",
    "#Weights after adding random noise\n",
    "weights2 = find(clf.coef_[0])[2]\n",
    "print(weights2[:50])"
   ]
  },
  {
   "cell_type": "code",
   "execution_count": 30,
   "metadata": {},
   "outputs": [
    {
     "name": "stdout",
     "output_type": "stream",
     "text": [
      "2000\n"
     ]
    }
   ],
   "source": [
    "print(weights2.size)"
   ]
  },
  {
   "cell_type": "code",
   "execution_count": 31,
   "metadata": {},
   "outputs": [
    {
     "name": "stdout",
     "output_type": "stream",
     "text": [
      "[ 1.17472843  0.50390646 -1.19643561 -3.92259622  1.55617693 -0.84930803\n",
      "  2.67959196  5.292383   -2.78604172 -2.63328575  0.29246823  0.04578961\n",
      "  2.37473584  9.6910885   0.9703414   2.18246068  0.70171211  3.32130999\n",
      "  3.94957855 -2.56238032 -5.34632098  0.25201755  9.00278745  0.85837107\n",
      "  2.90038425]\n",
      "[ 1.20025794  0.53493083 -0.41562663 -3.1062338   0.9139064  -0.6893623\n",
      "  1.69700898  3.64288456 -1.65371461 -1.75800995  0.27447276  0.09116746\n",
      "  2.40452538  7.95302829  0.91127141  1.2108452   0.80475281  2.19782985\n",
      "  2.83707159 -2.33300897 -3.61943897  0.07252593  5.76941068  0.64206376\n",
      "  2.04713955]\n"
     ]
    }
   ],
   "source": [
    "#Add the small eps value(to eliminate the divisible by zero error) to W and W’ i.e W=W+10^-6 and W’ = W’+10^-6\n",
    "noise = 0.000001\n",
    "weights1 = weights1 + noise\n",
    "print(weights1[:25])\n",
    "\n",
    "weights2 = weights2 + noise\n",
    "print(weights2[:25])"
   ]
  },
  {
   "cell_type": "code",
   "execution_count": 32,
   "metadata": {},
   "outputs": [],
   "source": [
    "weights_diff = (abs(weights1 - weights2)/weights1) * 100"
   ]
  },
  {
   "cell_type": "code",
   "execution_count": 44,
   "metadata": {
    "scrolled": false
   },
   "outputs": [
    {
     "name": "stdout",
     "output_type": "stream",
     "text": [
      "1037\n",
      "1035\n",
      "1032\n",
      "1031\n",
      "1027\n",
      "1026\n",
      "1025\n",
      "1023\n",
      "1022\n",
      "1017\n",
      "1013\n",
      "984\n",
      "958\n",
      "937\n",
      "918\n",
      "902\n",
      "877\n",
      "848\n",
      "829\n",
      "809\n",
      "607\n",
      "410\n",
      "248\n",
      "140\n",
      "84\n",
      "60\n",
      "51\n",
      "45\n",
      "39\n"
     ]
    }
   ],
   "source": [
    "print(weights_diff[np.where(weights_diff > 0)].size)\n",
    "print(weights_diff[np.where(weights_diff > 0.1)].size)\n",
    "print(weights_diff[np.where(weights_diff > 0.2)].size)\n",
    "print(weights_diff[np.where(weights_diff > 0.3)].size)\n",
    "print(weights_diff[np.where(weights_diff > 0.4)].size)\n",
    "print(weights_diff[np.where(weights_diff > 0.5)].size)\n",
    "print(weights_diff[np.where(weights_diff > 0.6)].size)\n",
    "print(weights_diff[np.where(weights_diff > 0.7)].size)\n",
    "print(weights_diff[np.where(weights_diff > 0.8)].size)\n",
    "print(weights_diff[np.where(weights_diff > 0.9)].size)\n",
    "print(weights_diff[np.where(weights_diff > 1)].size)\n",
    "print(weights_diff[np.where(weights_diff > 2)].size)\n",
    "print(weights_diff[np.where(weights_diff > 3)].size)\n",
    "print(weights_diff[np.where(weights_diff > 4)].size)\n",
    "print(weights_diff[np.where(weights_diff > 5)].size)\n",
    "print(weights_diff[np.where(weights_diff > 6)].size)\n",
    "print(weights_diff[np.where(weights_diff > 7)].size)\n",
    "print(weights_diff[np.where(weights_diff > 8)].size)\n",
    "print(weights_diff[np.where(weights_diff > 9)].size)\n",
    "print(weights_diff[np.where(weights_diff > 10)].size)\n",
    "print(weights_diff[np.where(weights_diff > 20)].size)\n",
    "print(weights_diff[np.where(weights_diff > 30)].size)\n",
    "print(weights_diff[np.where(weights_diff > 40)].size)\n",
    "print(weights_diff[np.where(weights_diff > 50)].size)\n",
    "print(weights_diff[np.where(weights_diff > 60)].size)\n",
    "print(weights_diff[np.where(weights_diff > 70)].size)\n",
    "print(weights_diff[np.where(weights_diff > 80)].size)\n",
    "print(weights_diff[np.where(weights_diff > 90)].size)\n",
    "print(weights_diff[np.where(weights_diff > 100)].size)#228#202#197#162#108#56#\n",
    "#24#29#26#19#16#25"
   ]
  },
  {
   "cell_type": "code",
   "execution_count": 45,
   "metadata": {},
   "outputs": [],
   "source": [
    "# feature names whose % change is more than a threshold x\n",
    "df = pd.DataFrame(data=(abs(weights1 - weights2)/weights1) * 100 > 0.8, index=count_vect.get_feature_names())"
   ]
  },
  {
   "cell_type": "code",
   "execution_count": 46,
   "metadata": {},
   "outputs": [
    {
     "data": {
      "text/html": [
       "<div>\n",
       "<style scoped>\n",
       "    .dataframe tbody tr th:only-of-type {\n",
       "        vertical-align: middle;\n",
       "    }\n",
       "\n",
       "    .dataframe tbody tr th {\n",
       "        vertical-align: top;\n",
       "    }\n",
       "\n",
       "    .dataframe thead th {\n",
       "        text-align: right;\n",
       "    }\n",
       "</style>\n",
       "<table border=\"1\" class=\"dataframe\">\n",
       "  <thead>\n",
       "    <tr style=\"text-align: right;\">\n",
       "      <th></th>\n",
       "      <th>0</th>\n",
       "    </tr>\n",
       "  </thead>\n",
       "  <tbody>\n",
       "    <tr>\n",
       "      <th>abl</th>\n",
       "      <td>True</td>\n",
       "    </tr>\n",
       "    <tr>\n",
       "      <th>absolut</th>\n",
       "      <td>True</td>\n",
       "    </tr>\n",
       "    <tr>\n",
       "      <th>accord</th>\n",
       "      <td>True</td>\n",
       "    </tr>\n",
       "    <tr>\n",
       "      <th>acquir</th>\n",
       "      <td>True</td>\n",
       "    </tr>\n",
       "    <tr>\n",
       "      <th>across</th>\n",
       "      <td>True</td>\n",
       "    </tr>\n",
       "    <tr>\n",
       "      <th>actual</th>\n",
       "      <td>True</td>\n",
       "    </tr>\n",
       "    <tr>\n",
       "      <th>ad</th>\n",
       "      <td>True</td>\n",
       "    </tr>\n",
       "    <tr>\n",
       "      <th>add</th>\n",
       "      <td>True</td>\n",
       "    </tr>\n",
       "    <tr>\n",
       "      <th>addict</th>\n",
       "      <td>True</td>\n",
       "    </tr>\n",
       "    <tr>\n",
       "      <th>addit</th>\n",
       "      <td>True</td>\n",
       "    </tr>\n",
       "    <tr>\n",
       "      <th>adjust</th>\n",
       "      <td>True</td>\n",
       "    </tr>\n",
       "    <tr>\n",
       "      <th>admit</th>\n",
       "      <td>True</td>\n",
       "    </tr>\n",
       "    <tr>\n",
       "      <th>ador</th>\n",
       "      <td>True</td>\n",
       "    </tr>\n",
       "    <tr>\n",
       "      <th>adult</th>\n",
       "      <td>True</td>\n",
       "    </tr>\n",
       "    <tr>\n",
       "      <th>affect</th>\n",
       "      <td>True</td>\n",
       "    </tr>\n",
       "    <tr>\n",
       "      <th>afford</th>\n",
       "      <td>True</td>\n",
       "    </tr>\n",
       "    <tr>\n",
       "      <th>afraid</th>\n",
       "      <td>True</td>\n",
       "    </tr>\n",
       "    <tr>\n",
       "      <th>afternoon</th>\n",
       "      <td>True</td>\n",
       "    </tr>\n",
       "    <tr>\n",
       "      <th>afterward</th>\n",
       "      <td>True</td>\n",
       "    </tr>\n",
       "    <tr>\n",
       "      <th>agav</th>\n",
       "      <td>True</td>\n",
       "    </tr>\n",
       "    <tr>\n",
       "      <th>age</th>\n",
       "      <td>True</td>\n",
       "    </tr>\n",
       "    <tr>\n",
       "      <th>ahead</th>\n",
       "      <td>True</td>\n",
       "    </tr>\n",
       "    <tr>\n",
       "      <th>aid</th>\n",
       "      <td>True</td>\n",
       "    </tr>\n",
       "    <tr>\n",
       "      <th>allerg</th>\n",
       "      <td>True</td>\n",
       "    </tr>\n",
       "    <tr>\n",
       "      <th>allergi</th>\n",
       "      <td>True</td>\n",
       "    </tr>\n",
       "    <tr>\n",
       "      <th>allow</th>\n",
       "      <td>True</td>\n",
       "    </tr>\n",
       "    <tr>\n",
       "      <th>alon</th>\n",
       "      <td>True</td>\n",
       "    </tr>\n",
       "    <tr>\n",
       "      <th>along</th>\n",
       "      <td>True</td>\n",
       "    </tr>\n",
       "    <tr>\n",
       "      <th>alot</th>\n",
       "      <td>True</td>\n",
       "    </tr>\n",
       "    <tr>\n",
       "      <th>also</th>\n",
       "      <td>True</td>\n",
       "    </tr>\n",
       "    <tr>\n",
       "      <th>...</th>\n",
       "      <td>...</td>\n",
       "    </tr>\n",
       "    <tr>\n",
       "      <th>wife</th>\n",
       "      <td>True</td>\n",
       "    </tr>\n",
       "    <tr>\n",
       "      <th>wild</th>\n",
       "      <td>True</td>\n",
       "    </tr>\n",
       "    <tr>\n",
       "      <th>will</th>\n",
       "      <td>True</td>\n",
       "    </tr>\n",
       "    <tr>\n",
       "      <th>win</th>\n",
       "      <td>True</td>\n",
       "    </tr>\n",
       "    <tr>\n",
       "      <th>wine</th>\n",
       "      <td>True</td>\n",
       "    </tr>\n",
       "    <tr>\n",
       "      <th>winner</th>\n",
       "      <td>True</td>\n",
       "    </tr>\n",
       "    <tr>\n",
       "      <th>winter</th>\n",
       "      <td>True</td>\n",
       "    </tr>\n",
       "    <tr>\n",
       "      <th>wish</th>\n",
       "      <td>True</td>\n",
       "    </tr>\n",
       "    <tr>\n",
       "      <th>without</th>\n",
       "      <td>True</td>\n",
       "    </tr>\n",
       "    <tr>\n",
       "      <th>wonder</th>\n",
       "      <td>True</td>\n",
       "    </tr>\n",
       "    <tr>\n",
       "      <th>work</th>\n",
       "      <td>True</td>\n",
       "    </tr>\n",
       "    <tr>\n",
       "      <th>workout</th>\n",
       "      <td>True</td>\n",
       "    </tr>\n",
       "    <tr>\n",
       "      <th>world</th>\n",
       "      <td>True</td>\n",
       "    </tr>\n",
       "    <tr>\n",
       "      <th>worri</th>\n",
       "      <td>True</td>\n",
       "    </tr>\n",
       "    <tr>\n",
       "      <th>wow</th>\n",
       "      <td>True</td>\n",
       "    </tr>\n",
       "    <tr>\n",
       "      <th>wrap</th>\n",
       "      <td>True</td>\n",
       "    </tr>\n",
       "    <tr>\n",
       "      <th>write</th>\n",
       "      <td>True</td>\n",
       "    </tr>\n",
       "    <tr>\n",
       "      <th>xylitol</th>\n",
       "      <td>True</td>\n",
       "    </tr>\n",
       "    <tr>\n",
       "      <th>yeah</th>\n",
       "      <td>True</td>\n",
       "    </tr>\n",
       "    <tr>\n",
       "      <th>year</th>\n",
       "      <td>True</td>\n",
       "    </tr>\n",
       "    <tr>\n",
       "      <th>yeast</th>\n",
       "      <td>True</td>\n",
       "    </tr>\n",
       "    <tr>\n",
       "      <th>yes</th>\n",
       "      <td>True</td>\n",
       "    </tr>\n",
       "    <tr>\n",
       "      <th>yesterday</th>\n",
       "      <td>True</td>\n",
       "    </tr>\n",
       "    <tr>\n",
       "      <th>yet</th>\n",
       "      <td>True</td>\n",
       "    </tr>\n",
       "    <tr>\n",
       "      <th>yogurt</th>\n",
       "      <td>True</td>\n",
       "    </tr>\n",
       "    <tr>\n",
       "      <th>youll</th>\n",
       "      <td>True</td>\n",
       "    </tr>\n",
       "    <tr>\n",
       "      <th>young</th>\n",
       "      <td>True</td>\n",
       "    </tr>\n",
       "    <tr>\n",
       "      <th>youv</th>\n",
       "      <td>True</td>\n",
       "    </tr>\n",
       "    <tr>\n",
       "      <th>yum</th>\n",
       "      <td>True</td>\n",
       "    </tr>\n",
       "    <tr>\n",
       "      <th>yummi</th>\n",
       "      <td>True</td>\n",
       "    </tr>\n",
       "  </tbody>\n",
       "</table>\n",
       "<p>1022 rows × 1 columns</p>\n",
       "</div>"
      ],
      "text/plain": [
       "              0\n",
       "abl        True\n",
       "absolut    True\n",
       "accord     True\n",
       "acquir     True\n",
       "across     True\n",
       "actual     True\n",
       "ad         True\n",
       "add        True\n",
       "addict     True\n",
       "addit      True\n",
       "adjust     True\n",
       "admit      True\n",
       "ador       True\n",
       "adult      True\n",
       "affect     True\n",
       "afford     True\n",
       "afraid     True\n",
       "afternoon  True\n",
       "afterward  True\n",
       "agav       True\n",
       "age        True\n",
       "ahead      True\n",
       "aid        True\n",
       "allerg     True\n",
       "allergi    True\n",
       "allow      True\n",
       "alon       True\n",
       "along      True\n",
       "alot       True\n",
       "also       True\n",
       "...         ...\n",
       "wife       True\n",
       "wild       True\n",
       "will       True\n",
       "win        True\n",
       "wine       True\n",
       "winner     True\n",
       "winter     True\n",
       "wish       True\n",
       "without    True\n",
       "wonder     True\n",
       "work       True\n",
       "workout    True\n",
       "world      True\n",
       "worri      True\n",
       "wow        True\n",
       "wrap       True\n",
       "write      True\n",
       "xylitol    True\n",
       "yeah       True\n",
       "year       True\n",
       "yeast      True\n",
       "yes        True\n",
       "yesterday  True\n",
       "yet        True\n",
       "yogurt     True\n",
       "youll      True\n",
       "young      True\n",
       "youv       True\n",
       "yum        True\n",
       "yummi      True\n",
       "\n",
       "[1022 rows x 1 columns]"
      ]
     },
     "execution_count": 46,
     "metadata": {},
     "output_type": "execute_result"
    }
   ],
   "source": [
    "df[df[0]] == True"
   ]
  },
  {
   "cell_type": "markdown",
   "metadata": {},
   "source": [
    "## Observation\n",
    " 1022 feature's weight changes more than 0.8%. Hence, the feature are multi-collinear."
   ]
  },
  {
   "cell_type": "markdown",
   "metadata": {},
   "source": [
    "  "
   ]
  },
  {
   "cell_type": "code",
   "execution_count": 47,
   "metadata": {},
   "outputs": [
    {
     "name": "stdout",
     "output_type": "stream",
     "text": [
      "\t\tNegative\t\t\t\t\tPositive\n",
      "________________________________________________________________________________________________\n",
      "\t-14.8650\tworst          \t\t\t\t9.8719\thook           \n",
      "\t-12.5189\taw             \t\t\t\t9.8113\tperfect        \n",
      "\t-10.6039\thorribl        \t\t\t\t9.4950\tbeat           \n",
      "\t-10.5643\twors           \t\t\t\t9.4118\tdelici         \n",
      "\t-10.3681\tterribl        \t\t\t\t9.2373\tskeptic        \n",
      "\t-9.8931\tcancel         \t\t\t\t8.8534\texcel          \n",
      "\t-9.6892\tdisgust        \t\t\t\t8.3560\tfantast        \n",
      "\t-9.5487\ttasteless      \t\t\t\t7.9548\tamaz           \n",
      "\t-9.0479\trefund         \t\t\t\t7.9530\taddict         \n",
      "\t-8.8326\treturn         \t\t\t\t7.9088\tawesom         \n",
      "\t-8.5948\tdisappoint     \t\t\t\t7.8655\tyum            \n",
      "\t-8.5012\truin           \t\t\t\t7.7536\tbest           \n",
      "\t-8.3729\trancid         \t\t\t\t7.2083\tworri          \n",
      "\t-8.2106\tshame          \t\t\t\t7.1154\trefresh        \n",
      "\t-8.1604\tunpleas        \t\t\t\t7.0236\thesit          \n",
      "\t-8.1189\tbland          \t\t\t\t7.0185\tyummi          \n",
      "\t-7.8414\tthrew          \t\t\t\t6.9951\teveryday       \n",
      "\t-7.7761\tgross          \t\t\t\t6.9487\theaven         \n",
      "\t-7.4439\tneither        \t\t\t\t6.9432\tgreat          \n",
      "\t-7.3351\tsorri          \t\t\t\t6.7128\tglad           \n",
      "\t-7.3321\tsad            \t\t\t\t6.6160\tsmooth         \n",
      "\t-7.2734\tskip           \t\t\t\t6.1242\tfabul          \n",
      "\t-7.1247\tpoor           \t\t\t\t6.0506\tsuperior       \n",
      "\t-7.0834\twast           \t\t\t\t5.9862\tbreath         \n",
      "\t-7.0087\todd            \t\t\t\t5.9381\tdownsid        \n",
      "\t-6.9236\tunfortun       \t\t\t\t5.9043\thappier        \n",
      "\t-6.9069\ttrash          \t\t\t\t5.8618\tnice           \n",
      "\t-6.8878\tbewar          \t\t\t\t5.7694\tafford         \n",
      "\t-6.5943\tchina          \t\t\t\t5.7144\tsatisfi        \n",
      "\t-6.4093\tfail           \t\t\t\t5.5393\tuniqu          \n",
      "\t-6.3993\tweak           \t\t\t\t5.4712\tbeauti         \n",
      "\t-6.2930\tyuck           \t\t\t\t5.4702\tcomplaint      \n",
      "\t-6.2006\tstale          \t\t\t\t5.3822\tthank          \n",
      "\t-6.1414\tchoke          \t\t\t\t5.2984\ttasti          \n",
      "\t-5.6158\tearth          \t\t\t\t5.2863\twonder         \n",
      "\t-5.5917\tsick           \t\t\t\t5.2407\tpleasant       \n",
      "\t-5.5627\tvomit          \t\t\t\t5.1678\tbonus          \n",
      "\t-5.5462\tidea           \t\t\t\t5.1601\tdelight        \n",
      "\t-5.3883\tdiarrhea       \t\t\t\t5.0851\tnutriti        \n",
      "\t-5.3278\tposit          \t\t\t\t5.0730\tpopular        \n",
      "\t-5.2972\temerg          \t\t\t\t5.0416\tlove           \n",
      "\t-5.2571\tmislead        \t\t\t\t5.0201\tgraham         \n",
      "\t-5.2304\tdislik         \t\t\t\t4.9901\tfavorit        \n",
      "\t-5.2015\trip            \t\t\t\t4.9272\tfast           \n",
      "\t-5.0737\tlack           \t\t\t\t4.7923\tsubtl          \n",
      "\t-5.0461\tnasti          \t\t\t\t4.7812\thappi          \n",
      "\t-5.0437\tresembl        \t\t\t\t4.7679\tsunflow        \n",
      "\t-4.8859\texcit          \t\t\t\t4.6860\tmunch          \n",
      "\t-4.8549\tpass           \t\t\t\t4.6605\tdelic          \n",
      "\t-4.8519\tedibl          \t\t\t\t4.6410\ttown           \n"
     ]
    }
   ],
   "source": [
    "#top 50 important features for Positive and Negative features\n",
    "def show_most_informative_features(vectorizer, clf, n=50):\n",
    "    feature_names = vectorizer.get_feature_names()\n",
    "    coefs_with_fns = sorted(zip(clf.coef_[0], feature_names))\n",
    "    top = zip(coefs_with_fns[:n], coefs_with_fns[:-(n + 1):-1])\n",
    "    print(\"\\t\\tNegative\\t\\t\\t\\t\\tPositive\")\n",
    "    print(\"________________________________________________________________________________________________\")\n",
    "    for (coef_1, fn_1), (coef_2, fn_2) in top:\n",
    "        print(\"\\t%.4f\\t%-15s\\t\\t\\t\\t%.4f\\t%-15s\" % (coef_1, fn_1, coef_2, fn_2))\n",
    "        \n",
    "show_most_informative_features(count_vect,clf)"
   ]
  },
  {
   "cell_type": "markdown",
   "metadata": {},
   "source": [
    "### Bi-Gram"
   ]
  },
  {
   "cell_type": "code",
   "execution_count": 48,
   "metadata": {},
   "outputs": [
    {
     "name": "stdout",
     "output_type": "stream",
     "text": [
      "Train Data Size:  (70000, 2000)\n",
      "Test Data Size:  (30000, 2000)\n"
     ]
    }
   ],
   "source": [
    "# Spliting into Train and test\n",
    "x_train, x_test, y_train, y_test = train_test_split(final['CleanedText'].values,final['Score'].values,test_size=0.3,shuffle=False)\n",
    "\n",
    "\n",
    "count_vect = CountVectorizer(max_features=2000,min_df=20,ngram_range=(1,2)) \n",
    "\n",
    "x_train = count_vect.fit_transform(x_train)\n",
    "x_test = count_vect.transform(x_test)\n",
    "\n",
    "\n",
    "#Normalize train and test data\n",
    "x_train = preprocessing.normalize(x_train)\n",
    "print(\"Train Data Size: \",x_train.shape)\n",
    "x_test = preprocessing.normalize(x_test)\n",
    "print(\"Test Data Size: \",x_test.shape)"
   ]
  },
  {
   "cell_type": "markdown",
   "metadata": {},
   "source": [
    "**Grid Search technique** to find the best c value and choosing between L1 and L2 regularizer"
   ]
  },
  {
   "cell_type": "code",
   "execution_count": 49,
   "metadata": {},
   "outputs": [
    {
     "name": "stdout",
     "output_type": "stream",
     "text": [
      "Fitting 10 folds for each of 30 candidates, totalling 300 fits\n"
     ]
    },
    {
     "name": "stderr",
     "output_type": "stream",
     "text": [
      "[Parallel(n_jobs=-1)]: Using backend LokyBackend with 4 concurrent workers.\n",
      "[Parallel(n_jobs=-1)]: Done  42 tasks      | elapsed:   36.9s\n",
      "[Parallel(n_jobs=-1)]: Done 192 tasks      | elapsed:  1.5min\n",
      "[Parallel(n_jobs=-1)]: Done 300 out of 300 | elapsed:  1.7min finished\n"
     ]
    },
    {
     "name": "stdout",
     "output_type": "stream",
     "text": [
      "The best HyperParameter:  {'C': 10, 'penalty': 'l2'}\n",
      "The best Accuracy: 91.41%\n"
     ]
    }
   ],
   "source": [
    "from sklearn.model_selection import GridSearchCV\n",
    "from sklearn.linear_model import LogisticRegression\n",
    "\n",
    "clf = LogisticRegression()\n",
    "#params we need to try on classifier\n",
    "param_grid = {'C':[1000,500,100,50,10,5,1,0.5,0.1,0.05,0.01,0.005,0.001,0.0005,0.0001],\n",
    "             'penalty':['l1','l2']} \n",
    "tscv = TimeSeriesSplit(n_splits=10) #For time based splitting\n",
    "gsv = GridSearchCV(clf,param_grid,cv=tscv,verbose=1, n_jobs=-1,scoring='f1_micro')\n",
    "gsv.fit(x_train,y_train)\n",
    "print(\"The best HyperParameter: \",gsv.best_params_)\n",
    "print(\"The best Accuracy: %.2f%%\"%(gsv.best_score_*100))\n",
    "\n"
   ]
  },
  {
   "cell_type": "code",
   "execution_count": 50,
   "metadata": {},
   "outputs": [
    {
     "name": "stdout",
     "output_type": "stream",
     "text": [
      "Accuracy on test set: 91.190%\n",
      "Precision on test set: 0.929\n",
      "Recall on test set: 0.966\n",
      "F1-micro-Score on test set: 0.912\n"
     ]
    },
    {
     "data": {
      "image/png": "[encoded data removed]",
      "text/plain": [
       "<Figure size 1440x288 with 6 Axes>"
      ]
     },
     "metadata": {},
     "output_type": "display_data"
    }
   ],
   "source": [
    "#Testing Accuracy on Test data\n",
    "from sklearn.linear_model import LogisticRegression\n",
    "\n",
    "clf = LogisticRegression(C= 10, penalty= 'l2')\n",
    "clf.fit(x_train,y_train)\n",
    "pred = clf.predict(x_test)\n",
    "\n",
    "print(\"Accuracy on test set: %0.3f%%\"%(accuracy_score(y_test, pred)*100))\n",
    "print(\"Precision on test set: %0.3f\"%(precision_score(y_test, pred)))\n",
    "print(\"Recall on test set: %0.3f\"%(recall_score(y_test, pred)))\n",
    "print(\"F1-micro-Score on test set: %0.3f\"%(f1_score(y_test, pred,average='micro')))\n",
    "plot_confusion_matrix(y_test, pred)"
   ]
  },
  {
   "cell_type": "markdown",
   "metadata": {},
   "source": [
    "# OBSERVATION:\n",
    "1) Using Grid Search Technique to find the best hyperparameter and regularizer technique(L1 or L2).\n",
    "   The best C value is 10 and using L2 regularizer.\n",
    "   \n",
    "2) F1-micro-Score on test set: 91.2%"
   ]
  },
  {
   "cell_type": "markdown",
   "metadata": {},
   "source": [
    "#### Sparsity increases with increase in lambda value in L1 regularization "
   ]
  },
  {
   "cell_type": "code",
   "execution_count": 51,
   "metadata": {},
   "outputs": [
    {
     "name": "stdout",
     "output_type": "stream",
     "text": [
      "Accuracy on test set: 91.023%\n",
      "F1-Score on test set: 0.946\n",
      "Non Zero weights: 2000\n"
     ]
    }
   ],
   "source": [
    "from sklearn.linear_model import LogisticRegression\n",
    "\n",
    "clf = LogisticRegression(C= 1000, penalty= 'l1')\n",
    "clf.fit(x_train,y_train)\n",
    "pred = clf.predict(x_test)\n",
    "print(\"Accuracy on test set: %0.3f%%\"%(accuracy_score(y_test, pred)*100))\n",
    "print(\"F1-Score on test set: %0.3f\"%(f1_score(y_test, pred)))\n",
    "print(\"Non Zero weights:\",np.count_nonzero(clf.coef_))"
   ]
  },
  {
   "cell_type": "code",
   "execution_count": 52,
   "metadata": {},
   "outputs": [
    {
     "name": "stdout",
     "output_type": "stream",
     "text": [
      "Accuracy on test set: 91.020%\n",
      "F1-Score on test set: 0.946\n",
      "Non Zero weights: 1998\n"
     ]
    }
   ],
   "source": [
    "from sklearn.linear_model import LogisticRegression\n",
    "\n",
    "clf = LogisticRegression(C= 500, penalty= 'l1')\n",
    "clf.fit(x_train,y_train)\n",
    "pred = clf.predict(x_test)\n",
    "print(\"Accuracy on test set: %0.3f%%\"%(accuracy_score(y_test, pred)*100))\n",
    "print(\"F1-Score on test set: %0.3f\"%(f1_score(y_test, pred)))\n",
    "print(\"Non Zero weights:\",np.count_nonzero(clf.coef_))"
   ]
  },
  {
   "cell_type": "code",
   "execution_count": 53,
   "metadata": {},
   "outputs": [
    {
     "name": "stdout",
     "output_type": "stream",
     "text": [
      "Accuracy on test set: 91.043%\n",
      "F1-Score on test set: 0.947\n",
      "Non Zero weights: 1989\n"
     ]
    }
   ],
   "source": [
    "from sklearn.linear_model import LogisticRegression\n",
    "\n",
    "clf = LogisticRegression(C= 100, penalty= 'l1')\n",
    "clf.fit(x_train,y_train)\n",
    "pred = clf.predict(x_test)\n",
    "print(\"Accuracy on test set: %0.3f%%\"%(accuracy_score(y_test, pred)*100))\n",
    "print(\"F1-Score on test set: %0.3f\"%(f1_score(y_test, pred)))\n",
    "print(\"Non Zero weights:\",np.count_nonzero(clf.coef_))"
   ]
  },
  {
   "cell_type": "code",
   "execution_count": 54,
   "metadata": {},
   "outputs": [
    {
     "name": "stdout",
     "output_type": "stream",
     "text": [
      "Accuracy on test set: 91.047%\n",
      "F1-Score on test set: 0.947\n",
      "Non Zero weights: 1980\n"
     ]
    }
   ],
   "source": [
    "from sklearn.linear_model import LogisticRegression\n",
    "\n",
    "clf = LogisticRegression(C= 50, penalty= 'l1')\n",
    "clf.fit(x_train,y_train)\n",
    "pred = clf.predict(x_test)\n",
    "print(\"Accuracy on test set: %0.3f%%\"%(accuracy_score(y_test, pred)*100))\n",
    "print(\"F1-Score on test set: %0.3f\"%(f1_score(y_test, pred)))\n",
    "print(\"Non Zero weights:\",np.count_nonzero(clf.coef_))"
   ]
  },
  {
   "cell_type": "code",
   "execution_count": 55,
   "metadata": {},
   "outputs": [
    {
     "name": "stdout",
     "output_type": "stream",
     "text": [
      "Accuracy on test set: 91.073%\n",
      "F1-Score on test set: 0.947\n",
      "Non Zero weights: 1889\n"
     ]
    }
   ],
   "source": [
    "from sklearn.linear_model import LogisticRegression\n",
    "\n",
    "clf = LogisticRegression(C= 10, penalty= 'l1')\n",
    "clf.fit(x_train,y_train)\n",
    "pred = clf.predict(x_test)\n",
    "print(\"Accuracy on test set: %0.3f%%\"%(accuracy_score(y_test, pred)*100))\n",
    "print(\"F1-Score on test set: %0.3f\"%(f1_score(y_test, pred)))\n",
    "print(\"Non Zero weights:\",np.count_nonzero(clf.coef_))"
   ]
  },
  {
   "cell_type": "code",
   "execution_count": 56,
   "metadata": {},
   "outputs": [
    {
     "name": "stdout",
     "output_type": "stream",
     "text": [
      "Accuracy on test set: 91.160%\n",
      "F1-Score on test set: 0.947\n",
      "Non Zero weights: 1758\n"
     ]
    }
   ],
   "source": [
    "from sklearn.linear_model import LogisticRegression\n",
    "\n",
    "clf = LogisticRegression(C= 5, penalty= 'l1')\n",
    "clf.fit(x_train,y_train)\n",
    "pred = clf.predict(x_test)\n",
    "print(\"Accuracy on test set: %0.3f%%\"%(accuracy_score(y_test, pred)*100))\n",
    "print(\"F1-Score on test set: %0.3f\"%(f1_score(y_test, pred)))\n",
    "print(\"Non Zero weights:\",np.count_nonzero(clf.coef_))"
   ]
  },
  {
   "cell_type": "code",
   "execution_count": 57,
   "metadata": {},
   "outputs": [
    {
     "name": "stdout",
     "output_type": "stream",
     "text": [
      "Accuracy on test set: 91.033%\n",
      "F1-Score on test set: 0.947\n",
      "Non Zero weights: 1105\n"
     ]
    }
   ],
   "source": [
    "from sklearn.linear_model import LogisticRegression\n",
    "\n",
    "clf = LogisticRegression(C= 1, penalty= 'l1')\n",
    "clf.fit(x_train,y_train)\n",
    "pred = clf.predict(x_test)\n",
    "print(\"Accuracy on test set: %0.3f%%\"%(accuracy_score(y_test, pred)*100))\n",
    "print(\"F1-Score on test set: %0.3f\"%(f1_score(y_test, pred)))\n",
    "print(\"Non Zero weights:\",np.count_nonzero(clf.coef_))"
   ]
  },
  {
   "cell_type": "code",
   "execution_count": 58,
   "metadata": {},
   "outputs": [
    {
     "name": "stdout",
     "output_type": "stream",
     "text": [
      "Accuracy on test set: 88.520%\n",
      "F1-Score on test set: 0.934\n",
      "Non Zero weights: 213\n"
     ]
    }
   ],
   "source": [
    "from sklearn.linear_model import LogisticRegression\n",
    "\n",
    "clf = LogisticRegression(C= 0.1, penalty= 'l1')\n",
    "clf.fit(x_train,y_train)\n",
    "pred = clf.predict(x_test)\n",
    "print(\"Accuracy on test set: %0.3f%%\"%(accuracy_score(y_test, pred)*100))\n",
    "print(\"F1-Score on test set: %0.3f\"%(f1_score(y_test, pred)))\n",
    "print(\"Non Zero weights:\",np.count_nonzero(clf.coef_))"
   ]
  },
  {
   "cell_type": "code",
   "execution_count": 59,
   "metadata": {},
   "outputs": [
    {
     "name": "stdout",
     "output_type": "stream",
     "text": [
      "Accuracy on test set: 82.477%\n",
      "F1-Score on test set: 0.904\n",
      "Non Zero weights: 12\n"
     ]
    }
   ],
   "source": [
    "from sklearn.linear_model import LogisticRegression\n",
    "\n",
    "clf = LogisticRegression(C= 0.01, penalty= 'l1')\n",
    "clf.fit(x_train,y_train)\n",
    "pred = clf.predict(x_test)\n",
    "print(\"Accuracy on test set: %0.3f%%\"%(accuracy_score(y_test, pred)*100))\n",
    "print(\"F1-Score on test set: %0.3f\"%(f1_score(y_test, pred)))\n",
    "print(\"Non Zero weights:\",np.count_nonzero(clf.coef_))"
   ]
  },
  {
   "cell_type": "markdown",
   "metadata": {},
   "source": [
    "# OBSERVATION:\n",
    "1) As lambda value increases in L1 regularizer (C=1/lambda, C is inversly propotional to Lambda so with increase in       \n",
    "   C value alpha value decreases) sparsity of the matrix also increase.\n",
    "\n",
    "2) When C = 1000, Non Zero weights: 2000\n",
    "      \n",
    "   When C = 500, Non Zero weights: 1998\n",
    "      \n",
    "   When C = 100, Non Zero weights: 1989\n",
    "      \n",
    "   . .\n",
    "      \n",
    "   . .\n",
    "      \n",
    "   . .\n",
    "      \n",
    "   . .\n",
    "      \n",
    "   When C = 0.01, Non Zero weights: 12\n"
   ]
  },
  {
   "cell_type": "markdown",
   "metadata": {},
   "source": [
    "**Random Search technique** to find the best c value and choosing between L1 and L2 regularizer"
   ]
  },
  {
   "cell_type": "code",
   "execution_count": 60,
   "metadata": {},
   "outputs": [
    {
     "name": "stdout",
     "output_type": "stream",
     "text": [
      "CPU times: user 4 µs, sys: 1 µs, total: 5 µs\n",
      "Wall time: 8.82 µs\n",
      "Fitting 10 folds for each of 10 candidates, totalling 100 fits\n"
     ]
    },
    {
     "name": "stderr",
     "output_type": "stream",
     "text": [
      "[Parallel(n_jobs=-1)]: Using backend LokyBackend with 4 concurrent workers.\n",
      "[Parallel(n_jobs=-1)]: Done  42 tasks      | elapsed:   24.8s\n",
      "[Parallel(n_jobs=-1)]: Done 100 out of 100 | elapsed:   38.9s finished\n"
     ]
    },
    {
     "name": "stdout",
     "output_type": "stream",
     "text": [
      "The best HyperParameter:  {'penalty': 'l2', 'C': 10}\n",
      "The best Accuracy: 91.41%\n"
     ]
    }
   ],
   "source": [
    " %time\n",
    "from sklearn.model_selection import RandomizedSearchCV\n",
    "from sklearn.linear_model import LogisticRegression\n",
    "\n",
    "clf = LogisticRegression()\n",
    "#params we need to try on classifier\n",
    "param_grid = { 'C':[1000,500,100,50,10,5,1,0.5,0.1,0.05,0.01,0.005,0.001,0.0005,0.0001],\n",
    "              'penalty':['l1','l2']}\n",
    "tscv = TimeSeriesSplit(n_splits=10) #For time based splitting\n",
    "gsv = RandomizedSearchCV(clf,param_grid,cv=tscv,verbose=1,n_jobs=-1,scoring='f1_micro')\n",
    "gsv.fit(x_train,y_train)\n",
    "print(\"The best HyperParameter: \",gsv.best_params_)\n",
    "print(\"The best Accuracy: %.2f%%\"%(gsv.best_score_*100))"
   ]
  },
  {
   "cell_type": "code",
   "execution_count": 61,
   "metadata": {},
   "outputs": [
    {
     "name": "stdout",
     "output_type": "stream",
     "text": [
      "Accuracy on test set: 91.113%\n",
      "Precision on test set: 0.927\n",
      "Recall on test set: 0.968\n",
      "F1-micro-Score on test set: 0.911\n"
     ]
    },
    {
     "data": {
      "image/png": "[encoded data removed]",
      "text/plain": [
       "<Figure size 1440x288 with 6 Axes>"
      ]
     },
     "metadata": {},
     "output_type": "display_data"
    }
   ],
   "source": [
    "#Testing Accuracy on Test data\n",
    "from sklearn.linear_model import LogisticRegression\n",
    "\n",
    "clf = LogisticRegression(C= 5, penalty= 'l2')\n",
    "clf.fit(x_train,y_train)\n",
    "pred = clf.predict(x_test)\n",
    "\n",
    "print(\"Accuracy on test set: %0.3f%%\"%(accuracy_score(y_test, pred)*100))\n",
    "print(\"Precision on test set: %0.3f\"%(precision_score(y_test, pred)))\n",
    "print(\"Recall on test set: %0.3f\"%(recall_score(y_test, pred)))\n",
    "print(\"F1-micro-Score on test set: %0.3f\"%(f1_score(y_test, pred,average='micro')))\n",
    "plot_confusion_matrix(y_test, pred)"
   ]
  },
  {
   "cell_type": "markdown",
   "metadata": {},
   "source": [
    "# OBSERVATION:\n",
    "1) Using Random Search Technique to find the best hyperparameter and regularizer technique(L1 or L2). The best C value \n",
    "\n",
    "   is 10 and using L2 regularizer.\n",
    "\n",
    "2) F1-micro-Score on test set: 91.1%"
   ]
  },
  {
   "cell_type": "markdown",
   "metadata": {},
   "source": [
    "##### Finding if the features are Multi-collinear ? "
   ]
  },
  {
   "cell_type": "code",
   "execution_count": 65,
   "metadata": {},
   "outputs": [
    {
     "name": "stdout",
     "output_type": "stream",
     "text": [
      "Accuracy on test set: 91.050%\n",
      "Non Zero weights: 2000\n"
     ]
    }
   ],
   "source": [
    "from sklearn.linear_model import LogisticRegression\n",
    "\n",
    "clf = LogisticRegression(C= 500, penalty= 'l2')\n",
    "clf.fit(x_train,y_train)\n",
    "pred = clf.predict(x_test)\n",
    "print(\"Accuracy on test set: %0.3f%%\"%(accuracy_score(y_test, pred)*100))\n",
    "print(\"Non Zero weights:\",np.count_nonzero(clf.coef_))"
   ]
  },
  {
   "cell_type": "code",
   "execution_count": 66,
   "metadata": {},
   "outputs": [
    {
     "name": "stdout",
     "output_type": "stream",
     "text": [
      "[ 1.24185971  0.45280111 -0.06976876  0.25426817  4.48568523 -4.71095516\n",
      "  0.7604308  -0.13753954  5.50078729 -2.6172214   0.08094947  2.43481778\n",
      "  0.38848867 -1.59409202  2.4167339   3.57289665  4.81471205  9.74052304\n",
      "  1.37947298  0.73465091  1.14178569  3.94562584 -2.61761703 -0.75797448\n",
      "  8.28441973  2.61758931 -3.652746    2.8378592   2.20436146 -2.05095151\n",
      " -1.26362457  1.50512969 -3.3048419  -0.30376877  2.44943525  1.21645134\n",
      "  1.25049162 -0.12518926 -2.19589411  4.39037336  3.30533444  2.66651123\n",
      " -0.51173027 -0.01940582  6.66009577 12.38242422  9.0459184   0.42936282\n",
      "  7.7300511  -6.19465756]\n"
     ]
    }
   ],
   "source": [
    "from scipy.sparse import find\n",
    "#Weights before adding random noise\n",
    "weights1 = find(clf.coef_[0])[2]\n",
    "print(weights1[:50])\n"
   ]
  },
  {
   "cell_type": "code",
   "execution_count": 68,
   "metadata": {},
   "outputs": [],
   "source": [
    "x_train_n = x_train\n",
    "#Random noise\n",
    "noise = np.random.uniform(low=-0.0001, high=0.0001, size=(find(x_train_n)[0].size,))\n",
    "#Getting the postions(row and column) and value of non-zero datapoints \n",
    "a,b,c = find(x_train_n)\n",
    "\n",
    "#Introducing random noise to non-zero datapoints\n",
    "x_train_n[a,b] = noise + x_train_n[a,b]"
   ]
  },
  {
   "cell_type": "code",
   "execution_count": 69,
   "metadata": {},
   "outputs": [
    {
     "name": "stdout",
     "output_type": "stream",
     "text": [
      "Accuracy on test set: 91.050%\n",
      "Non Zero weights: 2000\n"
     ]
    }
   ],
   "source": [
    "#Training on train data having random noise\n",
    "from sklearn.linear_model import LogisticRegression\n",
    "\n",
    "clf = LogisticRegression(C= 10, penalty= 'l2')\n",
    "clf.fit(x_train_n,y_train)\n",
    "y = clf.predict(x_test)\n",
    "print(\"Accuracy on test set: %0.3f%%\"%(accuracy_score(y_test, pred)*100))\n",
    "print(\"Non Zero weights:\",np.count_nonzero(clf.coef_))"
   ]
  },
  {
   "cell_type": "code",
   "execution_count": 70,
   "metadata": {},
   "outputs": [
    {
     "name": "stdout",
     "output_type": "stream",
     "text": [
      "[ 1.24412513  0.42793693  0.08872663  0.38676092  3.01847336 -3.53518029\n",
      "  0.60116881 -0.32021159  3.68632139 -1.65677072  0.11114003  1.81120325\n",
      "  0.30331653 -1.34208807  2.41191989  1.69369378  2.46183159  7.97306739\n",
      "  1.16268877  0.58680757  1.03611659  2.79356741 -2.35821336 -0.39536936\n",
      "  5.6044984   1.78850215 -3.38128478  2.13973052  1.6771443  -1.23393564\n",
      " -1.08359984  0.9863157  -2.43215204 -0.56768975  1.72564824  1.0989168\n",
      "  0.89533644 -0.13909629 -2.06920686  3.28257263  2.66393815  2.25149219\n",
      " -0.33990223  0.28624111  3.26492156  3.75593208  5.48697392  0.23933054\n",
      "  3.19291226 -3.65251912]\n"
     ]
    }
   ],
   "source": [
    "from scipy.sparse import find\n",
    "#Weights after adding random noise\n",
    "weights2 = find(clf.coef_[0])[2]\n",
    "print(weights2[:50])"
   ]
  },
  {
   "cell_type": "code",
   "execution_count": 71,
   "metadata": {},
   "outputs": [
    {
     "name": "stdout",
     "output_type": "stream",
     "text": [
      "[ 1.24186071  0.45280211 -0.06976776  0.25426917  4.48568623 -4.71095416\n",
      "  0.7604318  -0.13753854  5.50078829 -2.6172204   0.08095047  2.43481878\n",
      "  0.38848967 -1.59409102  2.4167349   3.57289765  4.81471305  9.74052404\n",
      "  1.37947398  0.73465191  1.14178669  3.94562684 -2.61761603 -0.75797348\n",
      "  8.28442073]\n",
      "[ 1.24412613  0.42793793  0.08872763  0.38676192  3.01847436 -3.53517929\n",
      "  0.60116981 -0.32021059  3.68632239 -1.65676972  0.11114103  1.81120425\n",
      "  0.30331753 -1.34208707  2.41192089  1.69369478  2.46183259  7.97306839\n",
      "  1.16268977  0.58680857  1.03611759  2.79356841 -2.35821236 -0.39536836\n",
      "  5.6044994 ]\n"
     ]
    }
   ],
   "source": [
    "#Add the small eps value(to eliminate the divisible by zero error) to W and W’ i.e W=W+10^-6 and W’ = W’+10^-6\n",
    "noise = 0.000001\n",
    "weights1 = weights1 + noise\n",
    "print(weights1[:25])\n",
    "\n",
    "weights2 = weights2 + noise\n",
    "print(weights2[:25])"
   ]
  },
  {
   "cell_type": "code",
   "execution_count": 72,
   "metadata": {},
   "outputs": [],
   "source": [
    "weights_diff = (abs(weights1 - weights2)/weights1) * 100"
   ]
  },
  {
   "cell_type": "code",
   "execution_count": 79,
   "metadata": {},
   "outputs": [
    {
     "name": "stdout",
     "output_type": "stream",
     "text": [
      "1099\n",
      "920\n",
      "700\n",
      "464\n",
      "463\n",
      "462\n",
      "460\n",
      "458\n",
      "458\n",
      "454\n",
      "449\n",
      "449\n",
      "449\n",
      "448\n",
      "419\n",
      "396\n",
      "377\n",
      "354\n",
      "337\n",
      "322\n",
      "292\n",
      "278\n",
      "259\n",
      "146\n",
      "95\n",
      "71\n",
      "54\n",
      "47\n",
      "43\n"
     ]
    }
   ],
   "source": [
    "print(weights_diff[np.where(weights_diff > 0)].size)\n",
    "print(weights_diff[np.where(weights_diff > 10)].size)\n",
    "print(weights_diff[np.where(weights_diff > 20)].size)\n",
    "print(weights_diff[np.where(weights_diff > 30)].size)\n",
    "print(weights_diff[np.where(weights_diff > 30.1)].size)\n",
    "print(weights_diff[np.where(weights_diff > 30.2)].size)\n",
    "print(weights_diff[np.where(weights_diff > 30.3)].size)\n",
    "print(weights_diff[np.where(weights_diff > 30.4)].size)\n",
    "print(weights_diff[np.where(weights_diff > 30.5)].size)\n",
    "print(weights_diff[np.where(weights_diff > 30.6)].size)\n",
    "print(weights_diff[np.where(weights_diff > 30.7)].size)\n",
    "print(weights_diff[np.where(weights_diff > 30.8)].size)\n",
    "print(weights_diff[np.where(weights_diff > 30.9)].size)\n",
    "print(weights_diff[np.where(weights_diff > 31)].size)\n",
    "print(weights_diff[np.where(weights_diff > 32)].size)\n",
    "print(weights_diff[np.where(weights_diff > 33)].size)\n",
    "print(weights_diff[np.where(weights_diff > 34)].size)\n",
    "print(weights_diff[np.where(weights_diff > 35)].size)\n",
    "print(weights_diff[np.where(weights_diff > 36)].size)\n",
    "print(weights_diff[np.where(weights_diff > 37)].size)\n",
    "print(weights_diff[np.where(weights_diff > 38)].size)\n",
    "print(weights_diff[np.where(weights_diff > 39)].size)\n",
    "print(weights_diff[np.where(weights_diff > 40)].size)\n",
    "print(weights_diff[np.where(weights_diff > 50)].size)\n",
    "print(weights_diff[np.where(weights_diff > 60)].size)\n",
    "print(weights_diff[np.where(weights_diff > 70)].size)\n",
    "print(weights_diff[np.where(weights_diff > 80)].size)\n",
    "print(weights_diff[np.where(weights_diff > 90)].size)\n",
    "print(weights_diff[np.where(weights_diff > 100)].size)#179#220#236#205#115#51#24#17#7#4"
   ]
  },
  {
   "cell_type": "code",
   "execution_count": 80,
   "metadata": {},
   "outputs": [],
   "source": [
    "# feature names whose % change is more than a threshold x\n",
    "df = pd.DataFrame(data=(abs(weights1 - weights2)/weights1) * 100 > 30, index=count_vect.get_feature_names())"
   ]
  },
  {
   "cell_type": "code",
   "execution_count": 81,
   "metadata": {},
   "outputs": [
    {
     "data": {
      "text/html": [
       "<div>\n",
       "<style scoped>\n",
       "    .dataframe tbody tr th:only-of-type {\n",
       "        vertical-align: middle;\n",
       "    }\n",
       "\n",
       "    .dataframe tbody tr th {\n",
       "        vertical-align: top;\n",
       "    }\n",
       "\n",
       "    .dataframe thead th {\n",
       "        text-align: right;\n",
       "    }\n",
       "</style>\n",
       "<table border=\"1\" class=\"dataframe\">\n",
       "  <thead>\n",
       "    <tr style=\"text-align: right;\">\n",
       "      <th></th>\n",
       "      <th>0</th>\n",
       "    </tr>\n",
       "  </thead>\n",
       "  <tbody>\n",
       "    <tr>\n",
       "      <th>absolut delici</th>\n",
       "      <td>True</td>\n",
       "    </tr>\n",
       "    <tr>\n",
       "      <th>absolut love</th>\n",
       "      <td>True</td>\n",
       "    </tr>\n",
       "    <tr>\n",
       "      <th>across</th>\n",
       "      <td>True</td>\n",
       "    </tr>\n",
       "    <tr>\n",
       "      <th>actual</th>\n",
       "      <td>True</td>\n",
       "    </tr>\n",
       "    <tr>\n",
       "      <th>add littl</th>\n",
       "      <td>True</td>\n",
       "    </tr>\n",
       "    <tr>\n",
       "      <th>add water</th>\n",
       "      <td>True</td>\n",
       "    </tr>\n",
       "    <tr>\n",
       "      <th>afford</th>\n",
       "      <td>True</td>\n",
       "    </tr>\n",
       "    <tr>\n",
       "      <th>afternoon</th>\n",
       "      <td>True</td>\n",
       "    </tr>\n",
       "    <tr>\n",
       "      <th>ahead</th>\n",
       "      <td>True</td>\n",
       "    </tr>\n",
       "    <tr>\n",
       "      <th>also good</th>\n",
       "      <td>True</td>\n",
       "    </tr>\n",
       "    <tr>\n",
       "      <th>also great</th>\n",
       "      <td>True</td>\n",
       "    </tr>\n",
       "    <tr>\n",
       "      <th>also like</th>\n",
       "      <td>True</td>\n",
       "    </tr>\n",
       "    <tr>\n",
       "      <th>also love</th>\n",
       "      <td>True</td>\n",
       "    </tr>\n",
       "    <tr>\n",
       "      <th>also make</th>\n",
       "      <td>True</td>\n",
       "    </tr>\n",
       "    <tr>\n",
       "      <th>also use</th>\n",
       "      <td>True</td>\n",
       "    </tr>\n",
       "    <tr>\n",
       "      <th>amazon</th>\n",
       "      <td>True</td>\n",
       "    </tr>\n",
       "    <tr>\n",
       "      <th>amazon price</th>\n",
       "      <td>True</td>\n",
       "    </tr>\n",
       "    <tr>\n",
       "      <th>american</th>\n",
       "      <td>True</td>\n",
       "    </tr>\n",
       "    <tr>\n",
       "      <th>among</th>\n",
       "      <td>True</td>\n",
       "    </tr>\n",
       "    <tr>\n",
       "      <th>anim</th>\n",
       "      <td>True</td>\n",
       "    </tr>\n",
       "    <tr>\n",
       "      <th>antioxid</th>\n",
       "      <td>True</td>\n",
       "    </tr>\n",
       "    <tr>\n",
       "      <th>anymor</th>\n",
       "      <td>True</td>\n",
       "    </tr>\n",
       "    <tr>\n",
       "      <th>anyth els</th>\n",
       "      <td>True</td>\n",
       "    </tr>\n",
       "    <tr>\n",
       "      <th>anytim</th>\n",
       "      <td>True</td>\n",
       "    </tr>\n",
       "    <tr>\n",
       "      <th>area</th>\n",
       "      <td>True</td>\n",
       "    </tr>\n",
       "    <tr>\n",
       "      <th>aromat</th>\n",
       "      <td>True</td>\n",
       "    </tr>\n",
       "    <tr>\n",
       "      <th>arriv</th>\n",
       "      <td>True</td>\n",
       "    </tr>\n",
       "    <tr>\n",
       "      <th>arriv quick</th>\n",
       "      <td>True</td>\n",
       "    </tr>\n",
       "    <tr>\n",
       "      <th>artifici sweeten</th>\n",
       "      <td>True</td>\n",
       "    </tr>\n",
       "    <tr>\n",
       "      <th>attent</th>\n",
       "      <td>True</td>\n",
       "    </tr>\n",
       "    <tr>\n",
       "      <th>...</th>\n",
       "      <td>...</td>\n",
       "    </tr>\n",
       "    <tr>\n",
       "      <th>vanilla flavor</th>\n",
       "      <td>True</td>\n",
       "    </tr>\n",
       "    <tr>\n",
       "      <th>varieti pack</th>\n",
       "      <td>True</td>\n",
       "    </tr>\n",
       "    <tr>\n",
       "      <th>various</th>\n",
       "      <td>True</td>\n",
       "    </tr>\n",
       "    <tr>\n",
       "      <th>versatil</th>\n",
       "      <td>True</td>\n",
       "    </tr>\n",
       "    <tr>\n",
       "      <th>vet</th>\n",
       "      <td>True</td>\n",
       "    </tr>\n",
       "    <tr>\n",
       "      <th>visit</th>\n",
       "      <td>True</td>\n",
       "    </tr>\n",
       "    <tr>\n",
       "      <th>wait</th>\n",
       "      <td>True</td>\n",
       "    </tr>\n",
       "    <tr>\n",
       "      <th>wake</th>\n",
       "      <td>True</td>\n",
       "    </tr>\n",
       "    <tr>\n",
       "      <th>want someth</th>\n",
       "      <td>True</td>\n",
       "    </tr>\n",
       "    <tr>\n",
       "      <th>warm</th>\n",
       "      <td>True</td>\n",
       "    </tr>\n",
       "    <tr>\n",
       "      <th>wash</th>\n",
       "      <td>True</td>\n",
       "    </tr>\n",
       "    <tr>\n",
       "      <th>way get</th>\n",
       "      <td>True</td>\n",
       "    </tr>\n",
       "    <tr>\n",
       "      <th>web</th>\n",
       "      <td>True</td>\n",
       "    </tr>\n",
       "    <tr>\n",
       "      <th>well worth</th>\n",
       "      <td>True</td>\n",
       "    </tr>\n",
       "    <tr>\n",
       "      <th>whatev</th>\n",
       "      <td>True</td>\n",
       "    </tr>\n",
       "    <tr>\n",
       "      <th>whenev</th>\n",
       "      <td>True</td>\n",
       "    </tr>\n",
       "    <tr>\n",
       "      <th>white tea</th>\n",
       "      <td>True</td>\n",
       "    </tr>\n",
       "    <tr>\n",
       "      <th>whole</th>\n",
       "      <td>True</td>\n",
       "    </tr>\n",
       "    <tr>\n",
       "      <th>whole food</th>\n",
       "      <td>True</td>\n",
       "    </tr>\n",
       "    <tr>\n",
       "      <th>whole grain</th>\n",
       "      <td>True</td>\n",
       "    </tr>\n",
       "    <tr>\n",
       "      <th>will</th>\n",
       "      <td>True</td>\n",
       "    </tr>\n",
       "    <tr>\n",
       "      <th>winner</th>\n",
       "      <td>True</td>\n",
       "    </tr>\n",
       "    <tr>\n",
       "      <th>within</th>\n",
       "      <td>True</td>\n",
       "    </tr>\n",
       "    <tr>\n",
       "      <th>work great</th>\n",
       "      <td>True</td>\n",
       "    </tr>\n",
       "    <tr>\n",
       "      <th>worth tri</th>\n",
       "      <td>True</td>\n",
       "    </tr>\n",
       "    <tr>\n",
       "      <th>would good</th>\n",
       "      <td>True</td>\n",
       "    </tr>\n",
       "    <tr>\n",
       "      <th>would recommend</th>\n",
       "      <td>True</td>\n",
       "    </tr>\n",
       "    <tr>\n",
       "      <th>would say</th>\n",
       "      <td>True</td>\n",
       "    </tr>\n",
       "    <tr>\n",
       "      <th>year ago</th>\n",
       "      <td>True</td>\n",
       "    </tr>\n",
       "    <tr>\n",
       "      <th>yum</th>\n",
       "      <td>True</td>\n",
       "    </tr>\n",
       "  </tbody>\n",
       "</table>\n",
       "<p>464 rows × 1 columns</p>\n",
       "</div>"
      ],
      "text/plain": [
       "                     0\n",
       "absolut delici    True\n",
       "absolut love      True\n",
       "across            True\n",
       "actual            True\n",
       "add littl         True\n",
       "add water         True\n",
       "afford            True\n",
       "afternoon         True\n",
       "ahead             True\n",
       "also good         True\n",
       "also great        True\n",
       "also like         True\n",
       "also love         True\n",
       "also make         True\n",
       "also use          True\n",
       "amazon            True\n",
       "amazon price      True\n",
       "american          True\n",
       "among             True\n",
       "anim              True\n",
       "antioxid          True\n",
       "anymor            True\n",
       "anyth els         True\n",
       "anytim            True\n",
       "area              True\n",
       "aromat            True\n",
       "arriv             True\n",
       "arriv quick       True\n",
       "artifici sweeten  True\n",
       "attent            True\n",
       "...                ...\n",
       "vanilla flavor    True\n",
       "varieti pack      True\n",
       "various           True\n",
       "versatil          True\n",
       "vet               True\n",
       "visit             True\n",
       "wait              True\n",
       "wake              True\n",
       "want someth       True\n",
       "warm              True\n",
       "wash              True\n",
       "way get           True\n",
       "web               True\n",
       "well worth        True\n",
       "whatev            True\n",
       "whenev            True\n",
       "white tea         True\n",
       "whole             True\n",
       "whole food        True\n",
       "whole grain       True\n",
       "will              True\n",
       "winner            True\n",
       "within            True\n",
       "work great        True\n",
       "worth tri         True\n",
       "would good        True\n",
       "would recommend   True\n",
       "would say         True\n",
       "year ago          True\n",
       "yum               True\n",
       "\n",
       "[464 rows x 1 columns]"
      ]
     },
     "execution_count": 81,
     "metadata": {},
     "output_type": "execute_result"
    }
   ],
   "source": [
    "df[df[0]] == True"
   ]
  },
  {
   "cell_type": "markdown",
   "metadata": {},
   "source": [
    "## Observation\n",
    " 464 feature's weight changes more than 30%. Hence, the feature are multi-collinear."
   ]
  },
  {
   "cell_type": "code",
   "execution_count": 82,
   "metadata": {},
   "outputs": [
    {
     "name": "stdout",
     "output_type": "stream",
     "text": [
      "\t\tNegative\t\t\t\t\tPositive\n",
      "________________________________________________________________________________________________\n",
      "\t-14.9507\tworst          \t\t\t\t13.4936\thigh recommend \n",
      "\t-12.4264\taw             \t\t\t\t9.9588\thook           \n",
      "\t-11.0154\twont buy       \t\t\t\t9.8030\tskeptic        \n",
      "\t-10.3941\thorribl        \t\t\t\t9.6724\tperfect        \n",
      "\t-10.3217\tterribl        \t\t\t\t9.4122\tdelici         \n",
      "\t-10.3070\twors           \t\t\t\t8.9597\texcel          \n",
      "\t-10.1643\tdisgust        \t\t\t\t8.5156\tpleasant surpris\n",
      "\t-10.0355\tcancel         \t\t\t\t8.3385\tbeat           \n",
      "\t-9.2977\ttasteless      \t\t\t\t8.0998\tfantast        \n",
      "\t-8.8995\trefund         \t\t\t\t8.0928\tawesom         \n",
      "\t-8.8861\treturn         \t\t\t\t8.0873\tamaz           \n",
      "\t-8.8645\truin           \t\t\t\t8.0816\teven better    \n",
      "\t-8.5894\tdisappoint     \t\t\t\t8.0030\twell worth     \n",
      "\t-8.1546\tthrew          \t\t\t\t7.9731\taddict         \n",
      "\t-7.8460\tbland          \t\t\t\t7.7177\tright amount   \n",
      "\t-7.6223\tnever buy      \t\t\t\t7.5882\tyum            \n",
      "\t-7.6148\tearth best     \t\t\t\t7.3246\tworri          \n",
      "\t-7.3417\tgross          \t\t\t\t7.2737\trefresh        \n",
      "\t-7.1622\tsad            \t\t\t\t7.2504\tbest           \n",
      "\t-7.1208\todd            \t\t\t\t7.2385\tyummi          \n",
      "\t-7.1054\tneither        \t\t\t\t7.0249\theaven         \n",
      "\t-7.0875\tsorri          \t\t\t\t6.8734\tdri food       \n",
      "\t-7.0652\tunfortun       \t\t\t\t6.8102\teveryday       \n",
      "\t-7.0559\ttrash          \t\t\t\t6.7710\thesit          \n",
      "\t-6.9757\tpoor           \t\t\t\t6.7619\tglad           \n",
      "\t-6.8016\tbewar          \t\t\t\t6.6229\tsmooth         \n",
      "\t-6.6074\tchina          \t\t\t\t6.3854\tbreath         \n",
      "\t-6.3491\tweak           \t\t\t\t6.3296\tfabul          \n",
      "\t-6.3097\twast           \t\t\t\t6.3042\trealli good    \n",
      "\t-6.2166\tstale          \t\t\t\t6.1718\tsuperior       \n",
      "\t-5.8322\tnoth like      \t\t\t\t6.1672\tdefinit buy    \n",
      "\t-5.6304\tsick           \t\t\t\t6.0727\tgreat          \n",
      "\t-5.5871\tidea           \t\t\t\t5.9201\tnice           \n",
      "\t-5.4563\tvomit          \t\t\t\t5.8660\tuniqu          \n",
      "\t-5.3929\tdiarrhea       \t\t\t\t5.8122\tlove stuff     \n",
      "\t-4.9998\tlack           \t\t\t\t5.7714\tcomplaint      \n",
      "\t-4.9992\tnasti          \t\t\t\t5.7488\tbest tast      \n",
      "\t-4.8413\trip            \t\t\t\t5.6789\tsatisfi        \n",
      "\t-4.8300\tposit          \t\t\t\t5.6045\tafford         \n",
      "\t-4.7948\tsave money     \t\t\t\t5.5610\ttasti          \n",
      "\t-4.7767\tavoid          \t\t\t\t5.5027\tone best       \n",
      "\t-4.7385\twast money     \t\t\t\t5.4870\talso like      \n",
      "\t-4.6856\tforc           \t\t\t\t5.3916\tfive star      \n",
      "\t-4.6511\tedibl          \t\t\t\t5.3650\tbeauti         \n",
      "\t-4.6161\tflat           \t\t\t\t5.2530\tget enough     \n",
      "\t-4.6018\tpass           \t\t\t\t5.2245\tlove product   \n",
      "\t-4.5982\tcaus           \t\t\t\t5.2173\tdelic          \n",
      "\t-4.5815\texcit          \t\t\t\t5.1811\twonder         \n",
      "\t-4.5799\tcardboard      \t\t\t\t5.1398\tsubtl          \n",
      "\t-4.5574\tthrow          \t\t\t\t5.1339\tdelight        \n"
     ]
    }
   ],
   "source": [
    "#top 50 features of Negative reviews and positive reviews\n",
    "def show_most_informative_features(vectorizer, clf, n=50):\n",
    "    feature_names = vectorizer.get_feature_names()\n",
    "    coefs_with_fns = sorted(zip(clf.coef_[0], feature_names))\n",
    "    top = zip(coefs_with_fns[:n], coefs_with_fns[:-(n + 1):-1])\n",
    "    print(\"\\t\\tNegative\\t\\t\\t\\t\\tPositive\")\n",
    "    print(\"________________________________________________________________________________________________\")\n",
    "    for (coef_1, fn_1), (coef_2, fn_2) in top:\n",
    "        print(\"\\t%.4f\\t%-15s\\t\\t\\t\\t%.4f\\t%-15s\" % (coef_1, fn_1, coef_2, fn_2))\n",
    "        \n",
    "show_most_informative_features(count_vect,clf)"
   ]
  },
  {
   "cell_type": "markdown",
   "metadata": {},
   "source": [
    "# TF-IDF"
   ]
  },
  {
   "cell_type": "code",
   "execution_count": 83,
   "metadata": {},
   "outputs": [],
   "source": [
    "#TF-IDF\n",
    "from sklearn.model_selection import train_test_split\n",
    "\n",
    "# Spliting into Train and test\n",
    "x_train, x_test, y_train, y_test = train_test_split(final['CleanedText'].values,final['Score'].values,test_size=0.3,shuffle=False)"
   ]
  },
  {
   "cell_type": "code",
   "execution_count": 84,
   "metadata": {},
   "outputs": [
    {
     "name": "stdout",
     "output_type": "stream",
     "text": [
      "Train Data Size:  (70000, 2000)\n",
      "Test Data Size:  (30000, 2000)\n"
     ]
    }
   ],
   "source": [
    "tfidf = TfidfVectorizer(ngram_range=(1,2), max_features=2000, min_df=10) #Using bi-grams\n",
    "x_train = tfidf.fit_transform(x_train)\n",
    "#Normalize Data\n",
    "x_train = preprocessing.normalize(x_train)\n",
    "print(\"Train Data Size: \",x_train.shape)\n",
    "x_test = tfidf.transform(x_test)\n",
    "#Normalize Data\n",
    "x_test = preprocessing.normalize(x_test)\n",
    "print(\"Test Data Size: \",x_test.shape)"
   ]
  },
  {
   "cell_type": "code",
   "execution_count": 85,
   "metadata": {},
   "outputs": [
    {
     "name": "stdout",
     "output_type": "stream",
     "text": [
      "CPU times: user 11 µs, sys: 2 µs, total: 13 µs\n",
      "Wall time: 11.9 µs\n",
      "Fitting 10 folds for each of 30 candidates, totalling 300 fits\n"
     ]
    },
    {
     "name": "stderr",
     "output_type": "stream",
     "text": [
      "[Parallel(n_jobs=-1)]: Using backend LokyBackend with 4 concurrent workers.\n",
      "[Parallel(n_jobs=-1)]: Done  42 tasks      | elapsed:   30.7s\n",
      "[Parallel(n_jobs=-1)]: Done 192 tasks      | elapsed:  1.3min\n",
      "[Parallel(n_jobs=-1)]: Done 300 out of 300 | elapsed:  1.5min finished\n"
     ]
    },
    {
     "name": "stdout",
     "output_type": "stream",
     "text": [
      "Best HyperParameter:  {'C': 5, 'penalty': 'l2'}\n",
      "Best Accuracy: 91.41%\n"
     ]
    }
   ],
   "source": [
    "%time\n",
    "from sklearn.model_selection import GridSearchCV\n",
    "from sklearn.linear_model import LogisticRegression\n",
    "\n",
    "clf = LogisticRegression()\n",
    "\n",
    "#params we need to try on classifier\n",
    "param_grid = {'C':[1000,500,100,50,10,5,1,0.5,0.1,0.05,0.01,0.005,0.001,0.0005,0.0001],\n",
    "             'penalty':['l1','l2']} \n",
    "tscv = TimeSeriesSplit(n_splits=10) #For time based splitting\n",
    "gsv = GridSearchCV(clf,param_grid,cv=tscv,verbose=1,n_jobs=-1,scoring='f1_micro')\n",
    "gsv.fit(x_train,y_train)\n",
    "print(\"Best HyperParameter: \",gsv.best_params_)\n",
    "print(\"Best Accuracy: %.2f%%\"%(gsv.best_score_*100))"
   ]
  },
  {
   "cell_type": "code",
   "execution_count": 86,
   "metadata": {},
   "outputs": [
    {
     "name": "stdout",
     "output_type": "stream",
     "text": [
      "Accuracy on test set: 91.187%\n",
      "Precision on test set: 0.929\n",
      "Recall on test set: 0.967\n",
      "F1-micro-Score on test set: 0.912\n"
     ]
    },
    {
     "data": {
      "image/png": "[encoded data removed]",
      "text/plain": [
       "<Figure size 1440x288 with 6 Axes>"
      ]
     },
     "metadata": {},
     "output_type": "display_data"
    }
   ],
   "source": [
    "#Testing Accuracy on Test data\n",
    "from sklearn.linear_model import LogisticRegression\n",
    "\n",
    "clf = LogisticRegression(C= 5, penalty= 'l2')\n",
    "clf.fit(x_train,y_train)\n",
    "pred = clf.predict(x_test)\n",
    "\n",
    "print(\"Accuracy on test set: %0.3f%%\"%(accuracy_score(y_test, pred)*100))\n",
    "print(\"Precision on test set: %0.3f\"%(precision_score(y_test, pred)))\n",
    "print(\"Recall on test set: %0.3f\"%(recall_score(y_test, pred)))\n",
    "print(\"F1-micro-Score on test set: %0.3f\"%(f1_score(y_test, pred,average='micro')))\n",
    "plot_confusion_matrix(y_test, pred)"
   ]
  },
  {
   "cell_type": "markdown",
   "metadata": {},
   "source": [
    "# OBSERVATION:\n",
    "1) Using Grid Search Technique to find the best hyperparameter and regularizer technique(L1 or L2). The best C value\n",
    "is 5 and using L2 regularizer.\n",
    "\n",
    "2) F1-micro-Score on test set: 91.2%\n"
   ]
  },
  {
   "cell_type": "code",
   "execution_count": 87,
   "metadata": {},
   "outputs": [
    {
     "name": "stdout",
     "output_type": "stream",
     "text": [
      "CPU times: user 4 µs, sys: 1 µs, total: 5 µs\n",
      "Wall time: 9.78 µs\n",
      "Fitting 10 folds for each of 10 candidates, totalling 100 fits\n"
     ]
    },
    {
     "name": "stderr",
     "output_type": "stream",
     "text": [
      "[Parallel(n_jobs=-1)]: Using backend LokyBackend with 4 concurrent workers.\n",
      "[Parallel(n_jobs=-1)]: Done  42 tasks      | elapsed:   15.2s\n",
      "[Parallel(n_jobs=-1)]: Done 100 out of 100 | elapsed:   41.7s finished\n"
     ]
    },
    {
     "name": "stdout",
     "output_type": "stream",
     "text": [
      "The best HyperParameter:  {'penalty': 'l1', 'C': 5}\n",
      "The best Accuracy: 91.31%\n"
     ]
    }
   ],
   "source": [
    "%time\n",
    "from sklearn.model_selection import RandomizedSearchCV\n",
    "from sklearn.linear_model import LogisticRegression\n",
    "\n",
    "clf = LogisticRegression()\n",
    "#params we need to try on classifier\n",
    "param_grid = { 'C':[1000,500,100,50,10,5,1,0.5,0.1,0.05,0.01,0.005,0.001,0.0005,0.0001],\n",
    "              'penalty':['l1','l2']}\n",
    "tscv = TimeSeriesSplit(n_splits=10) #For time based splitting\n",
    "gsv = RandomizedSearchCV(clf,param_grid,cv=tscv,verbose=1,n_jobs=-1,scoring='f1_micro')\n",
    "gsv.fit(x_train,y_train)\n",
    "print(\"The best HyperParameter: \",gsv.best_params_)\n",
    "print(\"The best Accuracy: %.2f%%\"%(gsv.best_score_*100))"
   ]
  },
  {
   "cell_type": "code",
   "execution_count": 88,
   "metadata": {},
   "outputs": [
    {
     "name": "stdout",
     "output_type": "stream",
     "text": [
      "Accuracy on test set: 91.067%\n",
      "Precision on test set: 0.930\n",
      "Recall on test set: 0.964\n",
      "F1-micro-Score on test set: 0.911\n"
     ]
    },
    {
     "data": {
      "image/png": "[encoded data removed]",
      "text/plain": [
       "<Figure size 1440x288 with 6 Axes>"
      ]
     },
     "metadata": {},
     "output_type": "display_data"
    }
   ],
   "source": [
    "#Testing Accuracy on Test data\n",
    "from sklearn.linear_model import LogisticRegression\n",
    "\n",
    "clf = LogisticRegression(C= 5, penalty= 'l1')\n",
    "clf.fit(x_train,y_train)\n",
    "pred = clf.predict(x_test)\n",
    "\n",
    "print(\"Accuracy on test set: %0.3f%%\"%(accuracy_score(y_test, pred)*100))\n",
    "print(\"Precision on test set: %0.3f\"%(precision_score(y_test, pred)))\n",
    "print(\"Recall on test set: %0.3f\"%(recall_score(y_test, pred)))\n",
    "print(\"F1-micro-Score on test set: %0.3f\"%(f1_score(y_test, pred,average='micro')))\n",
    "plot_confusion_matrix(y_test, pred)"
   ]
  },
  {
   "cell_type": "markdown",
   "metadata": {},
   "source": [
    "# OBSERVATION:\n",
    "1) Using Random Search Technique to find the best hyperparameter and regularizer technique(L1 or L2). The best C value\n",
    "   is 5 and using L2 regularizer.\n",
    "\n",
    "2) F1-micro-Score on test set: 91.1%"
   ]
  },
  {
   "cell_type": "code",
   "execution_count": 89,
   "metadata": {},
   "outputs": [
    {
     "name": "stdout",
     "output_type": "stream",
     "text": [
      "\t\tNegative\t\t\t\t\tPositive\n",
      "________________________________________________________________________________________________\n",
      "\t-13.4235\twors           \t\t\t\t18.5920\thigh recommend \n",
      "\t-10.8019\taw             \t\t\t\t18.5288\tpleasant       \n",
      "\t-9.3281\twont           \t\t\t\t15.2204\tsize           \n",
      "\t-9.1105\thorribl        \t\t\t\t12.9683\thook           \n",
      "\t-9.0595\tdisappoint     \t\t\t\t12.5367\tdelici         \n",
      "\t-8.9397\ttender         \t\t\t\t12.2626\tper serv       \n",
      "\t-8.7772\tworri          \t\t\t\t11.1542\tgreat          \n",
      "\t-8.5985\tdisgust        \t\t\t\t10.9585\tbest           \n",
      "\t-8.3780\tcancel         \t\t\t\t10.4406\texcel          \n",
      "\t-8.0695\tretail         \t\t\t\t9.6461\tright          \n",
      "\t-7.7709\ttast wonder    \t\t\t\t9.1108\twell           \n",
      "\t-7.4741\trefriger       \t\t\t\t8.9925\tyum            \n",
      "\t-7.4342\trub            \t\t\t\t8.8238\tbeat           \n",
      "\t-7.0854\tthought would  \t\t\t\t8.6892\tlove           \n",
      "\t-6.8706\tearth best     \t\t\t\t8.5825\tamaz           \n",
      "\t-6.7108\tbland          \t\t\t\t8.3827\tawesom         \n",
      "\t-6.4163\tunderstand     \t\t\t\t8.2728\tfantast        \n",
      "\t-6.2642\tnever buy      \t\t\t\t8.2601\taddict         \n",
      "\t-6.0667\trun            \t\t\t\t8.1450\teven better    \n",
      "\t-6.0663\tneither        \t\t\t\t7.5149\tworld          \n",
      "\t-6.0590\tpomegran       \t\t\t\t7.4435\tnice           \n",
      "\t-5.9756\todd            \t\t\t\t7.3929\teveryday       \n",
      "\t-5.9637\tsooth          \t\t\t\t7.3483\theaven         \n",
      "\t-5.9302\ttran           \t\t\t\t7.3448\tyummi          \n",
      "\t-5.8938\tgross          \t\t\t\t7.2791\tlove stuff     \n",
      "\t-5.8378\twasnt          \t\t\t\t7.2191\tdefinit buy    \n",
      "\t-5.4966\tbewar          \t\t\t\t7.0886\treduc          \n",
      "\t-5.4881\tchina          \t\t\t\t6.9766\tglad           \n",
      "\t-5.3221\tway get        \t\t\t\t6.7966\tsmoke          \n",
      "\t-5.2981\tsqueez         \t\t\t\t6.7357\tvendor         \n",
      "\t-5.0420\tidea           \t\t\t\t6.7142\tdri food       \n",
      "\t-4.7523\tshrimp         \t\t\t\t6.5943\tfabul          \n",
      "\t-4.7435\taway           \t\t\t\t6.5847\tsweet tast     \n",
      "\t-4.6911\tfell           \t\t\t\t6.5373\tfell love      \n",
      "\t-4.6826\tnoth like      \t\t\t\t6.4974\thesit          \n",
      "\t-4.4589\tvitamin        \t\t\t\t6.4174\ttasteless      \n",
      "\t-4.3775\tdiarrhea       \t\t\t\t6.4135\tsoon           \n",
      "\t-4.2935\twouldnt        \t\t\t\t6.4092\tdefinit recommend\n",
      "\t-4.2505\tforc           \t\t\t\t6.4019\tget enough     \n",
      "\t-4.2006\teven           \t\t\t\t6.3392\tbreath         \n",
      "\t-4.1846\tlack           \t\t\t\t6.2764\twithout        \n",
      "\t-4.1764\tavoid          \t\t\t\t6.2330\trealli enjoy   \n",
      "\t-4.1674\tsave           \t\t\t\t6.0569\tone best       \n",
      "\t-4.0870\thope           \t\t\t\t6.0362\tbest tast      \n",
      "\t-4.0571\tthroat         \t\t\t\t6.0189\tbonus          \n",
      "\t-4.0052\tbad            \t\t\t\t5.9984\tfive star      \n",
      "\t-4.0040\tportion        \t\t\t\t5.9295\tsardin         \n",
      "\t-3.9756\tnasti          \t\t\t\t5.9027\tdownsid        \n",
      "\t-3.9692\teffort         \t\t\t\t5.8928\talso like      \n",
      "\t-3.9498\tcaus           \t\t\t\t5.8754\talso great     \n"
     ]
    }
   ],
   "source": [
    "#Top 50 features of neaftive and positive reviews\n",
    "def show_most_informative_features(vectorizer, clf, n=50):\n",
    "    feature_names = vectorizer.get_feature_names()\n",
    "    coefs_with_fns = sorted(zip(clf.coef_[0], feature_names))\n",
    "    top = zip(coefs_with_fns[:n], coefs_with_fns[:-(n + 1):-1])\n",
    "    print(\"\\t\\tNegative\\t\\t\\t\\t\\tPositive\")\n",
    "    print(\"________________________________________________________________________________________________\")\n",
    "    for (coef_1, fn_1), (coef_2, fn_2) in top:\n",
    "        print(\"\\t%.4f\\t%-15s\\t\\t\\t\\t%.4f\\t%-15s\" % (coef_1, fn_1, coef_2, fn_2))\n",
    "        \n",
    "show_most_informative_features(count_vect,clf)"
   ]
  },
  {
   "cell_type": "markdown",
   "metadata": {},
   "source": [
    "## Word2Vec "
   ]
  },
  {
   "cell_type": "code",
   "execution_count": 90,
   "metadata": {},
   "outputs": [],
   "source": [
    "# Train your own Word2Vec model using your own text corpus\n",
    "i=0\n",
    "list_of_sent=[]\n",
    "for sent in final['CleanedText'].values:\n",
    "    list_of_sent.append(sent.split())"
   ]
  },
  {
   "cell_type": "code",
   "execution_count": 91,
   "metadata": {},
   "outputs": [
    {
     "name": "stdout",
     "output_type": "stream",
     "text": [
      "rememb see show air televis year ago child sister later bought day thirti someth use seri book song student teach preschool turn whole school purchas along book children tradit live\n",
      "*****************************************************************\n",
      "['rememb', 'see', 'show', 'air', 'televis', 'year', 'ago', 'child', 'sister', 'later', 'bought', 'day', 'thirti', 'someth', 'use', 'seri', 'book', 'song', 'student', 'teach', 'preschool', 'turn', 'whole', 'school', 'purchas', 'along', 'book', 'children', 'tradit', 'live']\n"
     ]
    }
   ],
   "source": [
    "print(final['CleanedText'].values[0])\n",
    "print(\"*****************************************************************\")\n",
    "print(list_of_sent[0])"
   ]
  },
  {
   "cell_type": "code",
   "execution_count": 92,
   "metadata": {},
   "outputs": [],
   "source": [
    "#min_count = 5 considers only words that occured atleast 5 times\n",
    "w2v_model = Word2Vec(list_of_sent,min_count=5,size=50, workers=4)"
   ]
  },
  {
   "cell_type": "code",
   "execution_count": 93,
   "metadata": {},
   "outputs": [
    {
     "name": "stdout",
     "output_type": "stream",
     "text": [
      "number of words that occured minimum 5 times  12638\n",
      "sample words  ['rememb', 'see', 'show', 'air', 'televis', 'year', 'ago', 'child', 'sister', 'later', 'bought', 'day', 'thirti', 'someth', 'use', 'seri', 'book', 'song', 'student', 'teach', 'preschool', 'turn', 'whole', 'school', 'purchas', 'along', 'children', 'tradit', 'live', 'twist', 'captur', 'film', 'star', 'michael', 'keaton', 'geena', 'davi', 'prime', 'tim', 'burton', 'masterpiec', 'rumbl', 'absurd', 'wonder', 'pace', 'point', 'dull', 'moment', 'apart', 'infest']\n"
     ]
    }
   ],
   "source": [
    "w2v_words = list(w2v_model.wv.vocab)\n",
    "print(\"number of words that occured minimum 5 times \",len(w2v_words))\n",
    "print(\"sample words \", w2v_words[0:50])\n"
   ]
  },
  {
   "cell_type": "markdown",
   "metadata": {},
   "source": [
    "# Average Word2Vec"
   ]
  },
  {
   "cell_type": "code",
   "execution_count": 94,
   "metadata": {},
   "outputs": [
    {
     "name": "stdout",
     "output_type": "stream",
     "text": [
      "100000\n",
      "50\n"
     ]
    }
   ],
   "source": [
    "# average Word2Vec\n",
    "# compute average word2vec for each review.\n",
    "sent_vectors = []; # the avg-w2v for each sentence/review is stored in this list\n",
    "for sent in list_of_sent: # for each review/sentence\n",
    "    sent_vec = np.zeros(50) # as word vectors are of zero length\n",
    "    cnt_words =0; # num of words with a valid vector in the sentence/review\n",
    "    for word in sent: # for each word in a review/sentence\n",
    "        if word in w2v_words:\n",
    "            vec = w2v_model.wv[word]\n",
    "            sent_vec += vec\n",
    "            cnt_words += 1\n",
    "    if cnt_words != 0:\n",
    "        sent_vec /= cnt_words\n",
    "    sent_vectors.append(sent_vec)\n",
    "print(len(sent_vectors))\n",
    "print(len(sent_vectors[0]))"
   ]
  },
  {
   "cell_type": "code",
   "execution_count": 95,
   "metadata": {},
   "outputs": [],
   "source": [
    "from sklearn.model_selection import train_test_split\n",
    "\n",
    "# Spliting into Train and test\n",
    "x_train, x_test, y_train, y_test = train_test_split(sent_vectors, final['Score'].values, test_size=0.3, shuffle=False)\n"
   ]
  },
  {
   "cell_type": "code",
   "execution_count": 96,
   "metadata": {},
   "outputs": [
    {
     "name": "stdout",
     "output_type": "stream",
     "text": [
      "Train Data Size:  (70000, 50)\n",
      "Test Data Size:  (30000, 50)\n"
     ]
    }
   ],
   "source": [
    "#Normalize Data\n",
    "x_train = preprocessing.normalize(x_train)\n",
    "print(\"Train Data Size: \",x_train.shape)\n",
    "#Normalize Data\n",
    "x_test = preprocessing.normalize(x_test)\n",
    "print(\"Test Data Size: \",x_test.shape)"
   ]
  },
  {
   "cell_type": "code",
   "execution_count": 97,
   "metadata": {},
   "outputs": [
    {
     "name": "stdout",
     "output_type": "stream",
     "text": [
      "CPU times: user 4 µs, sys: 0 ns, total: 4 µs\n",
      "Wall time: 10 µs\n",
      "Fitting 10 folds for each of 30 candidates, totalling 300 fits\n"
     ]
    },
    {
     "name": "stderr",
     "output_type": "stream",
     "text": [
      "[Parallel(n_jobs=-1)]: Using backend LokyBackend with 4 concurrent workers.\n",
      "/Users/rohitbohra/anaconda3/lib/python3.6/site-packages/sklearn/externals/joblib/externals/loky/process_executor.py:706: UserWarning: A worker stopped while some jobs were given to the executor. This can be caused by a too short worker timeout or by a memory leak.\n",
      "  \"timeout or by a memory leak.\", UserWarning\n",
      "/Users/rohitbohra/anaconda3/lib/python3.6/site-packages/sklearn/externals/joblib/externals/loky/process_executor.py:706: UserWarning: A worker stopped while some jobs were given to the executor. This can be caused by a too short worker timeout or by a memory leak.\n",
      "  \"timeout or by a memory leak.\", UserWarning\n",
      "/Users/rohitbohra/anaconda3/lib/python3.6/site-packages/sklearn/externals/joblib/externals/loky/process_executor.py:706: UserWarning: A worker stopped while some jobs were given to the executor. This can be caused by a too short worker timeout or by a memory leak.\n",
      "  \"timeout or by a memory leak.\", UserWarning\n",
      "/Users/rohitbohra/anaconda3/lib/python3.6/site-packages/sklearn/externals/joblib/externals/loky/process_executor.py:706: UserWarning: A worker stopped while some jobs were given to the executor. This can be caused by a too short worker timeout or by a memory leak.\n",
      "  \"timeout or by a memory leak.\", UserWarning\n",
      "[Parallel(n_jobs=-1)]: Done  42 tasks      | elapsed:   32.7s\n",
      "[Parallel(n_jobs=-1)]: Done 192 tasks      | elapsed:  2.3min\n",
      "[Parallel(n_jobs=-1)]: Done 300 out of 300 | elapsed:  2.5min finished\n"
     ]
    },
    {
     "name": "stdout",
     "output_type": "stream",
     "text": [
      "Best HyperParameter:  {'C': 10, 'penalty': 'l1'}\n",
      "Best Accuracy: 89.75%\n"
     ]
    }
   ],
   "source": [
    "%time\n",
    "from sklearn.model_selection import GridSearchCV\n",
    "from sklearn.linear_model import LogisticRegression\n",
    "\n",
    "clf = LogisticRegression()\n",
    "\n",
    "#params we need to try on classifier\n",
    "param_grid = {'C':[1000,500,100,50,10,5,1,0.5,0.1,0.05,0.01,0.005,0.001,0.0005,0.0001],\n",
    "             'penalty':['l1','l2']} \n",
    "tscv = TimeSeriesSplit(n_splits=10) #For time based splitting\n",
    "gsv = GridSearchCV(clf,param_grid,cv=tscv,verbose=1,n_jobs=-1,scoring='f1_micro')\n",
    "gsv.fit(x_train,y_train)\n",
    "print(\"Best HyperParameter: \",gsv.best_params_)\n",
    "print(\"Best Accuracy: %.2f%%\"%(gsv.best_score_*100))"
   ]
  },
  {
   "cell_type": "code",
   "execution_count": 100,
   "metadata": {},
   "outputs": [
    {
     "name": "stderr",
     "output_type": "stream",
     "text": [
      "/Users/rohitbohra/anaconda3/lib/python3.6/site-packages/sklearn/svm/base.py:931: ConvergenceWarning: Liblinear failed to converge, increase the number of iterations.\n",
      "  \"the number of iterations.\", ConvergenceWarning)\n"
     ]
    },
    {
     "name": "stdout",
     "output_type": "stream",
     "text": [
      "Accuracy on test set: 88.570%\n",
      "Precision on test set: 0.905\n",
      "Recall on test set: 0.962\n",
      "F1-micro-Score on test set: 0.886\n"
     ]
    },
    {
     "data": {
      "image/png": "[encoded data removed]",
      "text/plain": [
       "<Figure size 1440x288 with 6 Axes>"
      ]
     },
     "metadata": {},
     "output_type": "display_data"
    }
   ],
   "source": [
    "#Testing Accuracy on Test data\n",
    "from sklearn.linear_model import LogisticRegression\n",
    "\n",
    "clf = LogisticRegression(C= 10, penalty= 'l1',max_iter=10)\n",
    "clf.fit(x_train,y_train)\n",
    "pred = clf.predict(x_test)\n",
    "\n",
    "print(\"Accuracy on test set: %0.3f%%\"%(accuracy_score(y_test, pred)*100))\n",
    "print(\"Precision on test set: %0.3f\"%(precision_score(y_test, pred)))\n",
    "print(\"Recall on test set: %0.3f\"%(recall_score(y_test, pred)))\n",
    "print(\"F1-micro-Score on test set: %0.3f\"%(f1_score(y_test, pred,average='micro')))\n",
    "plot_confusion_matrix(y_test, pred)"
   ]
  },
  {
   "cell_type": "markdown",
   "metadata": {},
   "source": [
    "# OBSERVATION:\n",
    "1) Using Grid Search Technique to find the best hyperparameter and regularizer technique(L1 or L2). The best C value\n",
    "   is 10 and using L1 regularizer.\n",
    "\n",
    "2) F1-micro-Score on test set: 88.6%\n",
    "\n"
   ]
  },
  {
   "cell_type": "code",
   "execution_count": 99,
   "metadata": {},
   "outputs": [
    {
     "name": "stdout",
     "output_type": "stream",
     "text": [
      "CPU times: user 4 µs, sys: 1 µs, total: 5 µs\n",
      "Wall time: 11.9 µs\n",
      "Fitting 10 folds for each of 10 candidates, totalling 100 fits\n"
     ]
    },
    {
     "name": "stderr",
     "output_type": "stream",
     "text": [
      "[Parallel(n_jobs=-1)]: Using backend LokyBackend with 4 concurrent workers.\n",
      "[Parallel(n_jobs=-1)]: Done  42 tasks      | elapsed:   14.5s\n",
      "[Parallel(n_jobs=-1)]: Done 100 out of 100 | elapsed:   31.1s finished\n"
     ]
    },
    {
     "name": "stdout",
     "output_type": "stream",
     "text": [
      "The best HyperParameter:  {'penalty': 'l2', 'C': 50}\n",
      "The best Accuracy: 89.74%\n"
     ]
    }
   ],
   "source": [
    "%time\n",
    "from sklearn.model_selection import RandomizedSearchCV\n",
    "from sklearn.linear_model import LogisticRegression\n",
    "\n",
    "clf = LogisticRegression()\n",
    "#params we need to try on classifier\n",
    "param_grid = { 'C':[1000,500,100,50,10,5,1,0.5,0.1,0.05,0.01,0.005,0.001,0.0005,0.0001],\n",
    "              'penalty':['l1','l2']}\n",
    "tscv = TimeSeriesSplit(n_splits=10) #For time based splitting\n",
    "gsv = RandomizedSearchCV(clf,param_grid,cv=tscv,verbose=1,n_jobs=-1,scoring='f1_micro')\n",
    "gsv.fit(x_train,y_train)\n",
    "print(\"The best HyperParameter: \",gsv.best_params_)\n",
    "print(\"The best Accuracy: %.2f%%\"%(gsv.best_score_*100))"
   ]
  },
  {
   "cell_type": "code",
   "execution_count": 101,
   "metadata": {},
   "outputs": [
    {
     "name": "stdout",
     "output_type": "stream",
     "text": [
      "Accuracy on test set: 88.530%\n",
      "Precision on test set: 0.905\n",
      "Recall on test set: 0.962\n",
      "F1-micro-Score on test set: 0.885\n"
     ]
    },
    {
     "data": {
      "image/png": "[encoded data removed]",
      "text/plain": [
       "<Figure size 1440x288 with 6 Axes>"
      ]
     },
     "metadata": {},
     "output_type": "display_data"
    }
   ],
   "source": [
    "#Testing Accuracy on Test data\n",
    "from sklearn.linear_model import LogisticRegression\n",
    "\n",
    "clf = LogisticRegression(C= 1000, penalty= 'l2',max_iter=100)\n",
    "clf.fit(x_train,y_train)\n",
    "pred = clf.predict(x_test)\n",
    "\n",
    "print(\"Accuracy on test set: %0.3f%%\"%(accuracy_score(y_test, pred)*100))\n",
    "print(\"Precision on test set: %0.3f\"%(precision_score(y_test, pred)))\n",
    "print(\"Recall on test set: %0.3f\"%(recall_score(y_test, pred)))\n",
    "print(\"F1-micro-Score on test set: %0.3f\"%(f1_score(y_test, pred,average='micro')))\n",
    "plot_confusion_matrix(y_test, pred)"
   ]
  },
  {
   "cell_type": "markdown",
   "metadata": {},
   "source": [
    "# OBSERVATION:\n",
    "1) Using Random Search Technique to find the best hyperparameter and regularizer technique(L1 or L2). The best C value\n",
    "   is 50 and using L2 regularizer.\n",
    "\n",
    "2) F1-micro-Score on test set: 88.5%"
   ]
  },
  {
   "cell_type": "markdown",
   "metadata": {},
   "source": [
    "# TF-IDF Weighted Word2Vec"
   ]
  },
  {
   "cell_type": "code",
   "execution_count": 102,
   "metadata": {},
   "outputs": [
    {
     "name": "stdout",
     "output_type": "stream",
     "text": [
      "the type of count vectorizer  <class 'scipy.sparse.csr.csr_matrix'>\n",
      "the shape of out text TFIDF vectorizer  (100000, 37860)\n",
      "the number of unique words including both unigrams and bigrams  37860\n"
     ]
    }
   ],
   "source": [
    "model=TfidfVectorizer()\n",
    "tf_idf_matrix=model.fit_transform(final['CleanedText'].values)\n",
    "print(\"the type of count vectorizer \",type(tf_idf_matrix))\n",
    "print(\"the shape of out text TFIDF vectorizer \",tf_idf_matrix.get_shape())\n",
    "print(\"the number of unique words including both unigrams and bigrams \", tf_idf_matrix.get_shape()[1])\n",
    "dictionary=dict(zip(model.get_feature_names(),list(model.idf_)))"
   ]
  },
  {
   "cell_type": "code",
   "execution_count": 103,
   "metadata": {},
   "outputs": [
    {
     "name": "stderr",
     "output_type": "stream",
     "text": [
      "100%|██████████| 100000/100000 [04:32<00:00, 366.41it/s]\n"
     ]
    }
   ],
   "source": [
    "# TF-IDF weighted Word2Vec\n",
    "tfidf_feat = model.get_feature_names() # tfidf words/col-names\n",
    "# final_tf_idf is the sparse matrix with row= sentence, col=word and cell_val = tfidf\n",
    "\n",
    "tfidf_sent_vectors = []; # the tfidf-w2v for each sentence/review is stored in this list\n",
    "row=0;\n",
    "for sent in tqdm(list_of_sent): # for each review/sentence \n",
    "    sent_vec = np.zeros(50) # as word vectors are of zero length\n",
    "    weight_sum =0; # num of words with a valid vector in the sentence/review\n",
    "    for word in sent: # for each word in a review/sentence\n",
    "        if word in w2v_words:\n",
    "            vec = w2v_model.wv[word]\n",
    "            #tf_idf = tf_idf_matrix[row, tfidf_feat.index(word)]\n",
    "            # to reduce the computation we are \n",
    "            # dictionary[word] = idf value of word in whole courpus\n",
    "            # sent.count(word) = tf valeus of word in this review\n",
    "            tf_idf = dictionary[word]*(sent.count(word)/len(sent))\n",
    "            sent_vec += (vec * tf_idf)\n",
    "            weight_sum += tf_idf\n",
    "    if weight_sum != 0:\n",
    "        sent_vec /= weight_sum\n",
    "    tfidf_sent_vectors.append(sent_vec)\n",
    "    row += 1"
   ]
  },
  {
   "cell_type": "code",
   "execution_count": 104,
   "metadata": {},
   "outputs": [
    {
     "name": "stdout",
     "output_type": "stream",
     "text": [
      "100000\n",
      "50\n"
     ]
    }
   ],
   "source": [
    "print(len(tfidf_sent_vectors))\n",
    "print(len(tfidf_sent_vectors[0]))"
   ]
  },
  {
   "cell_type": "code",
   "execution_count": 105,
   "metadata": {},
   "outputs": [],
   "source": [
    "from sklearn.model_selection import train_test_split\n",
    "\n",
    "# Spliting into Train and test\n",
    "x_train, x_test, y_train, y_test = train_test_split(tfidf_sent_vectors, final['Score'].values, test_size=0.3, shuffle=False)"
   ]
  },
  {
   "cell_type": "code",
   "execution_count": 106,
   "metadata": {},
   "outputs": [
    {
     "name": "stdout",
     "output_type": "stream",
     "text": [
      "Train Data Size:  (70000, 50)\n",
      "Test Data Size:  (30000, 50)\n"
     ]
    }
   ],
   "source": [
    "#Normalize Data\n",
    "x_train = preprocessing.normalize(x_train)\n",
    "print(\"Train Data Size: \",x_train.shape)\n",
    "#Normalize Data\n",
    "x_test = preprocessing.normalize(x_test)\n",
    "print(\"Test Data Size: \",x_test.shape)"
   ]
  },
  {
   "cell_type": "code",
   "execution_count": 107,
   "metadata": {},
   "outputs": [
    {
     "name": "stdout",
     "output_type": "stream",
     "text": [
      "CPU times: user 4 µs, sys: 1 µs, total: 5 µs\n",
      "Wall time: 10 µs\n",
      "Fitting 10 folds for each of 30 candidates, totalling 300 fits\n"
     ]
    },
    {
     "name": "stderr",
     "output_type": "stream",
     "text": [
      "[Parallel(n_jobs=-1)]: Using backend LokyBackend with 4 concurrent workers.\n",
      "[Parallel(n_jobs=-1)]: Done  42 tasks      | elapsed:   33.4s\n",
      "[Parallel(n_jobs=-1)]: Done 192 tasks      | elapsed:  2.2min\n",
      "[Parallel(n_jobs=-1)]: Done 300 out of 300 | elapsed:  2.4min finished\n"
     ]
    },
    {
     "name": "stdout",
     "output_type": "stream",
     "text": [
      "Best HyperParameter:  {'C': 500, 'penalty': 'l1'}\n",
      "Best Accuracy: 88.34%\n"
     ]
    }
   ],
   "source": [
    "%time\n",
    "from sklearn.model_selection import GridSearchCV\n",
    "from sklearn.linear_model import LogisticRegression\n",
    "\n",
    "clf = LogisticRegression()\n",
    "\n",
    "#params we need to try on classifier\n",
    "param_grid = {'C':[1000,500,100,50,10,5,1,0.5,0.1,0.05,0.01,0.005,0.001,0.0005,0.0001],\n",
    "             'penalty':['l1','l2']} \n",
    "tscv = TimeSeriesSplit(n_splits=10) #For time based splitting\n",
    "gsv = GridSearchCV(clf,param_grid,cv=tscv,verbose=1,n_jobs=-1,scoring='f1_micro')\n",
    "gsv.fit(x_train,y_train)\n",
    "print(\"Best HyperParameter: \",gsv.best_params_)\n",
    "print(\"Best Accuracy: %.2f%%\"%(gsv.best_score_*100))"
   ]
  },
  {
   "cell_type": "code",
   "execution_count": 108,
   "metadata": {},
   "outputs": [
    {
     "name": "stdout",
     "output_type": "stream",
     "text": [
      "Accuracy on test set: 86.960%\n",
      "Precision on test set: 0.888\n",
      "Recall on test set: 0.964\n",
      "F1-micro-Score on test set: 0.870\n"
     ]
    },
    {
     "data": {
      "image/png": "[encoded data removed]",
      "text/plain": [
       "<Figure size 1440x288 with 6 Axes>"
      ]
     },
     "metadata": {},
     "output_type": "display_data"
    }
   ],
   "source": [
    "#Testing Accuracy on Test data\n",
    "from sklearn.linear_model import LogisticRegression\n",
    "\n",
    "clf = LogisticRegression(C= 500, penalty= 'l1',max_iter=100)\n",
    "clf.fit(x_train,y_train)\n",
    "pred = clf.predict(x_test)\n",
    "\n",
    "print(\"Accuracy on test set: %0.3f%%\"%(accuracy_score(y_test, pred)*100))\n",
    "print(\"Precision on test set: %0.3f\"%(precision_score(y_test, pred)))\n",
    "print(\"Recall on test set: %0.3f\"%(recall_score(y_test, pred)))\n",
    "print(\"F1-micro-Score on test set: %0.3f\"%(f1_score(y_test, pred,average='micro')))\n",
    "plot_confusion_matrix(y_test, pred)"
   ]
  },
  {
   "cell_type": "markdown",
   "metadata": {},
   "source": [
    "# OBSERVATION:\n",
    "1) Using Grid Search Technique to find the best hyperparameter and regularizer technique(L1 or L2). The best C value\n",
    "   is 500 and using L1 regularizer.\n",
    "\n",
    "2) F1-micro-Score on test set: 87%\n",
    "\n"
   ]
  },
  {
   "cell_type": "code",
   "execution_count": 109,
   "metadata": {},
   "outputs": [
    {
     "name": "stdout",
     "output_type": "stream",
     "text": [
      "CPU times: user 4 µs, sys: 1e+03 ns, total: 5 µs\n",
      "Wall time: 13.8 µs\n",
      "Fitting 10 folds for each of 10 candidates, totalling 100 fits\n"
     ]
    },
    {
     "name": "stderr",
     "output_type": "stream",
     "text": [
      "[Parallel(n_jobs=-1)]: Using backend LokyBackend with 4 concurrent workers.\n",
      "[Parallel(n_jobs=-1)]: Done  42 tasks      | elapsed:   15.4s\n",
      "[Parallel(n_jobs=-1)]: Done 100 out of 100 | elapsed:  1.1min finished\n"
     ]
    },
    {
     "name": "stdout",
     "output_type": "stream",
     "text": [
      "The best HyperParameter:  {'penalty': 'l1', 'C': 500}\n",
      "The best Accuracy: 88.34%\n"
     ]
    }
   ],
   "source": [
    "%time\n",
    "from sklearn.model_selection import RandomizedSearchCV\n",
    "from sklearn.linear_model import LogisticRegression\n",
    "\n",
    "clf = LogisticRegression()\n",
    "#params we need to try on classifier\n",
    "param_grid = { 'C':[1000,500,100,50,10,5,1,0.5,0.1,0.05,0.01,0.005,0.001,0.0005,0.0001],\n",
    "              'penalty':['l1','l2']}\n",
    "tscv = TimeSeriesSplit(n_splits=10) #For time based splitting\n",
    "gsv = RandomizedSearchCV(clf,param_grid,cv=tscv,verbose=1,n_jobs=-1,scoring='f1_micro')\n",
    "gsv.fit(x_train,y_train)\n",
    "print(\"The best HyperParameter: \",gsv.best_params_)\n",
    "print(\"The best Accuracy: %.2f%%\"%(gsv.best_score_*100))"
   ]
  },
  {
   "cell_type": "code",
   "execution_count": 110,
   "metadata": {},
   "outputs": [
    {
     "name": "stdout",
     "output_type": "stream",
     "text": [
      "Accuracy on test set: 86.953%\n",
      "Precision on test set: 0.887\n",
      "Recall on test set: 0.964\n",
      "F1-micro-Score on test set: 0.870\n"
     ]
    },
    {
     "data": {
      "image/png": "[encoded data removed]",
      "text/plain": [
       "<Figure size 1440x288 with 6 Axes>"
      ]
     },
     "metadata": {},
     "output_type": "display_data"
    }
   ],
   "source": [
    "#Testing Accuracy on Test data\n",
    "from sklearn.linear_model import LogisticRegression\n",
    "\n",
    "clf = LogisticRegression(C= 500, penalty= 'l1',max_iter=100)\n",
    "clf.fit(x_train,y_train)\n",
    "pred = clf.predict(x_test)\n",
    "\n",
    "print(\"Accuracy on test set: %0.3f%%\"%(accuracy_score(y_test, pred)*100))\n",
    "print(\"Precision on test set: %0.3f\"%(precision_score(y_test, pred)))\n",
    "print(\"Recall on test set: %0.3f\"%(recall_score(y_test, pred)))\n",
    "print(\"F1-micro-Score on test set: %0.3f\"%(f1_score(y_test, pred,average='micro')))\n",
    "plot_confusion_matrix(y_test, pred)"
   ]
  },
  {
   "cell_type": "markdown",
   "metadata": {},
   "source": [
    "# OBSERVATION:\n",
    "1) Using Grid Search Technique to find the best hyperparameter and regularizer technique(L1 or L2). The best C value\n",
    "   is 500 and using L1 regularizer.\n",
    "\n",
    "2) F1-micro-Score on test set: 87%\n",
    "\n"
   ]
  },
  {
   "cell_type": "code",
   "execution_count": 116,
   "metadata": {},
   "outputs": [
    {
     "name": "stdout",
     "output_type": "stream",
     "text": [
      "\t\t\t\tLOGISTIC REGRESSION\n",
      "+---------------+------------------+------------+----------------+----------+----------+\n",
      "| Featurization | Search Technique | C=1/Lambda | Regularization | F1-Score | Accuracy |\n",
      "+---------------+------------------+------------+----------------+----------+----------+\n",
      "| BOW(uni-gram) |   Grid Search    |     10     |       L2       |    91    |  90.97   |\n",
      "| BOW(uni-gram) |  Random Search   |     5      |       L1       |   90.9   |  90.92   |\n",
      "|  BOW(bi-gram) |   Grid Search    |     10     |       L2       |   91.2   |  91.19   |\n",
      "|  BOW(bi-gram) |  Random Search   |     10     |       L2       |  91.11   |  91.11   |\n",
      "|     TF_IDF    |   Grid Search    |     5      |       L2       |   91.1   |  91.18   |\n",
      "|     TF_IDF    |  Random Search   |     10     |       L2       |   91.1   |  91.06   |\n",
      "|    Avg W2V    |   Grid Search    |     10     |       L1       |   88.6   |  88.57   |\n",
      "|    Avg W2V    |  Random Search   |    500     |       L2       |   88.5   |  88.53   |\n",
      "|   TFIDF W2V   |   Grid Search    |    500     |       L1       |   87.0   |  86.96   |\n",
      "|   TFIDF W2V   |  Random Search   |    500     |       L1       |    87    |  86.95   |\n",
      "+---------------+------------------+------------+----------------+----------+----------+\n"
     ]
    }
   ],
   "source": [
    "from prettytable import PrettyTable\n",
    "    \n",
    "x = PrettyTable()\n",
    "\n",
    "x.field_names = [\"Featurization\", \"Search Technique\", \"C=1/Lambda\",\"Regularization\", \"F1-Score\", \"Accuracy\"]\n",
    " \n",
    "x.add_row([\"BOW(uni-gram)\", \"Grid Search\", 10, \"L2\",91, 90.97]) \n",
    "x.add_row([\"BOW(uni-gram)\", \"Random Search\", 5, \"L1\", 90.9, 90.92]) \n",
    "x.add_row([\"BOW(bi-gram)\", \"Grid Search\", 10, \"L2\",91.2, 91.19]) \n",
    "x.add_row([\"BOW(bi-gram)\", \"Random Search\", 10, \"L2\", 91.11, 91.11]) \n",
    "x.add_row([\"TF_IDF\", \"Grid Search\", 5, \"L2\", 91.1, 91.18]) \n",
    "x.add_row([\"TF_IDF\", \"Random Search\", 10, \"L2\", 91.1, 91.06])\n",
    "x.add_row([\"Avg W2V\", \"Grid Search\", 10, \"L1\", 88.6, 88.57]) \n",
    "x.add_row([\"Avg W2V\", \"Random Search\", 500, \"L2\",  88.5, 88.53])\n",
    "x.add_row([\"TFIDF W2V\", \"Grid Search\", 500, \"L1\", 87.0, 86.96]) \n",
    "x.add_row([\"TFIDF W2V\", \"Random Search\", 500, \"L1\", 87, 86.95])\n",
    "print(\"\\t\\t\\t\\tLOGISTIC REGRESSION\")\n",
    "print(x)"
   ]
  },
  {
   "cell_type": "markdown",
   "metadata": {},
   "source": [
    "# Final Observation\n",
    "\n",
    "1) The best F1-Score is 91.2% \n",
    "\n",
    "2) The best F1-Score was found to be on Bag Of Words(Bi-Gram).\n",
    "\n",
    "3) The best accuracy was found to be 91.19% for Bag Of Words.\n",
    "\n",
    "4) Sparsity of the matrix increases with decrease in C (increase in lambda). \n",
    "\n",
    "5) The features are multi-collinear.\n"
   ]
  },
  {
   "cell_type": "code",
   "execution_count": null,
   "metadata": {},
   "outputs": [],
   "source": []
  }
 ],
 "metadata": {
  "kernelspec": {
   "display_name": "Python 3",
   "language": "python",
   "name": "python3"
  },
  "language_info": {
   "codemirror_mode": {
    "name": "ipython",
    "version": 3
   },
   "file_extension": ".py",
   "mimetype": "text/x-python",
   "name": "python",
   "nbconvert_exporter": "python",
   "pygments_lexer": "ipython3",
   "version": "3.6.5"
  }
 },
 "nbformat": 4,
 "nbformat_minor": 2
}
