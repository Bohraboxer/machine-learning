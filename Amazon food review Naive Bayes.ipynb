{
 "cells": [
  {
   "cell_type": "code",
   "execution_count": 1,
   "metadata": {
    "_cell_guid": "b1076dfc-b9ad-4769-8c92-a6c4dae69d19",
    "_uuid": "8f2839f25d086af736a60e9eeb907d3b93b6e0e5"
   },
   "outputs": [
    {
     "name": "stdout",
     "output_type": "stream",
     "text": [
      "['database.sqlite', 'hashes.txt', 'Reviews.csv']\n"
     ]
    }
   ],
   "source": [
    "# This Python 3 environment comes with many helpful analytics libraries installed\n",
    "# It is defined by the kaggle/python docker image: https://github.com/kaggle/docker-python\n",
    "# For example, here's several helpful packages to load in \n",
    "\n",
    "import numpy as np # linear algebra\n",
    "import pandas as pd # data processing, CSV file I/O (e.g. pd.read_csv)\n",
    "\n",
    "# Input data files are available in the \"../input/\" directory.\n",
    "# For example, running this (by clicking run or pressing Shift+Enter) will list the files in the input directory\n",
    "\n",
    "import os\n",
    "print(os.listdir(\"../input\"))\n",
    "\n",
    "# Any results you write to the current directory are saved as output."
   ]
  },
  {
   "cell_type": "code",
   "execution_count": 2,
   "metadata": {
    "_cell_guid": "79c7e3d0-c299-4dcb-8224-4455121ee9b0",
    "_uuid": "d629ff2d2480ee46fbb7e2d37f6b5fab8052498a"
   },
   "outputs": [
    {
     "name": "stdout",
     "output_type": "stream",
     "text": [
      "[nltk_data] Error loading stopwords: <urlopen error [Errno -3]\n",
      "[nltk_data]     Temporary failure in name resolution>\n"
     ]
    },
    {
     "name": "stderr",
     "output_type": "stream",
     "text": [
      "Using TensorFlow backend.\n"
     ]
    }
   ],
   "source": [
    "%matplotlib inline\n",
    "import warnings\n",
    "warnings.filterwarnings(\"ignore\")\n",
    "\n",
    "import sqlite3\n",
    "import pandas as pd\n",
    "import numpy as np\n",
    "import nltk\n",
    "nltk.download('stopwords')\n",
    "import string\n",
    "import matplotlib.pyplot as plt\n",
    "import seaborn as sns\n",
    "from sklearn.model_selection import TimeSeriesSplit\n",
    "from sklearn import preprocessing\n",
    "from sklearn.feature_extraction.text import TfidfTransformer\n",
    "from sklearn.feature_extraction.text import TfidfVectorizer\n",
    "\n",
    "from sklearn.feature_extraction.text import CountVectorizer\n",
    "from sklearn.metrics import confusion_matrix\n",
    "from sklearn import metrics\n",
    "from sklearn.metrics import roc_curve, auc\n",
    "from nltk.stem.porter import PorterStemmer\n",
    "from sklearn.model_selection import train_test_split\n",
    "from sklearn.model_selection import GridSearchCV\n",
    "\n",
    "import re\n",
    "# Tutorial about Python regular expressions: https://pymotw.com/2/re/\n",
    "import string\n",
    "from nltk.corpus import stopwords\n",
    "from nltk.stem import PorterStemmer\n",
    "from nltk.stem.wordnet import WordNetLemmatizer\n",
    "from imblearn.over_sampling import SMOTE\n",
    "\n",
    "from gensim.models import Word2Vec\n",
    "from gensim.models import KeyedVectors\n",
    "import pickle\n",
    "\n",
    "from tqdm import tqdm\n",
    "import os\n",
    "\n",
    "#Metrics\n",
    "from sklearn.metrics import accuracy_score\n",
    "from sklearn.metrics import confusion_matrix\n",
    "from sklearn.metrics import precision_score\n",
    "from sklearn.metrics import f1_score\n",
    "from sklearn.metrics import recall_score\n",
    "import pickle\n",
    "\n"
   ]
  },
  {
   "cell_type": "code",
   "execution_count": 3,
   "metadata": {
    "_uuid": "04a11d2868d78375ab17fd2e5e23147286e282fb"
   },
   "outputs": [
    {
     "name": "stdout",
     "output_type": "stream",
     "text": [
      "Number of data points in our data (525814, 10)\n"
     ]
    },
    {
     "data": {
      "text/html": [
       "<div>\n",
       "<style scoped>\n",
       "    .dataframe tbody tr th:only-of-type {\n",
       "        vertical-align: middle;\n",
       "    }\n",
       "\n",
       "    .dataframe tbody tr th {\n",
       "        vertical-align: top;\n",
       "    }\n",
       "\n",
       "    .dataframe thead th {\n",
       "        text-align: right;\n",
       "    }\n",
       "</style>\n",
       "<table border=\"1\" class=\"dataframe\">\n",
       "  <thead>\n",
       "    <tr style=\"text-align: right;\">\n",
       "      <th></th>\n",
       "      <th>Id</th>\n",
       "      <th>ProductId</th>\n",
       "      <th>UserId</th>\n",
       "      <th>ProfileName</th>\n",
       "      <th>HelpfulnessNumerator</th>\n",
       "      <th>HelpfulnessDenominator</th>\n",
       "      <th>Score</th>\n",
       "      <th>Time</th>\n",
       "      <th>Summary</th>\n",
       "      <th>Text</th>\n",
       "    </tr>\n",
       "  </thead>\n",
       "  <tbody>\n",
       "    <tr>\n",
       "      <th>0</th>\n",
       "      <td>1</td>\n",
       "      <td>B001E4KFG0</td>\n",
       "      <td>A3SGXH7AUHU8GW</td>\n",
       "      <td>delmartian</td>\n",
       "      <td>1</td>\n",
       "      <td>1</td>\n",
       "      <td>1</td>\n",
       "      <td>1303862400</td>\n",
       "      <td>Good Quality Dog Food</td>\n",
       "      <td>I have bought several of the Vitality canned d...</td>\n",
       "    </tr>\n",
       "    <tr>\n",
       "      <th>1</th>\n",
       "      <td>2</td>\n",
       "      <td>B00813GRG4</td>\n",
       "      <td>A1D87F6ZCVE5NK</td>\n",
       "      <td>dll pa</td>\n",
       "      <td>0</td>\n",
       "      <td>0</td>\n",
       "      <td>0</td>\n",
       "      <td>1346976000</td>\n",
       "      <td>Not as Advertised</td>\n",
       "      <td>Product arrived labeled as Jumbo Salted Peanut...</td>\n",
       "    </tr>\n",
       "    <tr>\n",
       "      <th>2</th>\n",
       "      <td>3</td>\n",
       "      <td>B000LQOCH0</td>\n",
       "      <td>ABXLMWJIXXAIN</td>\n",
       "      <td>Natalia Corres \"Natalia Corres\"</td>\n",
       "      <td>1</td>\n",
       "      <td>1</td>\n",
       "      <td>1</td>\n",
       "      <td>1219017600</td>\n",
       "      <td>\"Delight\" says it all</td>\n",
       "      <td>This is a confection that has been around a fe...</td>\n",
       "    </tr>\n",
       "  </tbody>\n",
       "</table>\n",
       "</div>"
      ],
      "text/plain": [
       "   Id                        ...                                                                       Text\n",
       "0   1                        ...                          I have bought several of the Vitality canned d...\n",
       "1   2                        ...                          Product arrived labeled as Jumbo Salted Peanut...\n",
       "2   3                        ...                          This is a confection that has been around a fe...\n",
       "\n",
       "[3 rows x 10 columns]"
      ]
     },
     "execution_count": 3,
     "metadata": {},
     "output_type": "execute_result"
    }
   ],
   "source": [
    "# using the SQLite Table to read data.\n",
    "con = sqlite3.connect('../input/database.sqlite') \n",
    "#filtering only positive and negative reviews i.e. \n",
    "# not taking into consideration those reviews with Score=3\n",
    "filtered_data = pd.read_sql_query(\"\"\" SELECT * FROM Reviews WHERE Score != 3 \"\"\", con) \n",
    "\n",
    "\n",
    "# Give reviews with Score>3 a positive rating, and reviews with a score<3 a negative rating.\n",
    "def partition(x):\n",
    "    if x < 3:\n",
    "        return 0\n",
    "    return 1\n",
    "\n",
    "#changing reviews with score less than 3 to be positive and vice-versa\n",
    "actualScore = filtered_data['Score']\n",
    "positiveNegative = actualScore.map(partition) \n",
    "filtered_data['Score'] = positiveNegative\n",
    "print(\"Number of data points in our data\", filtered_data.shape)\n",
    "filtered_data.head(3)"
   ]
  },
  {
   "cell_type": "markdown",
   "metadata": {
    "_uuid": "337bfb40e3385a5ecbc02f0fdc8a21088e3f7478"
   },
   "source": [
    "**Text Preprocessing**"
   ]
  },
  {
   "cell_type": "code",
   "execution_count": 4,
   "metadata": {
    "_uuid": "1ac6b63dd26d7864c59e2d08ddda8515b76c6cd9"
   },
   "outputs": [
    {
     "data": {
      "text/html": [
       "<div>\n",
       "<style scoped>\n",
       "    .dataframe tbody tr th:only-of-type {\n",
       "        vertical-align: middle;\n",
       "    }\n",
       "\n",
       "    .dataframe tbody tr th {\n",
       "        vertical-align: top;\n",
       "    }\n",
       "\n",
       "    .dataframe thead th {\n",
       "        text-align: right;\n",
       "    }\n",
       "</style>\n",
       "<table border=\"1\" class=\"dataframe\">\n",
       "  <thead>\n",
       "    <tr style=\"text-align: right;\">\n",
       "      <th></th>\n",
       "      <th>Id</th>\n",
       "      <th>ProductId</th>\n",
       "      <th>UserId</th>\n",
       "      <th>ProfileName</th>\n",
       "      <th>HelpfulnessNumerator</th>\n",
       "      <th>HelpfulnessDenominator</th>\n",
       "      <th>Score</th>\n",
       "      <th>Time</th>\n",
       "      <th>Summary</th>\n",
       "      <th>Text</th>\n",
       "    </tr>\n",
       "  </thead>\n",
       "  <tbody>\n",
       "    <tr>\n",
       "      <th>0</th>\n",
       "      <td>78445</td>\n",
       "      <td>B000HDL1RQ</td>\n",
       "      <td>AR5J8UI46CURR</td>\n",
       "      <td>Geetha Krishnan</td>\n",
       "      <td>2</td>\n",
       "      <td>2</td>\n",
       "      <td>5</td>\n",
       "      <td>1199577600</td>\n",
       "      <td>LOACKER QUADRATINI VANILLA WAFERS</td>\n",
       "      <td>DELICIOUS WAFERS. I FIND THAT EUROPEAN WAFERS ...</td>\n",
       "    </tr>\n",
       "    <tr>\n",
       "      <th>1</th>\n",
       "      <td>138317</td>\n",
       "      <td>B000HDOPYC</td>\n",
       "      <td>AR5J8UI46CURR</td>\n",
       "      <td>Geetha Krishnan</td>\n",
       "      <td>2</td>\n",
       "      <td>2</td>\n",
       "      <td>5</td>\n",
       "      <td>1199577600</td>\n",
       "      <td>LOACKER QUADRATINI VANILLA WAFERS</td>\n",
       "      <td>DELICIOUS WAFERS. I FIND THAT EUROPEAN WAFERS ...</td>\n",
       "    </tr>\n",
       "    <tr>\n",
       "      <th>2</th>\n",
       "      <td>138277</td>\n",
       "      <td>B000HDOPYM</td>\n",
       "      <td>AR5J8UI46CURR</td>\n",
       "      <td>Geetha Krishnan</td>\n",
       "      <td>2</td>\n",
       "      <td>2</td>\n",
       "      <td>5</td>\n",
       "      <td>1199577600</td>\n",
       "      <td>LOACKER QUADRATINI VANILLA WAFERS</td>\n",
       "      <td>DELICIOUS WAFERS. I FIND THAT EUROPEAN WAFERS ...</td>\n",
       "    </tr>\n",
       "    <tr>\n",
       "      <th>3</th>\n",
       "      <td>73791</td>\n",
       "      <td>B000HDOPZG</td>\n",
       "      <td>AR5J8UI46CURR</td>\n",
       "      <td>Geetha Krishnan</td>\n",
       "      <td>2</td>\n",
       "      <td>2</td>\n",
       "      <td>5</td>\n",
       "      <td>1199577600</td>\n",
       "      <td>LOACKER QUADRATINI VANILLA WAFERS</td>\n",
       "      <td>DELICIOUS WAFERS. I FIND THAT EUROPEAN WAFERS ...</td>\n",
       "    </tr>\n",
       "    <tr>\n",
       "      <th>4</th>\n",
       "      <td>155049</td>\n",
       "      <td>B000PAQ75C</td>\n",
       "      <td>AR5J8UI46CURR</td>\n",
       "      <td>Geetha Krishnan</td>\n",
       "      <td>2</td>\n",
       "      <td>2</td>\n",
       "      <td>5</td>\n",
       "      <td>1199577600</td>\n",
       "      <td>LOACKER QUADRATINI VANILLA WAFERS</td>\n",
       "      <td>DELICIOUS WAFERS. I FIND THAT EUROPEAN WAFERS ...</td>\n",
       "    </tr>\n",
       "  </tbody>\n",
       "</table>\n",
       "</div>"
      ],
      "text/plain": [
       "       Id                        ...                                                                       Text\n",
       "0   78445                        ...                          DELICIOUS WAFERS. I FIND THAT EUROPEAN WAFERS ...\n",
       "1  138317                        ...                          DELICIOUS WAFERS. I FIND THAT EUROPEAN WAFERS ...\n",
       "2  138277                        ...                          DELICIOUS WAFERS. I FIND THAT EUROPEAN WAFERS ...\n",
       "3   73791                        ...                          DELICIOUS WAFERS. I FIND THAT EUROPEAN WAFERS ...\n",
       "4  155049                        ...                          DELICIOUS WAFERS. I FIND THAT EUROPEAN WAFERS ...\n",
       "\n",
       "[5 rows x 10 columns]"
      ]
     },
     "execution_count": 4,
     "metadata": {},
     "output_type": "execute_result"
    }
   ],
   "source": [
    "display= pd.read_sql_query(\"\"\"\n",
    "SELECT *\n",
    "FROM Reviews\n",
    "WHERE Score != 3 AND UserId=\"AR5J8UI46CURR\"\n",
    "ORDER BY ProductID\n",
    "\"\"\", con)\n",
    "display.head()"
   ]
  },
  {
   "cell_type": "code",
   "execution_count": 5,
   "metadata": {
    "_uuid": "68a27d794205959143b60962e716912319d6d2db"
   },
   "outputs": [],
   "source": [
    "#Sorting data according to ProductId in ascending order\n",
    "sorted_data=filtered_data.sort_values('ProductId', axis=0, ascending=True, inplace=False, kind='quicksort', na_position='last')"
   ]
  },
  {
   "cell_type": "code",
   "execution_count": 6,
   "metadata": {
    "_uuid": "ccd9a26c26f2d88b9608e8c87bdb47edc8717f69"
   },
   "outputs": [
    {
     "data": {
      "text/plain": [
       "(364173, 10)"
      ]
     },
     "execution_count": 6,
     "metadata": {},
     "output_type": "execute_result"
    }
   ],
   "source": [
    "#Deduplication of entries\n",
    "final=sorted_data.drop_duplicates(subset={\"UserId\",\"ProfileName\",\"Time\",\"Text\"}, keep='first', inplace=False)\n",
    "final.shape"
   ]
  },
  {
   "cell_type": "code",
   "execution_count": 7,
   "metadata": {
    "_uuid": "c78020a5bb8fcfe7b0c9fcc1db33a33615fd3942"
   },
   "outputs": [
    {
     "data": {
      "text/plain": [
       "69.25890143662969"
      ]
     },
     "execution_count": 7,
     "metadata": {},
     "output_type": "execute_result"
    }
   ],
   "source": [
    "#Checking to see how much % of data still remains\n",
    "(final['Id'].size*1.0)/(filtered_data['Id'].size*1.0)*100"
   ]
  },
  {
   "cell_type": "code",
   "execution_count": 8,
   "metadata": {
    "_uuid": "51e0394123eecb488053e3f887170340b2f387de"
   },
   "outputs": [
    {
     "data": {
      "text/html": [
       "<div>\n",
       "<style scoped>\n",
       "    .dataframe tbody tr th:only-of-type {\n",
       "        vertical-align: middle;\n",
       "    }\n",
       "\n",
       "    .dataframe tbody tr th {\n",
       "        vertical-align: top;\n",
       "    }\n",
       "\n",
       "    .dataframe thead th {\n",
       "        text-align: right;\n",
       "    }\n",
       "</style>\n",
       "<table border=\"1\" class=\"dataframe\">\n",
       "  <thead>\n",
       "    <tr style=\"text-align: right;\">\n",
       "      <th></th>\n",
       "      <th>Id</th>\n",
       "      <th>ProductId</th>\n",
       "      <th>UserId</th>\n",
       "      <th>ProfileName</th>\n",
       "      <th>HelpfulnessNumerator</th>\n",
       "      <th>HelpfulnessDenominator</th>\n",
       "      <th>Score</th>\n",
       "      <th>Time</th>\n",
       "      <th>Summary</th>\n",
       "      <th>Text</th>\n",
       "    </tr>\n",
       "  </thead>\n",
       "  <tbody>\n",
       "    <tr>\n",
       "      <th>0</th>\n",
       "      <td>64422</td>\n",
       "      <td>B000MIDROQ</td>\n",
       "      <td>A161DK06JJMCYF</td>\n",
       "      <td>J. E. Stephens \"Jeanne\"</td>\n",
       "      <td>3</td>\n",
       "      <td>1</td>\n",
       "      <td>5</td>\n",
       "      <td>1224892800</td>\n",
       "      <td>Bought This for My Son at College</td>\n",
       "      <td>My son loves spaghetti so I didn't hesitate or...</td>\n",
       "    </tr>\n",
       "    <tr>\n",
       "      <th>1</th>\n",
       "      <td>44737</td>\n",
       "      <td>B001EQ55RW</td>\n",
       "      <td>A2V0I904FH7ABY</td>\n",
       "      <td>Ram</td>\n",
       "      <td>3</td>\n",
       "      <td>2</td>\n",
       "      <td>4</td>\n",
       "      <td>1212883200</td>\n",
       "      <td>Pure cocoa taste with crunchy almonds inside</td>\n",
       "      <td>It was almost a 'love at first bite' - the per...</td>\n",
       "    </tr>\n",
       "  </tbody>\n",
       "</table>\n",
       "</div>"
      ],
      "text/plain": [
       "      Id                        ...                                                                       Text\n",
       "0  64422                        ...                          My son loves spaghetti so I didn't hesitate or...\n",
       "1  44737                        ...                          It was almost a 'love at first bite' - the per...\n",
       "\n",
       "[2 rows x 10 columns]"
      ]
     },
     "execution_count": 8,
     "metadata": {},
     "output_type": "execute_result"
    }
   ],
   "source": [
    "display= pd.read_sql_query(\"\"\"\n",
    "SELECT *\n",
    "FROM Reviews\n",
    "WHERE Score != 3 AND Id=44737 OR Id=64422\n",
    "ORDER BY ProductID\n",
    "\"\"\", con)\n",
    "\n",
    "display.head()"
   ]
  },
  {
   "cell_type": "code",
   "execution_count": 9,
   "metadata": {
    "_uuid": "7eb0652b2803328ae352d166db636ee45ad5181c"
   },
   "outputs": [],
   "source": [
    "final=final[final.HelpfulnessNumerator<=final.HelpfulnessDenominator]"
   ]
  },
  {
   "cell_type": "code",
   "execution_count": 10,
   "metadata": {
    "_uuid": "e9b80686706d6d533015189de7f23eed9fbc06ef"
   },
   "outputs": [
    {
     "name": "stdout",
     "output_type": "stream",
     "text": [
      "(364171, 10)\n"
     ]
    },
    {
     "data": {
      "text/plain": [
       "1    307061\n",
       "0     57110\n",
       "Name: Score, dtype: int64"
      ]
     },
     "execution_count": 10,
     "metadata": {},
     "output_type": "execute_result"
    }
   ],
   "source": [
    "#Before starting the next phase of preprocessing lets see the number of entries left\n",
    "print(final.shape)\n",
    "\n",
    "#How many positive and negative reviews are present in our dataset?\n",
    "final['Score'].value_counts()"
   ]
  },
  {
   "cell_type": "code",
   "execution_count": 11,
   "metadata": {
    "_uuid": "454c7c7a9b57be0625f8d600d220911096b7e342"
   },
   "outputs": [
    {
     "name": "stdout",
     "output_type": "stream",
     "text": [
      "6\n",
      "I set aside at least an hour each day to read to my son (3 y/o). At this point, I consider myself a connoisseur of children's books and this is one of the best. Santa Clause put this under the tree. Since then, we've read it perpetually and he loves it.<br /><br />First, this book taught him the months of the year.<br /><br />Second, it's a pleasure to read. Well suited to 1.5 y/o old to 4+.<br /><br />Very few children's books are worth owning. Most should be borrowed from the library. This book, however, deserves a permanent spot on your shelf. Sendak's best.\n"
     ]
    }
   ],
   "source": [
    "# find sentences containing HTML tags\n",
    "import re\n",
    "i=0;\n",
    "for sent in final['Text'].values:\n",
    "    if (len(re.findall('<.*?>', sent))):\n",
    "        print(i)\n",
    "        print(sent)\n",
    "        break;\n",
    "    i += 1;"
   ]
  },
  {
   "cell_type": "code",
   "execution_count": 12,
   "metadata": {
    "_uuid": "ac1b2770f6cecb8889232da8b69b6181416f5842"
   },
   "outputs": [
    {
     "name": "stdout",
     "output_type": "stream",
     "text": [
      "{'into', \"should've\", 'such', 'weren', 'down', 'don', 'my', \"won't\", 'how', 'himself', \"you're\", 'after', 'needn', \"mightn't\", 'now', 'its', 'no', 'here', \"couldn't\", 'him', 'should', 'aren', 'hadn', 'at', 'she', 'we', 'an', 'as', 'with', 'those', 'he', 'yours', 'while', 'under', 'you', \"aren't\", \"isn't\", 'has', 'few', 'because', 'if', \"haven't\", 'these', 'up', 'they', 'of', 'but', 'our', 'am', \"wouldn't\", 'above', \"you'd\", \"you'll\", 'did', 'some', \"she's\", 'do', 'wasn', 'be', 'again', 'won', 'out', \"didn't\", 'haven', 'which', 'only', \"shouldn't\", 'mustn', 'll', 'hasn', 'yourselves', 'myself', 'being', 'whom', 'until', 'itself', \"weren't\", 'further', 'herself', 'is', 'there', \"it's\", 'their', 'his', 'will', 'shan', 'i', 'had', 'doesn', 'to', 'nor', 've', 'so', \"hadn't\", 'what', \"shan't\", 'them', 'between', 'more', 'most', 'me', 'ain', \"doesn't\", 'o', \"wasn't\", 'through', 'from', 'over', 'both', 'all', 'same', 'it', 'doing', 'about', 'when', 'y', 'theirs', 'very', 'this', 'a', 'the', 'below', 'd', 'mightn', 'where', 'shouldn', 'against', 'any', 'own', 'isn', 'other', 'm', 'couldn', 'for', 'been', 'why', \"you've\", 'having', 'themselves', 'in', 'have', 'too', 'hers', 'was', 'were', 's', 'just', 'before', 'or', \"hasn't\", 'that', 'does', 'your', 'can', 'then', 'ourselves', 'on', 'are', 'off', 'once', 'didn', 'and', 'yourself', \"that'll\", 'ours', 'not', \"don't\", 'wouldn', 'during', 'ma', 'by', 't', \"needn't\", 'her', 'who', 'each', \"mustn't\", 're', 'than'}\n",
      "************************************\n",
      "tasti\n"
     ]
    }
   ],
   "source": [
    "stop = set(stopwords.words('english')) #set of stopwords\n",
    "sno = nltk.stem.SnowballStemmer('english') #initialising the snowball stemmer\n",
    "\n",
    "def cleanhtml(sentence): #function to clean the word of any html-tags\n",
    "    cleanr = re.compile('<.*?>')\n",
    "    cleantext = re.sub(cleanr, ' ', sentence)\n",
    "    return cleantext\n",
    "def cleanpunc(sentence): #function to clean the word of any punctuation or special characters\n",
    "    cleaned = re.sub(r'[?|!|\\'|\"|#]',r'',sentence)\n",
    "    cleaned = re.sub(r'[.|,|)|(|\\|/]',r' ',cleaned)\n",
    "    return  cleaned\n",
    "print(stop)\n",
    "print('************************************')\n",
    "print(sno.stem('tasty'))"
   ]
  },
  {
   "cell_type": "code",
   "execution_count": 13,
   "metadata": {
    "_uuid": "18da18b2956750d6edd35d500e0fafc18e834a43"
   },
   "outputs": [
    {
     "name": "stderr",
     "output_type": "stream",
     "text": [
      "100%|██████████| 364171/364171 [07:38<00:00, 794.09it/s] \n"
     ]
    }
   ],
   "source": [
    "#Code for implementing step-by-step the checks mentioned in the pre-processing phase\n",
    "# this code takes a while to run as it needs to run on 500k sentences.\n",
    "if not os.path.isfile('final.sqlite'):\n",
    "    i=0\n",
    "    str1=' '\n",
    "    final_string=[]\n",
    "    all_positive_words=[] # store words from +ve reviews here\n",
    "    all_negative_words=[] # store words from -ve reviews here.\n",
    "    s=''\n",
    "    for sent in tqdm(final['Text'].values):\n",
    "        filtered_sentence=[]\n",
    "        #print(sent);\n",
    "        sent=cleanhtml(sent) # remove HTMl tags\n",
    "        for w in sent.split():\n",
    "            for cleaned_words in cleanpunc(w).split():\n",
    "                if((cleaned_words.isalpha()) & (len(cleaned_words)>2)):    \n",
    "                    if(cleaned_words.lower() not in stop):\n",
    "                        s=(sno.stem(cleaned_words.lower())).encode('utf8')\n",
    "                        filtered_sentence.append(s)\n",
    "                        if (final['Score'].values)[i] == 'positive': \n",
    "                            all_positive_words.append(s) #list of all words used to describe positive reviews\n",
    "                        if(final['Score'].values)[i] == 'negative':\n",
    "                            all_negative_words.append(s) #list of all words used to describe negative reviews reviews\n",
    "                    else:\n",
    "                        continue\n",
    "                else:\n",
    "                    continue \n",
    "        #print(filtered_sentence)\n",
    "        str1 = b\" \".join(filtered_sentence) #final string of cleaned words\n",
    "        #print(\"***********************************************************************\")\n",
    "\n",
    "        final_string.append(str1)\n",
    "        i+=1\n",
    "\n",
    "    #############---- storing the data into .sqlite file ------########################\n",
    "    final['CleanedText']=final_string #adding a column of CleanedText which displays the data after pre-processing of the review \n",
    "    final['CleanedText']=final['CleanedText'].str.decode(\"utf-8\")\n",
    "        # store final table into an SQlLite table for future.\n",
    "    conn = sqlite3.connect('final.sqlite')\n",
    "    c=conn.cursor()\n",
    "    conn.text_factory = str\n",
    "    final.to_sql('Reviews', conn,  schema=None, if_exists='replace', \\\n",
    "                 index=True, index_label=None, chunksize=None, dtype=None)\n",
    "    conn.close()\n",
    "    \n",
    "    \n",
    "    with open('positive_words.pkl', 'wb') as f:\n",
    "        pickle.dump(all_positive_words, f)\n",
    "    with open('negitive_words.pkl', 'wb') as f:\n",
    "        pickle.dump(all_negative_words, f)"
   ]
  },
  {
   "cell_type": "code",
   "execution_count": 14,
   "metadata": {
    "_uuid": "0039fba9adfa281ff8b07331090a9f5b47911335"
   },
   "outputs": [],
   "source": [
    "if os.path.isfile('final.sqlite'):\n",
    "    conn = sqlite3.connect('final.sqlite')\n",
    "    final = pd.read_sql_query(\"\"\" SELECT * FROM Reviews WHERE Score != 3 \"\"\", conn)\n",
    "    conn.close()\n",
    "else:\n",
    "    print(\"Please the above cell\")\n",
    "    "
   ]
  },
  {
   "cell_type": "code",
   "execution_count": 15,
   "metadata": {
    "_uuid": "33a1eb32dbf9591f1fa78f9e6e281e5473dececc"
   },
   "outputs": [],
   "source": [
    "final.to_pickle(\"./amazon.pkl\")"
   ]
  },
  {
   "cell_type": "code",
   "execution_count": 16,
   "metadata": {
    "_uuid": "7af4651049aea89f24341c2d8360ce6c1b5c844f"
   },
   "outputs": [
    {
     "data": {
      "text/plain": [
       "1    307061\n",
       "0     57110\n",
       "Name: Score, dtype: int64"
      ]
     },
     "execution_count": 16,
     "metadata": {},
     "output_type": "execute_result"
    }
   ],
   "source": [
    "final['Score'].value_counts()"
   ]
  },
  {
   "cell_type": "code",
   "execution_count": 17,
   "metadata": {
    "_uuid": "a1fc2a53f0dfedc3beb2db8b0a06057a7903f0ef"
   },
   "outputs": [],
   "source": [
    "# read data from pickle file from previous stage\n",
    "data = pd.read_pickle(\"./amazon.pkl\")"
   ]
  },
  {
   "cell_type": "code",
   "execution_count": 18,
   "metadata": {
    "_uuid": "7489d8de9962341280cb0caf976bf7dc50180f94"
   },
   "outputs": [],
   "source": [
    "# Random sampling \n",
    "data = data.take(np.random.permutation(len(data))[:100000])"
   ]
  },
  {
   "cell_type": "code",
   "execution_count": 19,
   "metadata": {
    "_uuid": "8b84fadafe4f1013e3f91dec02499900b4aaa963"
   },
   "outputs": [
    {
     "name": "stdout",
     "output_type": "stream",
     "text": [
      "(100000, 12)\n",
      "1    84332\n",
      "0    15668\n",
      "Name: Score, dtype: int64\n"
     ]
    }
   ],
   "source": [
    "data['Time'] = pd.to_datetime(data['Time'])\n",
    "# Sort by time\n",
    "final = data.sort_values(by='Time')\n",
    "\n",
    "print(final.shape)\n",
    "print(final['Score'].value_counts())"
   ]
  },
  {
   "cell_type": "code",
   "execution_count": 20,
   "metadata": {
    "_uuid": "8b2726bc118b1f4f3a2ba978eabd0f4d22482842"
   },
   "outputs": [],
   "source": [
    "# Spliting into Train and test\n",
    "x_train, x_test, y_train, y_test = train_test_split(final['CleanedText'].values,final['Score'].values,test_size=0.3,shuffle=False)"
   ]
  },
  {
   "cell_type": "code",
   "execution_count": 21,
   "metadata": {
    "_uuid": "c4d867a58b83c02df8fa61944ae34fdf1fe9cbf9"
   },
   "outputs": [
    {
     "name": "stdout",
     "output_type": "stream",
     "text": [
      "Train Data Size:  (70000, 2000)\n",
      "Test Data Size:  (30000, 2000)\n"
     ]
    }
   ],
   "source": [
    "#Bag of words\n",
    "count_vect = CountVectorizer(max_features=2000,min_df=20) \n",
    "\n",
    "x_train = count_vect.fit_transform(x_train)\n",
    "#Normalize Data\n",
    "x_train = preprocessing.normalize(x_train)\n",
    "print(\"Train Data Size: \",x_train.shape)\n",
    "\n",
    "x_test = count_vect.transform(x_test)\n",
    "#Normalize Data\n",
    "x_test = preprocessing.normalize(x_test)\n",
    "print(\"Test Data Size: \",x_test.shape)"
   ]
  },
  {
   "cell_type": "code",
   "execution_count": 22,
   "metadata": {
    "_uuid": "286b96b415cf598dae94f8067367a04a15e2a243"
   },
   "outputs": [],
   "source": [
    "def find_optimal_k_multi(X_train,y_train, myList):\n",
    "   \n",
    "    # empty list that will hold cv scores\n",
    "    cv_scores = []\n",
    "\n",
    "    # split the train data set into cross validation train and cross validation test\n",
    "    X_tr, X_cv, y_tr, y_cv = train_test_split(X_train, y_train, test_size=0.3)\n",
    "\n",
    "    for i in myList:\n",
    "        nb = MultinomialNB(alpha = i)\n",
    "        model = nb.fit(X_tr, y_tr)\n",
    "\n",
    "        # predict the response on the crossvalidation train\n",
    "        pred = model.predict(X_cv)\n",
    "\n",
    "        # evaluate CV accuracy\n",
    "        acc = f1_score(y_cv, pred)\n",
    "        cv_scores.append(acc)\n",
    "        \n",
    "    # changing to misclassification error\n",
    "    MSE = [x for x in cv_scores]\n",
    "\n",
    "    # determining best alpha\n",
    "    optimal_alpha = myList[MSE.index(max(MSE))]\n",
    "    print('\\nThe optimal alpha is ', optimal_alpha)\n",
    "\n",
    "\n",
    "    plt.figure(figsize=(10,6))\n",
    "    plt.plot(myList,MSE,color='blue', linestyle='dashed', marker='o',\n",
    "             markerfacecolor='red', markersize=10)\n",
    "    plt.title('Error Rate vs. alpha Value')\n",
    "    plt.xlabel('alpha')\n",
    "    plt.ylabel('Error Rate')\n",
    "\n",
    "    print(\"the misclassification error for each k value is : \", np.round(MSE,3))\n",
    "    \n",
    "    return optimal_alpha"
   ]
  },
  {
   "cell_type": "code",
   "execution_count": 43,
   "metadata": {
    "_uuid": "a298829e36769d07ed00c78ca99ee0dcde4d2b00"
   },
   "outputs": [
    {
     "name": "stdout",
     "output_type": "stream",
     "text": [
      "\n",
      "The optimal alpha is  0.05\n",
      "the misclassification error for each k value is :  [0.919 0.919 0.919 0.919 0.919 0.924 0.927 0.932 0.933 0.933 0.933 0.933\n",
      " 0.933 0.933 0.933 0.933 0.933]\n",
      "0.05\n"
     ]
    },
    {
     "data": {
      "image/png": "[encoded data removed]",
      "text/plain": [
       "<Figure size 720x432 with 1 Axes>"
      ]
     },
     "metadata": {},
     "output_type": "display_data"
    }
   ],
   "source": [
    "from sklearn.naive_bayes import MultinomialNB\n",
    "\n",
    "alpha = 10000,1000,500,100,50,10,5,1,0.5,0.1,0.05,0.01,0.005,0.001,0.0005,0.0001,0.00001\n",
    "optimal_alpha = find_optimal_k_multi(x_train ,y_train,alpha)\n",
    "\n",
    "print(optimal_alpha)"
   ]
  },
  {
   "cell_type": "code",
   "execution_count": 44,
   "metadata": {
    "_uuid": "5fd9e6113911373e0d2cb10482a1c5a716155297"
   },
   "outputs": [],
   "source": [
    "# This function plots the confusion, precision and recall matrices\n",
    "def plot_confusion_matrix(x_test, y_pred):\n",
    "    C = confusion_matrix(x_test, y_pred)\n",
    "    \n",
    "    A =(((C.T)/(C.sum(axis=1))).T)\n",
    "   \n",
    "    B =(C/C.sum(axis=0))\n",
    " \n",
    "    plt.figure(figsize=(20,4))\n",
    "    \n",
    "    labels = [0,1]\n",
    "    \n",
    "    plt.subplot(1, 3, 1)\n",
    "    sns.heatmap(C, annot=True, fmt=\"d\", xticklabels=labels, yticklabels=labels)\n",
    "    plt.xlabel('Predicted Class')\n",
    "    plt.ylabel('Original Class')\n",
    "    plt.title(\"Confusion matrix\")\n",
    "    \n",
    "    plt.subplot(1, 3, 2)\n",
    "    sns.heatmap(B, annot=True, fmt=\".3f\", xticklabels=labels, yticklabels=labels)\n",
    "    plt.xlabel('Predicted Class')\n",
    "    plt.ylabel('Original Class')\n",
    "    plt.title(\"Precision matrix\")\n",
    "    \n",
    "    plt.subplot(1, 3, 3)\n",
    "    # representing B in heatmap format\n",
    "    sns.heatmap(A, annot=True, fmt=\".3f\", xticklabels=labels, yticklabels=labels)\n",
    "    plt.xlabel('Predicted Class')\n",
    "    plt.ylabel('Original Class')\n",
    "    plt.title(\"Recall matrix\")\n",
    "    \n",
    "    plt.show()"
   ]
  },
  {
   "cell_type": "code",
   "execution_count": 45,
   "metadata": {
    "_uuid": "07046b74806eef0d6224cd9b2aa89d5e7356a7c0"
   },
   "outputs": [
    {
     "name": "stdout",
     "output_type": "stream",
     "text": [
      "Accuracy on test set: 86.247%\n",
      "Precision on test set: 0.859\n",
      "Recall on test set: 0.996\n",
      "F1-micro-Score on test set: 0.862\n"
     ]
    },
    {
     "data": {
      "image/png": "[encoded data removed]",
      "text/plain": [
       "<Figure size 1440x288 with 6 Axes>"
      ]
     },
     "metadata": {},
     "output_type": "display_data"
    }
   ],
   "source": [
    "# instantiate learning model k = optimal_k\n",
    "mn = MultinomialNB(alpha = optimal_alpha)\n",
    "model = mn.fit(x_train, y_train)\n",
    "\n",
    "\n",
    "# predict the response\n",
    "pred = mn.predict(x_test)\n",
    "\n",
    "print(\"Accuracy on test set: %0.3f%%\"%(accuracy_score(y_test, pred)*100))\n",
    "print(\"Precision on test set: %0.3f\"%(precision_score(y_test, pred)))\n",
    "print(\"Recall on test set: %0.3f\"%(recall_score(y_test, pred)))\n",
    "print(\"F1-micro-Score on test set: %0.3f\"%(f1_score(y_test, pred,average='micro')))\n",
    "plot_confusion_matrix(y_test, pred)"
   ]
  },
  {
   "cell_type": "markdown",
   "metadata": {
    "_uuid": "244b1215e65491b6a5e6b9bffe9fcef0ecc0e459"
   },
   "source": [
    "**OBSERVATION**\n",
    "* Taking a sample of 100000 data and splitting it into 70000 train data and 30000 test data.\n",
    "* Writting  a function to find the optimal value of alpha = 0.05\n",
    "* The F1 score is found to be 86.2% using Multinomial Naive Bayes using Bag of Words Featurization"
   ]
  },
  {
   "cell_type": "code",
   "execution_count": 46,
   "metadata": {
    "_uuid": "e95857a6feb183ce89551579b547da7064526053"
   },
   "outputs": [],
   "source": [
    "\n",
    "def find_optimal_k_bernolli(X_train,y_train, myList):\n",
    "   \n",
    "    # empty list that will hold cv scores\n",
    "    cv_scores = []\n",
    "\n",
    "    # split the train data set into cross validation train and cross validation test\n",
    "    X_tr, X_cv, y_tr, y_cv = train_test_split(X_train, y_train, test_size=0.3)\n",
    "\n",
    "    for i in myList:\n",
    "        bb = BernoulliNB(alpha = i)\n",
    "        model = bb.fit(X_tr, y_tr)\n",
    "\n",
    "        # predict the response on the crossvalidation train\n",
    "        pred = model.predict(X_cv)\n",
    "\n",
    "        # evaluate CV accuracy\n",
    "        acc = f1_score(y_cv, pred)\n",
    "        cv_scores.append(acc)\n",
    "        \n",
    "    # changing to misclassification error\n",
    "    MSE = [x for x in cv_scores]\n",
    "\n",
    "    # determining best alpha\n",
    "    optimal_alpha = myList[MSE.index(max(MSE))]\n",
    "    print('\\nThe optimal alpha is ', optimal_alpha)\n",
    "\n",
    "\n",
    "    plt.figure(figsize=(10,6))\n",
    "    plt.plot(myList,MSE,color='blue', linestyle='dashed', marker='o',\n",
    "             markerfacecolor='red', markersize=10)\n",
    "    plt.title('Error Rate vs. alpha Value')\n",
    "    plt.xlabel('alpha')\n",
    "    plt.ylabel('Error Rate')\n",
    "\n",
    "    print(\"the misclassification error for each k value is : \", np.round(MSE,3))\n",
    "    \n",
    "    return optimal_alpha"
   ]
  },
  {
   "cell_type": "code",
   "execution_count": 47,
   "metadata": {
    "_uuid": "3e6cb4b277e3acd133c53d9ee753fc180bc65039"
   },
   "outputs": [
    {
     "name": "stdout",
     "output_type": "stream",
     "text": [
      "\n",
      "The optimal alpha is  0.001\n",
      "the misclassification error for each k value is :  [0.92  0.92  0.917 0.896 0.896 0.926 0.934 0.937 0.938 0.938 0.938 0.938\n",
      " 0.938 0.938 0.938 0.938 0.938]\n",
      "0.001\n"
     ]
    },
    {
     "data": {
      "image/png": "[encoded data removed]",
      "text/plain": [
       "<Figure size 720x432 with 1 Axes>"
      ]
     },
     "metadata": {},
     "output_type": "display_data"
    }
   ],
   "source": [
    "from sklearn.naive_bayes import BernoulliNB\n",
    "\n",
    "alpha = 10000,1000,500,100,50,10,5,1,0.5,0.1,0.05,0.01,0.005,0.001,0.0005,0.0001,0.00001\n",
    "optimal_alpha = find_optimal_k_bernolli(x_train, y_train, alpha)\n",
    "\n",
    "print(optimal_alpha)"
   ]
  },
  {
   "cell_type": "code",
   "execution_count": 48,
   "metadata": {
    "_uuid": "80582b273d90da391265a55847fce91bd1503a7d"
   },
   "outputs": [
    {
     "name": "stdout",
     "output_type": "stream",
     "text": [
      "Accuracy on test set: 88.223%\n",
      "Precision on test set: 0.938\n",
      "Recall on test set: 0.918\n",
      "F1-micro-Score on test set: 0.882\n"
     ]
    },
    {
     "data": {
      "image/png": "[encoded data removed]",
      "text/plain": [
       "<Figure size 1440x288 with 6 Axes>"
      ]
     },
     "metadata": {},
     "output_type": "display_data"
    }
   ],
   "source": [
    "# instantiate learning model k = optimal_k\n",
    "bb = BernoulliNB(alpha = optimal_alpha)\n",
    "model = bb.fit(x_train, y_train)\n",
    "\n",
    "\n",
    "# predict the response\n",
    "pred = bb.predict(x_test)\n",
    "\n",
    "print(\"Accuracy on test set: %0.3f%%\"%(accuracy_score(y_test, pred)*100))\n",
    "print(\"Precision on test set: %0.3f\"%(precision_score(y_test, pred)))\n",
    "print(\"Recall on test set: %0.3f\"%(recall_score(y_test, pred)))\n",
    "print(\"F1-micro-Score on test set: %0.3f\"%(f1_score(y_test, pred,average='micro')))\n",
    "plot_confusion_matrix(y_test, pred)"
   ]
  },
  {
   "cell_type": "markdown",
   "metadata": {
    "_uuid": "5c272fe08e810bd5bb3e63c9db7f5fcbe4b91bef"
   },
   "source": [
    "**OBSERVATION**\n",
    "* The optimal value of alpha = 0.001\n",
    "* The F1 score is found to be 88.2% using Bernoulli Naive Bayes using Bag of Words featurization"
   ]
  },
  {
   "cell_type": "markdown",
   "metadata": {
    "_uuid": "11a790bf122c2ba0be4ef14805266fb8a093c936"
   },
   "source": [
    "# Feature Importance"
   ]
  },
  {
   "cell_type": "code",
   "execution_count": 29,
   "metadata": {
    "_uuid": "d358614e16ce7924f58ad52dcc54671db0466909"
   },
   "outputs": [
    {
     "name": "stdout",
     "output_type": "stream",
     "text": [
      "\t\t\tNegative\t\t\t\t\t\tPositive\n",
      "________________________________________________________________________________________________\n",
      "\t-10.5211\tyuck           \t\t\t\t-4.3273\ttast           \n",
      "\t-10.4700\tmislead        \t\t\t\t-4.3413\tlove           \n",
      "\t-10.3781\trancid         \t\t\t\t-4.3487\tlike           \n",
      "\t-10.3209\ttrash          \t\t\t\t-4.3544\tgreat          \n",
      "\t-10.2947\tresembl        \t\t\t\t-4.3916\tgood           \n",
      "\t-10.2010\tsucralos       \t\t\t\t-4.5248\tflavor         \n",
      "\t-10.1997\tlie            \t\t\t\t-4.6234\tuse            \n",
      "\t-10.1230\tevo            \t\t\t\t-4.6446\tproduct        \n",
      "\t-10.1167\tskip           \t\t\t\t-4.7207\tone            \n",
      "\t-10.1099\tmoth           \t\t\t\t-4.8084\ttri            \n",
      "\t-10.0851\tcancel         \t\t\t\t-4.8163\ttea            \n",
      "\t-10.0681\tthrown         \t\t\t\t-4.8871\tcoffe          \n",
      "\t-10.0529\trope           \t\t\t\t-4.9122\tmake           \n",
      "\t-10.0500\tworst          \t\t\t\t-4.9814\tget            \n",
      "\t-10.0450\tgarbag         \t\t\t\t-5.1237\tbuy            \n",
      "\t-10.0348\tbug            \t\t\t\t-5.1557\tbest           \n",
      "\t-10.0337\tmold           \t\t\t\t-5.1695\tamazon         \n",
      "\t-10.0269\tdeath          \t\t\t\t-5.1803\tprice          \n",
      "\t-10.0206\tdisgust        \t\t\t\t-5.2034\ttime           \n",
      "\t-10.0157\tdanger         \t\t\t\t-5.2095\tfind           \n",
      "\t-10.0156\tcrap           \t\t\t\t-5.2455\tfood           \n",
      "\t-10.0103\tpad            \t\t\t\t-5.2650\trealli         \n",
      "\t-10.0102\twrote          \t\t\t\t-5.2680\torder          \n",
      "\t-10.0095\tlinger         \t\t\t\t-5.2753\twould          \n",
      "\t-10.0056\tsoil           \t\t\t\t-5.2884\teat            \n",
      "\t-10.0040\tfrustrat       \t\t\t\t-5.3663\tstore          \n",
      "\t-10.0024\tthrew          \t\t\t\t-5.3862\tmuch           \n",
      "\t-9.9877\trecal          \t\t\t\t-5.4015\tlittl          \n",
      "\t-9.9871\tassoci         \t\t\t\t-5.4452\talso           \n",
      "\t-9.9851\tphoto          \t\t\t\t-5.4740\tdont           \n",
      "\t-9.9811\tenvelop        \t\t\t\t-5.4954\twell           \n",
      "\t-9.9802\tunpleas        \t\t\t\t-5.5260\tive            \n",
      "\t-9.9772\theadach        \t\t\t\t-5.5873\tdog            \n",
      "\t-9.9762\tprint          \t\t\t\t-5.5910\tdrink          \n",
      "\t-9.9537\tgeneric        \t\t\t\t-5.6093\tbag            \n",
      "\t-9.9317\tpurina         \t\t\t\t-5.6098\tbetter         \n",
      "\t-9.9307\tapproxim       \t\t\t\t-5.6211\tmix            \n",
      "\t-9.9298\ttasteless      \t\t\t\t-5.6282\trecommend      \n",
      "\t-9.9228\tbuyer          \t\t\t\t-5.6382\teven           \n",
      "\t-9.9195\tguarante       \t\t\t\t-5.6532\tyear           \n",
      "\t-9.9179\tbpa            \t\t\t\t-5.6739\tchocol         \n",
      "\t-9.9172\tadvic          \t\t\t\t-5.6758\tdelici         \n",
      "\t-9.9145\tmelitta        \t\t\t\t-5.7065\tday            \n",
      "\t-9.9059\tvolum          \t\t\t\t-5.7364\tsweet          \n",
      "\t-9.9025\tinfo           \t\t\t\t-5.7751\thigh           \n",
      "\t-9.8997\tconfus         \t\t\t\t-5.7793\tfound          \n",
      "\t-9.8986\trefund         \t\t\t\t-5.7879\ttreat          \n",
      "\t-9.8967\tdetail         \t\t\t\t-5.8040\tfavorit        \n",
      "\t-9.8906\tclove          \t\t\t\t-5.8065\tbox            \n",
      "\t-9.8867\tdeserv         \t\t\t\t-5.8090\tenjoy          \n"
     ]
    }
   ],
   "source": [
    "def show_most_informative_features(vectorizer, clf, n=50):\n",
    "    feature_names = vectorizer.get_feature_names()\n",
    "    coefs_with_fns = sorted(zip(clf.coef_[0], feature_names))\n",
    "    top = zip(coefs_with_fns[:n], coefs_with_fns[:-(n + 1):-1])\n",
    "    print(\"\\t\\t\\tNegative\\t\\t\\t\\t\\t\\tPositive\")\n",
    "    print(\"________________________________________________________________________________________________\")\n",
    "    for (coef_1, fn_1), (coef_2, fn_2) in top:\n",
    "        print(\"\\t%.4f\\t%-15s\\t\\t\\t\\t%.4f\\t%-15s\" % (coef_1, fn_1, coef_2, fn_2))\n",
    "        \n",
    "show_most_informative_features(count_vect,mn)"
   ]
  },
  {
   "cell_type": "code",
   "execution_count": 30,
   "metadata": {
    "_uuid": "5afdd72bf1842a69e49a0115bde93f29bbd882f0"
   },
   "outputs": [
    {
     "name": "stdout",
     "output_type": "stream",
     "text": [
      "\t\t\tNegative\t\t\t\t\t\tPositive\n",
      "________________________________________________________________________________________________\n",
      "\t-7.3834\tmoth           \t\t\t\t-1.2018\tlike           \n",
      "\t-7.2102\tmole           \t\t\t\t-1.2046\ttast           \n",
      "\t-7.1658\tyuck           \t\t\t\t-1.2660\tlove           \n",
      "\t-7.0055\tmislead        \t\t\t\t-1.2782\tgood           \n",
      "\t-6.9341\tcatnip         \t\t\t\t-1.2852\tgreat          \n",
      "\t-6.9002\trope           \t\t\t\t-1.4299\tflavor         \n",
      "\t-6.8837\tbpa            \t\t\t\t-1.4882\tone            \n",
      "\t-6.8674\tbulli          \t\t\t\t-1.4883\tuse            \n",
      "\t-6.8357\tevo            \t\t\t\t-1.5357\ttri            \n",
      "\t-6.8202\tmiso           \t\t\t\t-1.5716\tproduct        \n",
      "\t-6.8202\tsucralos       \t\t\t\t-1.6446\tmake           \n",
      "\t-6.8049\trancid         \t\t\t\t-1.7058\tget            \n",
      "\t-6.7605\tmargarita      \t\t\t\t-1.9043\tbuy            \n",
      "\t-6.7605\ttrash          \t\t\t\t-1.9058\ttime           \n",
      "\t-6.7319\trabbit         \t\t\t\t-1.9401\tamazon         \n",
      "\t-6.7179\tmio            \t\t\t\t-1.9544\twould          \n",
      "\t-6.7042\tbergamot       \t\t\t\t-1.9575\tbest           \n",
      "\t-6.7042\tbug            \t\t\t\t-1.9719\tfind           \n",
      "\t-6.7042\tizz            \t\t\t\t-1.9863\trealli         \n",
      "\t-6.6906\tcancel         \t\t\t\t-2.0095\tprice          \n",
      "\t-6.6906\tgelatin        \t\t\t\t-2.0271\tmuch           \n",
      "\t-6.6906\tresembl        \t\t\t\t-2.0287\talso           \n",
      "\t-6.6771\tbonsai         \t\t\t\t-2.0556\teat            \n",
      "\t-6.6639\tami            \t\t\t\t-2.0801\tdont           \n",
      "\t-6.6639\tclam           \t\t\t\t-2.0854\tlittl          \n",
      "\t-6.6639\tpad            \t\t\t\t-2.1178\tstore          \n",
      "\t-6.6639\tpearl          \t\t\t\t-2.1441\torder          \n",
      "\t-6.6639\tsoil           \t\t\t\t-2.1451\twell           \n",
      "\t-6.6508\tilli           \t\t\t\t-2.1871\tfood           \n",
      "\t-6.6508\tlie            \t\t\t\t-2.2065\teven           \n",
      "\t-6.6252\tenvelop        \t\t\t\t-2.2192\tive            \n",
      "\t-6.6252\twasabi         \t\t\t\t-2.2324\tcoffe          \n",
      "\t-6.6126\tchia           \t\t\t\t-2.2718\trecommend      \n",
      "\t-6.6126\tdirti          \t\t\t\t-2.2736\tbetter         \n",
      "\t-6.6126\tmold           \t\t\t\t-2.3130\ttea            \n",
      "\t-6.5879\tacai           \t\t\t\t-2.3321\tyear           \n",
      "\t-6.5879\tdeath          \t\t\t\t-2.3725\tday            \n",
      "\t-6.5758\theadach        \t\t\t\t-2.4112\tfound          \n",
      "\t-6.5758\tmatcha         \t\t\t\t-2.4138\thigh           \n",
      "\t-6.5758\ttassimo        \t\t\t\t-2.4433\tdelici         \n",
      "\t-6.5758\twhey           \t\t\t\t-2.4515\tbag            \n",
      "\t-6.5638\tthrown         \t\t\t\t-2.4593\tmix            \n",
      "\t-6.5520\tcluster        \t\t\t\t-2.4634\tfirst          \n",
      "\t-6.5520\tgarbag         \t\t\t\t-2.4634\tdrink          \n",
      "\t-6.5520\trefund         \t\t\t\t-2.4703\tsweet          \n",
      "\t-6.5403\tbuyer          \t\t\t\t-2.4880\tgive           \n",
      "\t-6.5403\tgrapefruit     \t\t\t\t-2.4910\twant           \n",
      "\t-6.5403\tmelitta        \t\t\t\t-2.5096\tenjoy          \n",
      "\t-6.5173\tfli            \t\t\t\t-2.5235\tlook           \n",
      "\t-6.5060\tcrap           \t\t\t\t-2.5330\tfavorit        \n"
     ]
    }
   ],
   "source": [
    "show_most_informative_features(count_vect,bb)"
   ]
  },
  {
   "cell_type": "markdown",
   "metadata": {
    "_uuid": "e8b06d36d2ee552bfbc9c14a075c2354cb2fa875"
   },
   "source": [
    "# TF-IDF"
   ]
  },
  {
   "cell_type": "code",
   "execution_count": 49,
   "metadata": {
    "_uuid": "f1dc7a3311cfef65506726032309064bd4d6764e"
   },
   "outputs": [],
   "source": [
    "#TF-IDF\n",
    "from sklearn.model_selection import train_test_split\n",
    "\n",
    "# Spliting into Train and test\n",
    "x_train, x_test, y_train, y_test = train_test_split(final['CleanedText'].values,final['Score'].values,test_size=0.3,shuffle=False)"
   ]
  },
  {
   "cell_type": "code",
   "execution_count": 50,
   "metadata": {
    "_uuid": "c3ba641ac2349c1a15736164d1e8c8bcde6c5629"
   },
   "outputs": [
    {
     "name": "stdout",
     "output_type": "stream",
     "text": [
      "Train Data Size:  (70000, 2000)\n",
      "Test Data Size:  (30000, 2000)\n"
     ]
    }
   ],
   "source": [
    "tfidf = TfidfVectorizer(ngram_range=(1,2), max_features=2000, min_df=10) #Using bi-grams\n",
    "x_train = tfidf.fit_transform(x_train)\n",
    "#Normalize Data\n",
    "x_train = preprocessing.normalize(x_train)\n",
    "print(\"Train Data Size: \",x_train.shape)\n",
    "x_test = tfidf.transform(x_test)\n",
    "#Normalize Data\n",
    "x_test = preprocessing.normalize(x_test)\n",
    "print(\"Test Data Size: \",x_test.shape)"
   ]
  },
  {
   "cell_type": "code",
   "execution_count": 51,
   "metadata": {
    "_uuid": "18a8ec0d609e745d1be5568e1d07ebde6d92ff22"
   },
   "outputs": [
    {
     "name": "stdout",
     "output_type": "stream",
     "text": [
      "\n",
      "The optimal alpha is  0.01\n",
      "the misclassification error for each k value is :  [0.92  0.92  0.92  0.92  0.92  0.926 0.929 0.934 0.934 0.935 0.935 0.935\n",
      " 0.935 0.935 0.935 0.935 0.935]\n",
      "0.01\n"
     ]
    },
    {
     "data": {
      "image/png": "[encoded data removed]",
      "text/plain": [
       "<Figure size 720x432 with 1 Axes>"
      ]
     },
     "metadata": {},
     "output_type": "display_data"
    }
   ],
   "source": [
    "from sklearn.naive_bayes import MultinomialNB\n",
    "\n",
    "alpha = 10000,1000,500,100,50,10,5,1,0.5,0.1,0.05,0.01,0.005,0.001,0.0005,0.0001,0.00001\n",
    "optimal_alpha = find_optimal_k_multi(x_train ,y_train,alpha)\n",
    "\n",
    "print(optimal_alpha)"
   ]
  },
  {
   "cell_type": "code",
   "execution_count": 52,
   "metadata": {
    "_uuid": "6f49528a517cb53f874a011a5a01adabcb4e3050"
   },
   "outputs": [
    {
     "name": "stdout",
     "output_type": "stream",
     "text": [
      "Accuracy on test set: 86.250%\n",
      "Precision on test set: 0.860\n",
      "Recall on test set: 0.996\n",
      "F1-micro-Score on test set: 0.863\n"
     ]
    },
    {
     "data": {
      "image/png": "[encoded data removed]",
      "text/plain": [
       "<Figure size 1440x288 with 6 Axes>"
      ]
     },
     "metadata": {},
     "output_type": "display_data"
    }
   ],
   "source": [
    "# instantiate learning model k = optimal_k\n",
    "mn = MultinomialNB(alpha = optimal_alpha)\n",
    "model = mn.fit(x_train, y_train)\n",
    "\n",
    "\n",
    "# predict the response\n",
    "pred = mn.predict(x_test)\n",
    "\n",
    "print(\"Accuracy on test set: %0.3f%%\"%(accuracy_score(y_test, pred)*100))\n",
    "print(\"Precision on test set: %0.3f\"%(precision_score(y_test, pred)))\n",
    "print(\"Recall on test set: %0.3f\"%(recall_score(y_test, pred)))\n",
    "print(\"F1-micro-Score on test set: %0.3f\"%(f1_score(y_test, pred,average='micro')))\n",
    "plot_confusion_matrix(y_test, pred)"
   ]
  },
  {
   "cell_type": "markdown",
   "metadata": {
    "_uuid": "6607819d04b4d5287c85a66aaf2454748444437b"
   },
   "source": [
    "**OBSERVATION**\n",
    "* Writting  a function to find the optimal value of alpha = 0.01\n",
    "* The F1 score is found to be 86.3% using Multinomial Naive Bayes using TF-IDF Featurization technique."
   ]
  },
  {
   "cell_type": "code",
   "execution_count": 53,
   "metadata": {
    "_uuid": "0857321e7aef6dd22feab90116e8b64e9dcce6a0"
   },
   "outputs": [
    {
     "name": "stdout",
     "output_type": "stream",
     "text": [
      "\n",
      "The optimal alpha is  0.05\n",
      "the misclassification error for each k value is :  [0.919 0.918 0.916 0.896 0.897 0.927 0.933 0.938 0.938 0.939 0.939 0.939\n",
      " 0.939 0.939 0.939 0.939 0.939]\n",
      "0.05\n"
     ]
    },
    {
     "data": {
      "image/png": "[encoded data removed]",
      "text/plain": [
       "<Figure size 720x432 with 1 Axes>"
      ]
     },
     "metadata": {},
     "output_type": "display_data"
    }
   ],
   "source": [
    "from sklearn.naive_bayes import BernoulliNB\n",
    "\n",
    "alpha = 10000,1000,500,100,50,10,5,1,0.5,0.1,0.05,0.01,0.005,0.001,0.0005,0.0001,0.00001\n",
    "optimal_alpha = find_optimal_k_bernolli(x_train ,y_train,alpha)\n",
    "\n",
    "print(optimal_alpha)"
   ]
  },
  {
   "cell_type": "code",
   "execution_count": 54,
   "metadata": {
    "_uuid": "e85e8d46425d066d4e3f0052b6e33dc3c12f2c04"
   },
   "outputs": [
    {
     "name": "stdout",
     "output_type": "stream",
     "text": [
      "Accuracy on test set: 88.227%\n",
      "Precision on test set: 0.938\n",
      "Recall on test set: 0.918\n",
      "F1-micro-Score on test set: 0.882\n"
     ]
    },
    {
     "data": {
      "image/png": "[encoded data removed]",
      "text/plain": [
       "<Figure size 1440x288 with 6 Axes>"
      ]
     },
     "metadata": {},
     "output_type": "display_data"
    }
   ],
   "source": [
    "# instantiate learning model k = optimal_k\n",
    "bb = BernoulliNB(alpha = optimal_alpha)\n",
    "model = bb.fit(x_train, y_train)\n",
    "\n",
    "\n",
    "# predict the response\n",
    "pred = bb.predict(x_test)\n",
    "\n",
    "print(\"Accuracy on test set: %0.3f%%\"%(accuracy_score(y_test, pred)*100))\n",
    "print(\"Precision on test set: %0.3f\"%(precision_score(y_test, pred)))\n",
    "print(\"Recall on test set: %0.3f\"%(recall_score(y_test, pred)))\n",
    "print(\"F1-micro-Score on test set: %0.3f\"%(f1_score(y_test, pred,average='micro')))\n",
    "plot_confusion_matrix(y_test, pred)"
   ]
  },
  {
   "cell_type": "markdown",
   "metadata": {
    "_uuid": "39d2fba3598ddf1a031fdc8492725df1cb51cfd0"
   },
   "source": [
    "**OBSERVATION**\n",
    "* Writting  a function to find the optimal value of alpha = 0.05\n",
    "* The F1 score is found to be 88.2% using Bernolli Naive Bayes using TF-IDF Featurization technique."
   ]
  },
  {
   "cell_type": "markdown",
   "metadata": {
    "_uuid": "c4a42f394b8e3d8bd146b4668a520e9e06f1b58a"
   },
   "source": [
    "Feature importance"
   ]
  },
  {
   "cell_type": "code",
   "execution_count": 55,
   "metadata": {
    "_uuid": "57aa00a36162d08fa20e21fe9e3256a1eec0762b"
   },
   "outputs": [
    {
     "name": "stdout",
     "output_type": "stream",
     "text": [
      "\t\t\tNegative\t\t\t\t\t\tPositive\n",
      "________________________________________________________________________________________________\n",
      "\t-10.3940\twast money     \t\t\t\t-4.9949\tgreat          \n",
      "\t-10.0550\ttrash          \t\t\t\t-4.9995\tlove           \n",
      "\t-9.8881\twont buy       \t\t\t\t-5.0615\tgood           \n",
      "\t-9.8673\tworst          \t\t\t\t-5.0641\ttast           \n",
      "\t-9.7905\tthrew          \t\t\t\t-5.0804\tlike           \n",
      "\t-9.7777\tdisgust        \t\t\t\t-5.0977\ttea            \n",
      "\t-9.6915\tunpleas        \t\t\t\t-5.1396\tflavor         \n",
      "\t-9.6539\trefund         \t\t\t\t-5.2030\tcoffe          \n",
      "\t-9.6350\tone star       \t\t\t\t-5.2111\tuse            \n",
      "\t-9.6341\tbuyer          \t\t\t\t-5.2369\tproduct        \n",
      "\t-9.6291\ttasteless      \t\t\t\t-5.3253\tone            \n",
      "\t-9.5686\tdiarrhea       \t\t\t\t-5.4010\ttri            \n",
      "\t-9.5619\truin           \t\t\t\t-5.4418\tmake           \n",
      "\t-9.5329\tpage           \t\t\t\t-5.5000\tget            \n",
      "\t-9.5151\tvomit          \t\t\t\t-5.5597\tbest           \n",
      "\t-9.4425\tshame          \t\t\t\t-5.5796\tprice          \n",
      "\t-9.4348\tgross          \t\t\t\t-5.5854\tbuy            \n",
      "\t-9.4294\ttran fat       \t\t\t\t-5.6034\tfood           \n",
      "\t-9.4070\texplain        \t\t\t\t-5.6159\tamazon         \n",
      "\t-9.4055\tdump           \t\t\t\t-5.6373\tfind           \n",
      "\t-9.3910\tsometh els     \t\t\t\t-5.6433\ttime           \n",
      "\t-9.3841\tartifici flavor\t\t\t\t-5.6484\torder          \n",
      "\t-9.3659\trip            \t\t\t\t-5.6797\trealli         \n",
      "\t-9.3528\twors           \t\t\t\t-5.6815\teat            \n",
      "\t-9.3524\tnoth like      \t\t\t\t-5.7432\twould          \n",
      "\t-9.3233\tforc           \t\t\t\t-5.7434\tstore          \n",
      "\t-9.3169\tpotassium      \t\t\t\t-5.7525\tdog            \n",
      "\t-9.3134\tbewar          \t\t\t\t-5.7714\tlittl          \n",
      "\t-9.3080\tindic          \t\t\t\t-5.7982\tmuch           \n",
      "\t-9.3071\tlead           \t\t\t\t-5.8409\tdrink          \n",
      "\t-9.2881\thydrogen       \t\t\t\t-5.8452\talso           \n",
      "\t-9.2880\tspit           \t\t\t\t-5.8540\twell           \n",
      "\t-9.2851\ttran           \t\t\t\t-5.8717\tive            \n",
      "\t-9.2813\twateri         \t\t\t\t-5.8744\tchocol         \n",
      "\t-9.2762\tcalcium        \t\t\t\t-5.8799\tbag            \n",
      "\t-9.2713\texampl         \t\t\t\t-5.8812\tdont           \n",
      "\t-9.2709\tupdat          \t\t\t\t-5.8856\tmix            \n",
      "\t-9.2657\treport         \t\t\t\t-5.9305\tdelici         \n",
      "\t-9.2614\tdont buy       \t\t\t\t-5.9447\tbetter         \n",
      "\t-9.2573\thole           \t\t\t\t-5.9535\trecommend      \n",
      "\t-9.2503\twould never    \t\t\t\t-5.9555\ttreat          \n",
      "\t-9.2376\tnatur flavor   \t\t\t\t-5.9607\tyear           \n",
      "\t-9.2306\tmeant          \t\t\t\t-5.9925\tday            \n",
      "\t-9.2279\tmetal          \t\t\t\t-5.9975\tsweet          \n",
      "\t-9.2193\tattempt        \t\t\t\t-6.0140\teven           \n",
      "\t-9.2112\tneither        \t\t\t\t-6.0334\tfavorit        \n",
      "\t-9.2067\tabsorb         \t\t\t\t-6.0484\tenjoy          \n",
      "\t-9.2053\tcertifi        \t\t\t\t-6.0532\tsugar          \n",
      "\t-9.2045\tchoke          \t\t\t\t-6.0582\thigh           \n",
      "\t-9.2000\tburnt          \t\t\t\t-6.0625\tfound          \n"
     ]
    }
   ],
   "source": [
    "show_most_informative_features(tfidf,mn)"
   ]
  },
  {
   "cell_type": "code",
   "execution_count": 38,
   "metadata": {
    "_uuid": "115ea8e389bf8b0d9ec3ad19115c588106278f5a"
   },
   "outputs": [
    {
     "name": "stdout",
     "output_type": "stream",
     "text": [
      "\t\t\tNegative\t\t\t\t\t\tPositive\n",
      "________________________________________________________________________________________________\n",
      "\t-7.0825\twast money     \t\t\t\t-1.2018\tlike           \n",
      "\t-6.7899\twont buy       \t\t\t\t-1.2046\ttast           \n",
      "\t-6.7605\ttrash          \t\t\t\t-1.2660\tlove           \n",
      "\t-6.5520\trefund         \t\t\t\t-1.2782\tgood           \n",
      "\t-6.5403\tbuyer          \t\t\t\t-1.2852\tgreat          \n",
      "\t-6.4408\ttasteless      \t\t\t\t-1.4299\tflavor         \n",
      "\t-6.4408\tthrew          \t\t\t\t-1.4882\tone            \n",
      "\t-6.4303\tmate           \t\t\t\t-1.4883\tuse            \n",
      "\t-6.4303\toreo           \t\t\t\t-1.5357\ttri            \n",
      "\t-6.4303\tvomit          \t\t\t\t-1.5716\tproduct        \n",
      "\t-6.4200\tdiarrhea       \t\t\t\t-1.6446\tmake           \n",
      "\t-6.3996\tshame          \t\t\t\t-1.7058\tget            \n",
      "\t-6.3796\ttazo           \t\t\t\t-1.9043\tbuy            \n",
      "\t-6.3796\tworst          \t\t\t\t-1.9058\ttime           \n",
      "\t-6.3503\tcoke           \t\t\t\t-1.9401\tamazon         \n",
      "\t-6.3503\tdisgust        \t\t\t\t-1.9544\twould          \n",
      "\t-6.3407\tone star       \t\t\t\t-1.9575\tbest           \n",
      "\t-6.3407\tstarter        \t\t\t\t-1.9719\tfind           \n",
      "\t-6.3313\tearth best     \t\t\t\t-1.9863\trealli         \n",
      "\t-6.3034\txylitol        \t\t\t\t-2.0095\tprice          \n",
      "\t-6.2942\tketchup        \t\t\t\t-2.0271\tmuch           \n",
      "\t-6.2942\tunpleas        \t\t\t\t-2.0287\talso           \n",
      "\t-6.2942\twhite tea      \t\t\t\t-2.0556\teat            \n",
      "\t-6.2852\truin           \t\t\t\t-2.0801\tdont           \n",
      "\t-6.2762\ttrap           \t\t\t\t-2.0854\tlittl          \n",
      "\t-6.2585\tcacao          \t\t\t\t-2.1178\tstore          \n",
      "\t-6.2498\tbewar          \t\t\t\t-2.1441\torder          \n",
      "\t-6.2498\tnumi           \t\t\t\t-2.1451\twell           \n",
      "\t-6.2326\tpage           \t\t\t\t-2.1871\tfood           \n",
      "\t-6.2326\trip            \t\t\t\t-2.2065\teven           \n",
      "\t-6.2072\tcrema          \t\t\t\t-2.2192\tive            \n",
      "\t-6.2072\twafer          \t\t\t\t-2.2324\tcoffe          \n",
      "\t-6.1907\tsardin         \t\t\t\t-2.2718\trecommend      \n",
      "\t-6.1745\tsoy sauc       \t\t\t\t-2.2736\tbetter         \n",
      "\t-6.1745\tspit           \t\t\t\t-2.3130\ttea            \n",
      "\t-6.1585\tgross          \t\t\t\t-2.3321\tyear           \n",
      "\t-6.1506\tbelli          \t\t\t\t-2.3725\tday            \n",
      "\t-6.1506\tmarshmallow    \t\t\t\t-2.4112\tfound          \n",
      "\t-6.1506\trooibo         \t\t\t\t-2.4138\thigh           \n",
      "\t-6.1427\tdont buy       \t\t\t\t-2.4433\tdelici         \n",
      "\t-6.1427\twhite chocol   \t\t\t\t-2.4515\tbag            \n",
      "\t-6.1349\tsometh els     \t\t\t\t-2.4593\tmix            \n",
      "\t-6.1272\thot cocoa      \t\t\t\t-2.4634\tfirst          \n",
      "\t-6.1272\tpill pocket    \t\t\t\t-2.4634\tdrink          \n",
      "\t-6.1119\tartifici flavor\t\t\t\t-2.4703\tsweet          \n",
      "\t-6.1119\tpud            \t\t\t\t-2.4880\tgive           \n",
      "\t-6.1044\tcola           \t\t\t\t-2.4910\twant           \n",
      "\t-6.1044\thydrogen       \t\t\t\t-2.5096\tenjoy          \n",
      "\t-6.0969\tleak           \t\t\t\t-2.5235\tlook           \n",
      "\t-6.0969\tsmell tast     \t\t\t\t-2.5330\tfavorit        \n"
     ]
    }
   ],
   "source": [
    "show_most_informative_features(tfidf,bb)"
   ]
  },
  {
   "cell_type": "code",
   "execution_count": 2,
   "metadata": {
    "_uuid": "0ea3a1eb5d16675f080be988aa429f7f8e92346d"
   },
   "outputs": [
    {
     "name": "stdout",
     "output_type": "stream",
     "text": [
      "+---------------+-------------------------+-------+----------------+----------------+\n",
      "| Featurization |          Model          | Alpha | F1 score(in %) | Accuracy(in %) |\n",
      "+---------------+-------------------------+-------+----------------+----------------+\n",
      "|  Bag of Words | Multinomial Naive Bayes |  0.05 |      86.2      |      86.2      |\n",
      "|  Bag of Words |   Bernolli Naive Bayes  | 0.001 |      88.2      |      88.2      |\n",
      "|     TF-IDF    | Multinomial Naive Bayes |  0.01 |      86.3      |     86.25      |\n",
      "|     TF-IDF    |   Bernolli Naive Bayes  |  0.05 |      88.2      |     88.22      |\n",
      "+---------------+-------------------------+-------+----------------+----------------+\n"
     ]
    }
   ],
   "source": [
    "from prettytable import PrettyTable\n",
    "x=PrettyTable()\n",
    "x.field_names=[\"Featurization\",\"Model\",\"Alpha\",\"F1 score(in %)\",\"Accuracy(in %)\"]\n",
    "x.add_row([\"Bag of Words\", \"Multinomial Naive Bayes\", 0.05,86.2,86.2])\n",
    "x.add_row([\"Bag of Words\", \"Bernolli Naive Bayes\", 0.001,88.2,88.2])\n",
    "x.add_row([\"TF-IDF\", \"Multinomial Naive Bayes\", 0.01,86.3,86.25])\n",
    "x.add_row([\"TF-IDF\", \"Bernolli Naive Bayes\", 0.05,88.2,88.22])\n",
    "\n",
    "print(x)"
   ]
  },
  {
   "cell_type": "markdown",
   "metadata": {
    "_uuid": "0bdd55ff7a05ed4d2cc7d48af78f2655f1222107"
   },
   "source": [
    "# Conclusion\n",
    "1. The results in terms of accuracy and f1 score, we see that Bernolli Naive Bayes perform well in both featurization techniques (Bag of Words and TF-IDF) with alpha values being same for three featurization(BOW, TF-IDF, TF-IDF) and different only for one(BOW in Bernolli Naive Bayes).\n",
    "\n",
    "2. The accuracy of the model is better for TF-IDF because the we take Uni-gram and Bi-gram as features and give weights to a feature depending on its occurence.\n",
    "\n",
    "3. Bernolli Naive Bayes performs well because it counts the occurence of features and also the non occurence of words. \n",
    "\n",
    "I choose Multinomial Naive Bayes and Bernolli Naive Bayes because both are very good for predicting a particular class by counting the occurence of feature/features and non occuring of the feature/features, where Multinomial Naive Bayes counts the frequency for occurence of multiple feature and Bernolli Naive Bayes counts the occurence of a single feature and counts for the same feature that do not occur."
   ]
  },
  {
   "cell_type": "code",
   "execution_count": null,
   "metadata": {
    "_uuid": "d45177f934e8209b0686a6b3aba3a4b9865d0d34"
   },
   "outputs": [],
   "source": []
  }
 ],
 "metadata": {
  "kernelspec": {
   "display_name": "Python 3",
   "language": "python",
   "name": "python3"
  },
  "language_info": {
   "codemirror_mode": {
    "name": "ipython",
    "version": 3
   },
   "file_extension": ".py",
   "mimetype": "text/x-python",
   "name": "python",
   "nbconvert_exporter": "python",
   "pygments_lexer": "ipython3",
   "version": "3.6.5"
  }
 },
 "nbformat": 4,
 "nbformat_minor": 1
}
