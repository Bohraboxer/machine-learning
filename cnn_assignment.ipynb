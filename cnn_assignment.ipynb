{
 "cells": [
  {
   "cell_type": "code",
   "execution_count": 3,
   "metadata": {
    "colab": {
     "base_uri": "https://localhost:8080/",
     "height": 34
    },
    "colab_type": "code",
    "id": "iA_nukExi9IQ",
    "outputId": "6a0bb675-3ab0-4ffe-f39a-7c879fabe14a"
   },
   "outputs": [
    {
     "name": "stderr",
     "output_type": "stream",
     "text": [
      "Using TensorFlow backend.\n"
     ]
    }
   ],
   "source": [
    "#importing necessary packages\n",
    "\n",
    "from __future__ import print_function\n",
    "import keras\n",
    "from keras.datasets import mnist\n",
    "from keras.models import Sequential\n",
    "from keras.layers import Dense, Dropout, Flatten\n",
    "from keras.layers import Conv2D, MaxPooling2D\n",
    "from keras import backend as K\n",
    "from keras.layers.normalization import BatchNormalization"
   ]
  },
  {
   "cell_type": "code",
   "execution_count": 0,
   "metadata": {
    "colab": {},
    "colab_type": "code",
    "id": "1HCycc9gjMcW"
   },
   "outputs": [],
   "source": [
    "#initializing few parameters\n",
    "\n",
    "batch_size = 128\n",
    "num_classes = 10\n",
    "epochs = 15"
   ]
  },
  {
   "cell_type": "code",
   "execution_count": 5,
   "metadata": {
    "colab": {
     "base_uri": "https://localhost:8080/",
     "height": 52
    },
    "colab_type": "code",
    "id": "-G1jX7Ywk8BP",
    "outputId": "e1345c27-dc80-4290-8c7d-605070825baf"
   },
   "outputs": [
    {
     "name": "stdout",
     "output_type": "stream",
     "text": [
      "Downloading data from https://s3.amazonaws.com/img-datasets/mnist.npz\n",
      "11493376/11490434 [==============================] - 0s 0us/step\n"
     ]
    }
   ],
   "source": [
    "# input image dimensions\n",
    "img_rows, img_cols = 28, 28\n",
    "\n",
    "# splitting of images between train and test sets\n",
    "(x_train, y_train), (x_test, y_test) = mnist.load_data()\n",
    "\n"
   ]
  },
  {
   "cell_type": "code",
   "execution_count": 6,
   "metadata": {
    "colab": {
     "base_uri": "https://localhost:8080/",
     "height": 70
    },
    "colab_type": "code",
    "id": "8dJSEgGalGW_",
    "outputId": "2f98f053-ffe5-40fe-eb94-0f520a911efc"
   },
   "outputs": [
    {
     "name": "stdout",
     "output_type": "stream",
     "text": [
      "x_train shape: (60000, 28, 28, 1)\n",
      "60000 train samples\n",
      "10000 test samples\n"
     ]
    }
   ],
   "source": [
    "# condition to see what format the data is in (channels_first or channels_last)\n",
    "#Normalzinz the data by dividing it by 255\n",
    "\n",
    "if K.image_data_format() == 'channels_first':\n",
    "    x_train = x_train.reshape(x_train.shape[0], 1, img_rows, img_cols)\n",
    "    x_test = x_test.reshape(x_test.shape[0], 1, img_rows, img_cols)\n",
    "    input_shape = (1, img_rows, img_cols)\n",
    "else:\n",
    "    x_train = x_train.reshape(x_train.shape[0], img_rows, img_cols, 1)\n",
    "    x_test = x_test.reshape(x_test.shape[0], img_rows, img_cols, 1)\n",
    "    input_shape = (img_rows, img_cols, 1)\n",
    "\n",
    "x_train = x_train.astype('float32')\n",
    "x_test = x_test.astype('float32')\n",
    "x_train /= 255\n",
    "x_test /= 255\n",
    "print('x_train shape:', x_train.shape)\n",
    "print(x_train.shape[0], 'train samples')\n",
    "print(x_test.shape[0], 'test samples')\n",
    "\n"
   ]
  },
  {
   "cell_type": "code",
   "execution_count": 0,
   "metadata": {
    "colab": {},
    "colab_type": "code",
    "id": "XqnzbkI3m7Y-"
   },
   "outputs": [],
   "source": [
    "# Converting the data into categorical form\n",
    "y_train = keras.utils.to_categorical(y_train, num_classes)\n",
    "y_test = keras.utils.to_categorical(y_test, num_classes)\n",
    "\n"
   ]
  },
  {
   "cell_type": "code",
   "execution_count": 0,
   "metadata": {
    "colab": {},
    "colab_type": "code",
    "id": "cLn0JT1PnGdi"
   },
   "outputs": [],
   "source": [
    "model = Sequential()\n",
    "#layer 1\n",
    "model.add(Conv2D(128, kernel_size=(3, 3),activation='relu',input_shape=input_shape))\n",
    "#layer 2\n",
    "model.add(Conv2D(64, (2, 2), activation='relu'))\n",
    "model.add(MaxPooling2D(pool_size=(3, 3)))\n",
    "#layer 3\n",
    "model.add(Conv2D(32, (1, 1), activation='relu'))\n",
    "model.add(MaxPooling2D(pool_size=(3, 3)))\n",
    "model.add(Dropout(0.4))\n",
    "model.add(Flatten())\n",
    "model.add(Dense(256, activation='relu'))\n",
    "model.add(BatchNormalization())\n",
    "model.add(Dense(num_classes, activation='softmax'))\n"
   ]
  },
  {
   "cell_type": "code",
   "execution_count": 9,
   "metadata": {
    "colab": {
     "base_uri": "https://localhost:8080/",
     "height": 603
    },
    "colab_type": "code",
    "id": "GiXnkA3RAwTH",
    "outputId": "65e9f9a5-d90c-4497-93fb-b2590b20fab9"
   },
   "outputs": [
    {
     "name": "stdout",
     "output_type": "stream",
     "text": [
      "Train on 60000 samples, validate on 10000 samples\n",
      "Epoch 1/15\n",
      "60000/60000 [==============================] - 320s 5ms/step - loss: 0.5113 - acc: 0.8359 - val_loss: 0.1482 - val_acc: 0.9555\n",
      "Epoch 2/15\n",
      "60000/60000 [==============================] - 316s 5ms/step - loss: 0.2817 - acc: 0.9091 - val_loss: 0.1364 - val_acc: 0.9569\n",
      "Epoch 3/15\n",
      "60000/60000 [==============================] - 316s 5ms/step - loss: 0.2363 - acc: 0.9245 - val_loss: 0.1129 - val_acc: 0.9653\n",
      "Epoch 4/15\n",
      "60000/60000 [==============================] - 315s 5ms/step - loss: 0.2122 - acc: 0.9315 - val_loss: 0.1125 - val_acc: 0.9641\n",
      "Epoch 5/15\n",
      "60000/60000 [==============================] - 316s 5ms/step - loss: 0.1958 - acc: 0.9364 - val_loss: 0.1252 - val_acc: 0.9609\n",
      "Epoch 6/15\n",
      "60000/60000 [==============================] - 316s 5ms/step - loss: 0.1816 - acc: 0.9415 - val_loss: 0.0941 - val_acc: 0.9693\n",
      "Epoch 7/15\n",
      "60000/60000 [==============================] - 316s 5ms/step - loss: 0.1714 - acc: 0.9446 - val_loss: 0.0883 - val_acc: 0.9725\n",
      "Epoch 8/15\n",
      "60000/60000 [==============================] - 316s 5ms/step - loss: 0.1600 - acc: 0.9481 - val_loss: 0.1010 - val_acc: 0.9675\n",
      "Epoch 9/15\n",
      "60000/60000 [==============================] - 316s 5ms/step - loss: 0.1557 - acc: 0.9497 - val_loss: 0.0788 - val_acc: 0.9747\n",
      "Epoch 10/15\n",
      "60000/60000 [==============================] - 316s 5ms/step - loss: 0.1510 - acc: 0.9513 - val_loss: 0.0776 - val_acc: 0.9760\n",
      "Epoch 11/15\n",
      "60000/60000 [==============================] - 315s 5ms/step - loss: 0.1461 - acc: 0.9529 - val_loss: 0.0686 - val_acc: 0.9797\n",
      "Epoch 12/15\n",
      "60000/60000 [==============================] - 316s 5ms/step - loss: 0.1434 - acc: 0.9535 - val_loss: 0.0711 - val_acc: 0.9771\n",
      "Epoch 13/15\n",
      "60000/60000 [==============================] - 318s 5ms/step - loss: 0.1402 - acc: 0.9545 - val_loss: 0.0731 - val_acc: 0.9771\n",
      "Epoch 14/15\n",
      "60000/60000 [==============================] - 316s 5ms/step - loss: 0.1335 - acc: 0.9563 - val_loss: 0.0710 - val_acc: 0.9784\n",
      "Epoch 15/15\n",
      "60000/60000 [==============================] - 316s 5ms/step - loss: 0.1323 - acc: 0.9569 - val_loss: 0.0717 - val_acc: 0.9778\n",
      "Test loss: 0.07173764968654141\n",
      "Test accuracy: 0.9778\n"
     ]
    }
   ],
   "source": [
    "model.compile(loss=keras.losses.categorical_crossentropy,\n",
    "              optimizer=keras.optimizers.Adadelta(),\n",
    "              metrics=['accuracy'])\n",
    "\n",
    "history=model.fit(x_train, y_train,\n",
    "          batch_size=batch_size,\n",
    "          epochs=epochs,\n",
    "          verbose=1,\n",
    "          validation_data=(x_test, y_test))\n",
    "score = model.evaluate(x_test, y_test, verbose=0)\n",
    "print('Test loss:', score[0])\n",
    "print('Test accuracy:', score[1])"
   ]
  },
  {
   "cell_type": "code",
   "execution_count": 0,
   "metadata": {
    "colab": {},
    "colab_type": "code",
    "id": "djtRuxUaBCHy"
   },
   "outputs": [],
   "source": [
    "import matplotlib.pyplot as plt\n",
    "import numpy as np\n",
    "import time\n",
    "# https://gist.github.com/greydanus/f6eee59eaf1d90fcb3b534a25362cea4\n",
    "# https://stackoverflow.com/a/14434334\n",
    "# this function is used to update the plots for each epoch and error\n",
    "def plt_dynamic(x, vy, ty, ax, colors=['b']):\n",
    "    ax.plot(x, vy, 'b', label=\"Validation Loss\")\n",
    "    ax.plot(x, ty, 'r', label=\"Train Loss\")\n",
    "    plt.legend()\n",
    "    plt.grid(True)\n",
    "    fig.canvas.draw()"
   ]
  },
  {
   "cell_type": "code",
   "execution_count": 11,
   "metadata": {
    "colab": {
     "base_uri": "https://localhost:8080/",
     "height": 361
    },
    "colab_type": "code",
    "id": "XfuoVnahBSPA",
    "outputId": "fa6289eb-aa8f-437c-fbe7-9a891da098f3"
   },
   "outputs": [
    {
     "data": {
      "image/png": "[encoded data removed]",
      "text/plain": [
       "<Figure size 576x396 with 1 Axes>"
      ]
     },
     "metadata": {
      "tags": []
     },
     "output_type": "display_data"
    }
   ],
   "source": [
    "fig,ax = plt.subplots(1,1)\n",
    "ax.set_xlabel('epoch') ; ax.set_ylabel('Categorical Crossentropy Loss')\n",
    "\n",
    "# list of epoch numbers\n",
    "x = list(range(1,epochs+1))\n",
    "\n",
    "\n",
    "vy = history.history['val_loss']\n",
    "ty = history.history['loss']\n",
    "plt_dynamic(x, vy, ty, ax)"
   ]
  },
  {
   "cell_type": "code",
   "execution_count": 12,
   "metadata": {
    "colab": {
     "base_uri": "https://localhost:8080/",
     "height": 870
    },
    "colab_type": "code",
    "id": "nWkSE8VuBfxO",
    "outputId": "ac6c0d43-2918-4018-baff-b0164db2936b"
   },
   "outputs": [
    {
     "name": "stdout",
     "output_type": "stream",
     "text": [
      "_________________________________________________________________\n",
      "Layer (type)                 Output Shape              Param #   \n",
      "=================================================================\n",
      "conv2d_4 (Conv2D)            (None, 24, 24, 8)         208       \n",
      "_________________________________________________________________\n",
      "max_pooling2d_3 (MaxPooling2 (None, 5, 5, 8)           0         \n",
      "_________________________________________________________________\n",
      "dropout_2 (Dropout)          (None, 5, 5, 8)           0         \n",
      "_________________________________________________________________\n",
      "conv2d_5 (Conv2D)            (None, 5, 5, 16)          3216      \n",
      "_________________________________________________________________\n",
      "max_pooling2d_4 (MaxPooling2 (None, 2, 2, 16)          0         \n",
      "_________________________________________________________________\n",
      "dropout_3 (Dropout)          (None, 2, 2, 16)          0         \n",
      "_________________________________________________________________\n",
      "conv2d_6 (Conv2D)            (None, 2, 2, 32)          12832     \n",
      "_________________________________________________________________\n",
      "max_pooling2d_5 (MaxPooling2 (None, 1, 1, 32)          0         \n",
      "_________________________________________________________________\n",
      "dropout_4 (Dropout)          (None, 1, 1, 32)          0         \n",
      "_________________________________________________________________\n",
      "conv2d_7 (Conv2D)            (None, 1, 1, 64)          51264     \n",
      "_________________________________________________________________\n",
      "max_pooling2d_6 (MaxPooling2 (None, 1, 1, 64)          0         \n",
      "_________________________________________________________________\n",
      "dropout_5 (Dropout)          (None, 1, 1, 64)          0         \n",
      "_________________________________________________________________\n",
      "conv2d_8 (Conv2D)            (None, 1, 1, 128)         204928    \n",
      "_________________________________________________________________\n",
      "max_pooling2d_7 (MaxPooling2 (None, 1, 1, 128)         0         \n",
      "_________________________________________________________________\n",
      "dropout_6 (Dropout)          (None, 1, 1, 128)         0         \n",
      "_________________________________________________________________\n",
      "flatten_2 (Flatten)          (None, 128)               0         \n",
      "_________________________________________________________________\n",
      "dense_3 (Dense)              (None, 256)               33024     \n",
      "_________________________________________________________________\n",
      "dropout_7 (Dropout)          (None, 256)               0         \n",
      "_________________________________________________________________\n",
      "batch_normalization_2 (Batch (None, 256)               1024      \n",
      "_________________________________________________________________\n",
      "dense_4 (Dense)              (None, 10)                2570      \n",
      "=================================================================\n",
      "Total params: 309,066\n",
      "Trainable params: 308,554\n",
      "Non-trainable params: 512\n",
      "_________________________________________________________________\n",
      "None\n"
     ]
    }
   ],
   "source": [
    "model = Sequential()\n",
    "#layer 1\n",
    "model.add(Conv2D(8, kernel_size=(5, 5),\n",
    "                 activation='relu',\n",
    "                 input_shape=input_shape))\n",
    "model.add(MaxPooling2D(pool_size=(5, 5),padding='same'))\n",
    "#layer 2\n",
    "model.add(Conv2D(16, (5, 5), activation='relu',padding='same'))\n",
    "model.add(MaxPooling2D(pool_size=(3, 3),padding='same'))\n",
    "model.add(Dropout(0.4))\n",
    "#layer 3\n",
    "model.add(Conv2D(32, (5, 5), activation='relu',padding='same'))\n",
    "model.add(MaxPooling2D(pool_size=(3, 3),padding='same'))\n",
    "#layer 4\n",
    "model.add(Conv2D(64, (5, 5), activation='relu',padding='same'))\n",
    "model.add(MaxPooling2D(pool_size=(3, 3),padding='same'))\n",
    "#layer 5\n",
    "model.add(Conv2D(128, (5, 5), activation='relu',padding='same'))\n",
    "model.add(MaxPooling2D(pool_size=(3, 3),padding='same'))\n",
    "\n",
    "model.add(Flatten())\n",
    "model.add(Dense(256, activation='relu'))\n",
    "model.add(Dropout(0.4))\n",
    "model.add(BatchNormalization())\n",
    "model.add(Dense(num_classes, activation='softmax'))\n",
    "\n",
    "print(model.summary())\n",
    "\n",
    "\n",
    "\n",
    "\n"
   ]
  },
  {
   "cell_type": "code",
   "execution_count": 13,
   "metadata": {
    "colab": {
     "base_uri": "https://localhost:8080/",
     "height": 567
    },
    "colab_type": "code",
    "id": "Pw9KdcSpIbQh",
    "outputId": "2e8a6f0d-2847-4ffe-aa34-cde2d5d3243b"
   },
   "outputs": [
    {
     "name": "stdout",
     "output_type": "stream",
     "text": [
      "Train on 60000 samples, validate on 10000 samples\n",
      "Epoch 1/15\n",
      "60000/60000 [==============================] - 62s 1ms/step - loss: 1.7458 - acc: 0.3110 - val_loss: 1.0759 - val_acc: 0.5946\n",
      "Epoch 2/15\n",
      "60000/60000 [==============================] - 61s 1ms/step - loss: 1.1669 - acc: 0.5635 - val_loss: 0.5746 - val_acc: 0.8371\n",
      "Epoch 3/15\n",
      "60000/60000 [==============================] - 61s 1ms/step - loss: 0.9234 - acc: 0.6890 - val_loss: 0.3768 - val_acc: 0.9074\n",
      "Epoch 4/15\n",
      "60000/60000 [==============================] - 61s 1ms/step - loss: 0.7669 - acc: 0.7557 - val_loss: 0.3058 - val_acc: 0.9265\n",
      "Epoch 5/15\n",
      "60000/60000 [==============================] - 61s 1ms/step - loss: 0.6934 - acc: 0.7898 - val_loss: 0.2495 - val_acc: 0.9417\n",
      "Epoch 6/15\n",
      "60000/60000 [==============================] - 61s 1ms/step - loss: 0.6441 - acc: 0.8106 - val_loss: 0.2222 - val_acc: 0.9449\n",
      "Epoch 7/15\n",
      "60000/60000 [==============================] - 61s 1ms/step - loss: 0.6153 - acc: 0.8215 - val_loss: 0.1931 - val_acc: 0.9497\n",
      "Epoch 8/15\n",
      "60000/60000 [==============================] - 61s 1ms/step - loss: 0.5864 - acc: 0.8319 - val_loss: 0.1951 - val_acc: 0.9504\n",
      "Epoch 9/15\n",
      "60000/60000 [==============================] - 61s 1ms/step - loss: 0.5702 - acc: 0.8379 - val_loss: 0.1903 - val_acc: 0.9540\n",
      "Epoch 10/15\n",
      "60000/60000 [==============================] - 61s 1ms/step - loss: 0.5577 - acc: 0.8413 - val_loss: 0.1854 - val_acc: 0.9556\n",
      "Epoch 11/15\n",
      "60000/60000 [==============================] - 61s 1ms/step - loss: 0.5346 - acc: 0.8505 - val_loss: 0.1713 - val_acc: 0.9573\n",
      "Epoch 12/15\n",
      "60000/60000 [==============================] - 61s 1ms/step - loss: 0.5358 - acc: 0.8513 - val_loss: 0.1792 - val_acc: 0.9552\n",
      "Epoch 13/15\n",
      "60000/60000 [==============================] - 61s 1ms/step - loss: 0.5289 - acc: 0.8517 - val_loss: 0.1812 - val_acc: 0.9555\n",
      "Epoch 14/15\n",
      "60000/60000 [==============================] - 61s 1ms/step - loss: 0.5174 - acc: 0.8568 - val_loss: 0.1654 - val_acc: 0.9582\n",
      "Epoch 15/15\n",
      "60000/60000 [==============================] - 61s 1ms/step - loss: 0.5087 - acc: 0.8599 - val_loss: 0.1808 - val_acc: 0.9552\n"
     ]
    }
   ],
   "source": [
    "# Compiling the model\n",
    "model.compile(optimizer='adam', loss='categorical_crossentropy', metrics=['accuracy'])\n",
    "\n",
    "# Fitting the data to the model\n",
    "history = model.fit(x_train, y_train,batch_size=batch_size,epochs=epochs,verbose=1,validation_data=(x_test, y_test))"
   ]
  },
  {
   "cell_type": "code",
   "execution_count": 14,
   "metadata": {
    "colab": {
     "base_uri": "https://localhost:8080/",
     "height": 52
    },
    "colab_type": "code",
    "id": "Z31CJ8wTMcsl",
    "outputId": "72add392-863f-4c8b-d306-557aadcd16b3"
   },
   "outputs": [
    {
     "name": "stdout",
     "output_type": "stream",
     "text": [
      "Test loss: 0.18077380894422532\n",
      "Test accuracy: 0.9552\n"
     ]
    }
   ],
   "source": [
    "score = model.evaluate(x_test, y_test, verbose=0)\n",
    "print('Test loss:', score[0])\n",
    "print('Test accuracy:', score[1])"
   ]
  },
  {
   "cell_type": "code",
   "execution_count": 15,
   "metadata": {
    "colab": {
     "base_uri": "https://localhost:8080/",
     "height": 396
    },
    "colab_type": "code",
    "id": "zlwY72wUMsEr",
    "outputId": "353f0006-8756-4176-dcb6-214aec698b7c"
   },
   "outputs": [
    {
     "name": "stdout",
     "output_type": "stream",
     "text": [
      "Test score: 0.18077380894422532\n",
      "Test accuracy: 0.9552\n"
     ]
    },
    {
     "data": {
      "image/png": "[encoded data removed]",
      "text/plain": [
       "<Figure size 576x396 with 1 Axes>"
      ]
     },
     "metadata": {
      "tags": []
     },
     "output_type": "display_data"
    }
   ],
   "source": [
    "score = model.evaluate(x_test, y_test, verbose=0) \n",
    "print('Test score:', score[0]) \n",
    "print('Test accuracy:', score[1])\n",
    "\n",
    "fig,ax = plt.subplots(1,1)\n",
    "ax.set_xlabel('epoch') ; ax.set_ylabel('Categorical Crossentropy Loss')\n",
    "\n",
    "# list of epoch numbers\n",
    "x = list(range(1,epochs+1))\n",
    "\n",
    "vy = history.history['val_loss']\n",
    "ty = history.history['loss']\n",
    "plt_dynamic(x, vy, ty, ax)"
   ]
  },
  {
   "cell_type": "code",
   "execution_count": 16,
   "metadata": {
    "colab": {
     "base_uri": "https://localhost:8080/",
     "height": 798
    },
    "colab_type": "code",
    "id": "G1lYv-cKUjcV",
    "outputId": "6c4a4b6e-2144-4621-f728-85b97225ef33"
   },
   "outputs": [
    {
     "name": "stdout",
     "output_type": "stream",
     "text": [
      "_________________________________________________________________\n",
      "Layer (type)                 Output Shape              Param #   \n",
      "=================================================================\n",
      "conv2d_9 (Conv2D)            (None, 28, 28, 8)         40        \n",
      "_________________________________________________________________\n",
      "conv2d_10 (Conv2D)           (None, 27, 27, 16)        528       \n",
      "_________________________________________________________________\n",
      "max_pooling2d_8 (MaxPooling2 (None, 14, 14, 16)        0         \n",
      "_________________________________________________________________\n",
      "conv2d_11 (Conv2D)           (None, 14, 14, 32)        2080      \n",
      "_________________________________________________________________\n",
      "max_pooling2d_9 (MaxPooling2 (None, 7, 7, 32)          0         \n",
      "_________________________________________________________________\n",
      "dropout_8 (Dropout)          (None, 7, 7, 32)          0         \n",
      "_________________________________________________________________\n",
      "conv2d_12 (Conv2D)           (None, 7, 7, 64)          8256      \n",
      "_________________________________________________________________\n",
      "conv2d_13 (Conv2D)           (None, 6, 6, 128)         32896     \n",
      "_________________________________________________________________\n",
      "max_pooling2d_10 (MaxPooling (None, 3, 3, 128)         0         \n",
      "_________________________________________________________________\n",
      "conv2d_14 (Conv2D)           (None, 3, 3, 256)         131328    \n",
      "_________________________________________________________________\n",
      "conv2d_15 (Conv2D)           (None, 2, 2, 512)         524800    \n",
      "_________________________________________________________________\n",
      "max_pooling2d_11 (MaxPooling (None, 1, 1, 512)         0         \n",
      "_________________________________________________________________\n",
      "dropout_9 (Dropout)          (None, 1, 1, 512)         0         \n",
      "_________________________________________________________________\n",
      "flatten_3 (Flatten)          (None, 512)               0         \n",
      "_________________________________________________________________\n",
      "dense_5 (Dense)              (None, 1024)              525312    \n",
      "_________________________________________________________________\n",
      "batch_normalization_3 (Batch (None, 1024)              4096      \n",
      "_________________________________________________________________\n",
      "dropout_10 (Dropout)         (None, 1024)              0         \n",
      "_________________________________________________________________\n",
      "dense_6 (Dense)              (None, 10)                10250     \n",
      "=================================================================\n",
      "Total params: 1,239,586\n",
      "Trainable params: 1,237,538\n",
      "Non-trainable params: 2,048\n",
      "_________________________________________________________________\n",
      "None\n"
     ]
    }
   ],
   "source": [
    "# Initialising the model\n",
    "model = Sequential()\n",
    "#layer 1\n",
    "model.add(Conv2D(8, kernel_size=(2,2), padding='same', activation='relu', input_shape=input_shape))\n",
    "#layer 2\n",
    "model.add(Conv2D(16, (2,2), activation='relu'))\n",
    "model.add(MaxPooling2D(pool_size=(2,2), padding='same'))\n",
    "#layer 3\n",
    "model.add(Conv2D(32, (2,2), padding='same', activation='relu'))\n",
    "model.add(MaxPooling2D(pool_size=(2,2), padding='same'))\n",
    "model.add(Dropout(0.4))\n",
    "#layer 4\n",
    "model.add(Conv2D(64, (2,2), padding='same', activation='relu'))\n",
    "#layer 5\n",
    "model.add(Conv2D(128, (2,2), activation='relu'))\n",
    "model.add(MaxPooling2D(pool_size=(2,2), padding='same'))\n",
    "#layer 6\n",
    "model.add(Conv2D(256, (2,2), padding='same', activation='relu'))\n",
    "#layer 7\n",
    "model.add(Conv2D(512, (2,2), activation='relu'))\n",
    "model.add(MaxPooling2D(pool_size=(2,2), padding='same'))\n",
    "model.add(Dropout(0.4))\n",
    "\n",
    "model.add(Flatten())\n",
    "model.add(Dense(1024, activation='relu'))\n",
    "model.add(BatchNormalization())\n",
    "model.add(Dropout(0.4))\n",
    "model.add(Dense(num_classes, activation='softmax'))\n",
    "\n",
    "print(model.summary())"
   ]
  },
  {
   "cell_type": "code",
   "execution_count": 17,
   "metadata": {
    "colab": {
     "base_uri": "https://localhost:8080/",
     "height": 567
    },
    "colab_type": "code",
    "id": "VH5xpBBwhZZI",
    "outputId": "2fcea643-3835-48d2-a686-d34be7d7af39"
   },
   "outputs": [
    {
     "name": "stdout",
     "output_type": "stream",
     "text": [
      "Train on 60000 samples, validate on 10000 samples\n",
      "Epoch 1/15\n",
      "60000/60000 [==============================] - 191s 3ms/step - loss: 0.4678 - acc: 0.8502 - val_loss: 0.1081 - val_acc: 0.9672\n",
      "Epoch 2/15\n",
      "60000/60000 [==============================] - 188s 3ms/step - loss: 0.1382 - acc: 0.9591 - val_loss: 0.0545 - val_acc: 0.9819\n",
      "Epoch 3/15\n",
      "60000/60000 [==============================] - 191s 3ms/step - loss: 0.0989 - acc: 0.9701 - val_loss: 0.1179 - val_acc: 0.9693\n",
      "Epoch 4/15\n",
      "60000/60000 [==============================] - 188s 3ms/step - loss: 0.0832 - acc: 0.9754 - val_loss: 0.0454 - val_acc: 0.9856\n",
      "Epoch 5/15\n",
      "60000/60000 [==============================] - 191s 3ms/step - loss: 0.0744 - acc: 0.9773 - val_loss: 0.0513 - val_acc: 0.9856\n",
      "Epoch 6/15\n",
      "60000/60000 [==============================] - 195s 3ms/step - loss: 0.0667 - acc: 0.9800 - val_loss: 0.0400 - val_acc: 0.9888\n",
      "Epoch 7/15\n",
      "60000/60000 [==============================] - 189s 3ms/step - loss: 0.0591 - acc: 0.9828 - val_loss: 0.0315 - val_acc: 0.9901\n",
      "Epoch 8/15\n",
      "60000/60000 [==============================] - 188s 3ms/step - loss: 0.0546 - acc: 0.9830 - val_loss: 0.0316 - val_acc: 0.9900\n",
      "Epoch 9/15\n",
      "60000/60000 [==============================] - 189s 3ms/step - loss: 0.0504 - acc: 0.9852 - val_loss: 0.0297 - val_acc: 0.9918\n",
      "Epoch 10/15\n",
      "60000/60000 [==============================] - 196s 3ms/step - loss: 0.0487 - acc: 0.9857 - val_loss: 0.0285 - val_acc: 0.9915\n",
      "Epoch 11/15\n",
      "60000/60000 [==============================] - 190s 3ms/step - loss: 0.0441 - acc: 0.9868 - val_loss: 0.0285 - val_acc: 0.9910\n",
      "Epoch 12/15\n",
      "60000/60000 [==============================] - 190s 3ms/step - loss: 0.0425 - acc: 0.9873 - val_loss: 0.0312 - val_acc: 0.9894\n",
      "Epoch 13/15\n",
      "60000/60000 [==============================] - 189s 3ms/step - loss: 0.0398 - acc: 0.9879 - val_loss: 0.0315 - val_acc: 0.9918\n",
      "Epoch 14/15\n",
      "60000/60000 [==============================] - 191s 3ms/step - loss: 0.0388 - acc: 0.9882 - val_loss: 0.0332 - val_acc: 0.9907\n",
      "Epoch 15/15\n",
      "60000/60000 [==============================] - 189s 3ms/step - loss: 0.0420 - acc: 0.9877 - val_loss: 0.0280 - val_acc: 0.9919\n"
     ]
    }
   ],
   "source": [
    "# Compiling the model\n",
    "model.compile(optimizer='adam', loss='categorical_crossentropy', metrics=['accuracy'])\n",
    "\n",
    "# Fitting the data to the model\n",
    "history = model.fit(x_train, y_train,batch_size=batch_size,epochs=epochs,verbose=1,validation_data=(x_test, y_test))"
   ]
  },
  {
   "cell_type": "code",
   "execution_count": 18,
   "metadata": {
    "colab": {
     "base_uri": "https://localhost:8080/",
     "height": 52
    },
    "colab_type": "code",
    "id": "6IWwKpUNhhnH",
    "outputId": "7e814940-abe6-4c12-9d2a-0273ac4bd928"
   },
   "outputs": [
    {
     "name": "stdout",
     "output_type": "stream",
     "text": [
      "Test loss: 0.028039084709129018\n",
      "Test accuracy: 0.9919\n"
     ]
    }
   ],
   "source": [
    "score = model.evaluate(x_test, y_test, verbose=0)\n",
    "print('Test loss:', score[0])\n",
    "print('Test accuracy:', score[1])"
   ]
  },
  {
   "cell_type": "code",
   "execution_count": 19,
   "metadata": {
    "colab": {
     "base_uri": "https://localhost:8080/",
     "height": 396
    },
    "colab_type": "code",
    "id": "QUQ0medLhj4t",
    "outputId": "8ddb437a-69f6-490d-c290-238265d6ae7f"
   },
   "outputs": [
    {
     "name": "stdout",
     "output_type": "stream",
     "text": [
      "Test score: 0.028039084709129018\n",
      "Test accuracy: 0.9919\n"
     ]
    },
    {
     "data": {
      "image/png": "[encoded data removed]",
      "text/plain": [
       "<Figure size 576x396 with 1 Axes>"
      ]
     },
     "metadata": {
      "tags": []
     },
     "output_type": "display_data"
    }
   ],
   "source": [
    "score = model.evaluate(x_test, y_test, verbose=0) \n",
    "print('Test score:', score[0]) \n",
    "print('Test accuracy:', score[1])\n",
    "\n",
    "fig,ax = plt.subplots(1,1)\n",
    "ax.set_xlabel('epoch') ; ax.set_ylabel('Categorical Crossentropy Loss')\n",
    "\n",
    "# list of epoch numbers\n",
    "x = list(range(1,epochs+1))\n",
    "\n",
    "vy = history.history['val_loss']\n",
    "ty = history.history['loss']\n",
    "plt_dynamic(x, vy, ty, ax)"
   ]
  },
  {
   "cell_type": "code",
   "execution_count": 1,
   "metadata": {
    "colab": {},
    "colab_type": "code",
    "id": "g0lU6UbXhmA9"
   },
   "outputs": [
    {
     "name": "stdout",
     "output_type": "stream",
     "text": [
      "\t\t\tConvolutional Neural Network \n",
      "+-----------------------------------------------+----------------+---------------+\n",
      "|                   MLP_MODEL                   | TRAIN_ACCURACY | TEST_ACCURACY |\n",
      "+-----------------------------------------------+----------------+---------------+\n",
      "| CNN with 3 conv layers and kernel size of 3*3 |     0.9569     |     0.9778    |\n",
      "| CNN with 5 conv layers and kernel size of 5*5 |     0.8599     |     0.9552    |\n",
      "| CNN with 7 conv layers and Kernel size of 2*2 |     0.9877     |     0.9919    |\n",
      "+-----------------------------------------------+----------------+---------------+\n"
     ]
    }
   ],
   "source": [
    "from prettytable import PrettyTable    \n",
    "x = PrettyTable()\n",
    " \n",
    "x.field_names = [\"MLP_MODEL\", \"TRAIN_ACCURACY\", \"TEST_ACCURACY\"]\n",
    "\n",
    "x.add_row([\"CNN with 3 conv layers and kernel size of 3*3\", 0.9569, 0.9778])\n",
    "x.add_row([\"CNN with 5 conv layers and kernel size of 5*5\", 0.8599, 0.9552])\n",
    "x.add_row([\"CNN with 7 conv layers and Kernel size of 2*2\", 0.9877, 0.9919])\n",
    "\n",
    "print('\\t\\t\\tConvolutional Neural Network ')\n",
    "print(x)"
   ]
  },
  {
   "cell_type": "markdown",
   "metadata": {},
   "source": [
    "# Observation\n",
    "\n",
    "1) CNN works bettre for images related data and the number of epochs taken to get the best accuracy is comparatively lower than epochs in MLP.\n",
    "\n",
    "2) In the above CNN architecture the model network with 7 conv. layers gave the best accuracy of 99.19% for test data."
   ]
  },
  {
   "cell_type": "code",
   "execution_count": null,
   "metadata": {},
   "outputs": [],
   "source": []
  }
 ],
 "metadata": {
  "colab": {
   "collapsed_sections": [],
   "name": "cnn_assignment.ipynb",
   "provenance": [],
   "version": "0.3.2"
  },
  "kernelspec": {
   "display_name": "Python 3",
   "language": "python",
   "name": "python3"
  },
  "language_info": {
   "codemirror_mode": {
    "name": "ipython",
    "version": 3
   },
   "file_extension": ".py",
   "mimetype": "text/x-python",
   "name": "python",
   "nbconvert_exporter": "python",
   "pygments_lexer": "ipython3",
   "version": "3.6.5"
  }
 },
 "nbformat": 4,
 "nbformat_minor": 1
}
